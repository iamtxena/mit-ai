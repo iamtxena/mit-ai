{
  "cells": [
    {
      "cell_type": "markdown",
      "metadata": {
        "id": "Q91KqmCRu64D"
      },
      "source": [
        "# **Deep Learning Project: Street View Housing Number Digit Recognition**\n",
        "\n",
        "# **Marks: 60**\n",
        "\n",
        "---\n",
        "\n",
        "## **Context**\n",
        "\n",
        "---\n",
        "\n",
        "One of the most interesting tasks in deep learning is to recognize objects in natural scenes. The ability to process visual information using machine learning algorithms can be very useful as demonstrated in various applications.\n",
        "\n",
        "The SVHN dataset contains over 600,000 labeled digits cropped from street-level photos. It is one of the most popular image recognition datasets. It has been used in neural networks created by Google to improve the map quality by automatically transcribing the address numbers from a patch of pixels. The transcribed number with a known street address helps pinpoint the location of the building it represents.\n",
        "\n",
        "---\n",
        "\n",
        "## **Objective**\n",
        "\n",
        "---\n",
        "\n",
        "Our objective is to predict the number depicted inside the image by using Artificial or Fully Connected Feed Forward Neural Networks and Convolutional Neural Networks. We will go through various models of each and finally select the one that is giving us the best performance.\n",
        "\n",
        "---\n",
        "\n",
        "## **Dataset**\n",
        "\n",
        "---\n",
        "\n",
        "Here, we will use a subset of the original data to save some computation time. The dataset is provided as a .h5 file. The basic preprocessing steps have been applied on the dataset.\n"
      ]
    },
    {
      "cell_type": "markdown",
      "metadata": {
        "id": "8z2Z7-OAs8QG"
      },
      "source": [
        "## **Mount the drive**\n",
        "\n",
        "Let us start by mounting the Google drive. You can run the below cell to mount the Google drive.\n"
      ]
    },
    {
      "cell_type": "code",
      "execution_count": 1,
      "metadata": {
        "colab": {
          "base_uri": "https://localhost:8080/"
        },
        "id": "03lDyQUuef7z",
        "outputId": "3109ae4a-3f2a-40de-8a05-d8b4b471f745"
      },
      "outputs": [
        {
          "name": "stdout",
          "output_type": "stream",
          "text": [
            "Mounted at /content/drive\n"
          ]
        }
      ],
      "source": [
        "# from google.colab import drive\n",
        "# drive.mount('/content/drive')"
      ]
    },
    {
      "cell_type": "markdown",
      "metadata": {
        "id": "C8U3DUa3eNsT"
      },
      "source": [
        "## **Importing the necessary libraries**\n"
      ]
    },
    {
      "cell_type": "code",
      "execution_count": 1,
      "metadata": {
        "id": "-dVzeuF3eQx1"
      },
      "outputs": [
        {
          "name": "stderr",
          "output_type": "stream",
          "text": [
            "2024-03-03 10:35:54.808210: E external/local_xla/xla/stream_executor/cuda/cuda_dnn.cc:9261] Unable to register cuDNN factory: Attempting to register factory for plugin cuDNN when one has already been registered\n",
            "2024-03-03 10:35:54.808229: E external/local_xla/xla/stream_executor/cuda/cuda_fft.cc:607] Unable to register cuFFT factory: Attempting to register factory for plugin cuFFT when one has already been registered\n",
            "2024-03-03 10:35:54.808762: E external/local_xla/xla/stream_executor/cuda/cuda_blas.cc:1515] Unable to register cuBLAS factory: Attempting to register factory for plugin cuBLAS when one has already been registered\n",
            "2024-03-03 10:35:54.811938: I tensorflow/core/platform/cpu_feature_guard.cc:182] This TensorFlow binary is optimized to use available CPU instructions in performance-critical operations.\n",
            "To enable the following instructions: AVX2 FMA, in other operations, rebuild TensorFlow with the appropriate compiler flags.\n",
            "2024-03-03 10:35:55.347062: W tensorflow/compiler/tf2tensorrt/utils/py_utils.cc:38] TF-TRT Warning: Could not find TensorRT\n"
          ]
        }
      ],
      "source": [
        "import numpy as np\n",
        "import pandas as pd\n",
        "import matplotlib.pyplot as plt\n",
        "import os\n",
        "import h5py  # for loading our data in h5 format\n",
        "import random\n",
        "\n",
        "# For Data Visualization\n",
        "import cv2\n",
        "import seaborn as sns\n",
        "\n",
        "# For Model Building\n",
        "import tensorflow as tf\n",
        "import keras\n",
        "\n",
        "# Sequential API for sequential model\n",
        "from tensorflow.keras.models import Sequential, Model\n",
        "\n",
        "# Importing different layers\n",
        "from tensorflow.keras.layers import Dense, Dropout, Flatten\n",
        "from tensorflow.keras.layers import Conv2D, MaxPooling2D, BatchNormalization, Activation, Input, LeakyReLU, Activation\n",
        "from tensorflow.keras import backend\n",
        "from tensorflow.keras.utils import to_categorical  # To perform one-hot encoding\n",
        "\n",
        "# Optimizers for optimizing the model\n",
        "from tensorflow.keras.optimizers import Adam\n",
        "from tensorflow.keras import optimizers\n",
        "from tensorflow.keras.preprocessing.image import load_img\n",
        "from sklearn.metrics import classification_report\n",
        "from sklearn.metrics import confusion_matrix"
      ]
    },
    {
      "cell_type": "markdown",
      "metadata": {
        "id": "ucnevGLoyKf_"
      },
      "source": [
        "**Let us check the version of tensorflow.**\n"
      ]
    },
    {
      "cell_type": "code",
      "execution_count": 2,
      "metadata": {
        "colab": {
          "base_uri": "https://localhost:8080/"
        },
        "id": "W5as47YxyJVk",
        "outputId": "6e4b7ffa-d1e0-4a74-e935-1310cd746880"
      },
      "outputs": [
        {
          "name": "stdout",
          "output_type": "stream",
          "text": [
            "2.15.0\n"
          ]
        }
      ],
      "source": [
        "print(tf.__version__)"
      ]
    },
    {
      "cell_type": "code",
      "execution_count": 3,
      "metadata": {},
      "outputs": [
        {
          "name": "stdout",
          "output_type": "stream",
          "text": [
            "Num GPUs Available:  1\n"
          ]
        },
        {
          "name": "stderr",
          "output_type": "stream",
          "text": [
            "2024-03-03 10:36:57.367252: I external/local_xla/xla/stream_executor/cuda/cuda_executor.cc:901] successful NUMA node read from SysFS had negative value (-1), but there must be at least one NUMA node, so returning NUMA node zero. See more at https://github.com/torvalds/linux/blob/v6.0/Documentation/ABI/testing/sysfs-bus-pci#L344-L355\n",
            "2024-03-03 10:36:57.383834: I external/local_xla/xla/stream_executor/cuda/cuda_executor.cc:901] successful NUMA node read from SysFS had negative value (-1), but there must be at least one NUMA node, so returning NUMA node zero. See more at https://github.com/torvalds/linux/blob/v6.0/Documentation/ABI/testing/sysfs-bus-pci#L344-L355\n",
            "2024-03-03 10:36:57.383991: I external/local_xla/xla/stream_executor/cuda/cuda_executor.cc:901] successful NUMA node read from SysFS had negative value (-1), but there must be at least one NUMA node, so returning NUMA node zero. See more at https://github.com/torvalds/linux/blob/v6.0/Documentation/ABI/testing/sysfs-bus-pci#L344-L355\n"
          ]
        }
      ],
      "source": [
        "print(\"Num GPUs Available: \", len(tf.config.experimental.list_physical_devices(\"GPU\")))"
      ]
    },
    {
      "cell_type": "markdown",
      "metadata": {
        "id": "8lsux2ZwyTTR"
      },
      "source": [
        "## **Load the dataset**\n",
        "\n",
        "- Let us now load the dataset that is available as a .h5 file.\n",
        "- Split the data into the train and the test dataset.\n"
      ]
    },
    {
      "cell_type": "code",
      "execution_count": 4,
      "metadata": {
        "colab": {
          "base_uri": "https://localhost:8080/"
        },
        "id": "BApX9qgNsqV0",
        "outputId": "a567138d-ed31-4476-cf44-076bbc1aa155",
        "scrolled": true
      },
      "outputs": [
        {
          "name": "stdout",
          "output_type": "stream",
          "text": [
            "Keys in the file: ['X_test', 'X_train', 'X_val', 'y_test', 'y_train', 'y_val']\n",
            "Shape of X_test: (18000, 32, 32)\n",
            "Shape of X_train: (42000, 32, 32)\n",
            "Shape of X_val: (60000, 32, 32)\n",
            "Shape of y_test: (18000,)\n",
            "Shape of y_train: (42000,)\n",
            "Shape of y_val: (60000,)\n"
          ]
        }
      ],
      "source": [
        "# Path to the dataset\n",
        "# file_path = \"/content/drive/MyDrive/Studies/MIT-AI-ML/10. Elective Project/Deep Learning/SVHN_single_grey1.h5\"\n",
        "\n",
        "file_path = \"/home/iamtxena/sandbox/mit-ai/elective/SVHN_single_grey1.h5\"\n",
        "# We first open the file and explore the keys\n",
        "with h5py.File(file_path, \"r\") as h5_file:\n",
        "    # Print the keys in the file\n",
        "    print(\"Keys in the file:\", list(h5_file.keys()))\n",
        "    # We also explore the shape of datasets\n",
        "    for key in h5_file.keys():\n",
        "        print(f\"Shape of {key}: {h5_file[key].shape}\")"
      ]
    },
    {
      "cell_type": "code",
      "execution_count": 5,
      "metadata": {
        "id": "lKT91E41LiPT"
      },
      "outputs": [],
      "source": [
        "# Now, we now the correct keys and we can load correctly the dataset and get the train, validation and test data\n",
        "with h5py.File(file_path, \"r\") as h5_file:\n",
        "    X_train = h5_file[\"X_train\"][:]\n",
        "    Y_train = h5_file[\"y_train\"][:]\n",
        "    X_val = h5_file[\"X_val\"][:]\n",
        "    Y_val = h5_file[\"y_val\"][:]\n",
        "    X_test = h5_file[\"X_test\"][:]\n",
        "    Y_test = h5_file[\"y_test\"][:]"
      ]
    },
    {
      "cell_type": "markdown",
      "metadata": {
        "id": "hVe0CYpUgj7w"
      },
      "source": [
        "Check the number of images in the training and the testing dataset.\n"
      ]
    },
    {
      "cell_type": "code",
      "execution_count": 6,
      "metadata": {
        "colab": {
          "base_uri": "https://localhost:8080/"
        },
        "id": "y3lwKpOefkpA",
        "outputId": "735c7c07-8626-4747-9d6b-bbe6c9b2e1ec"
      },
      "outputs": [
        {
          "name": "stdout",
          "output_type": "stream",
          "text": [
            "Number of images in the training dataset: 42,000\n",
            "Number of images in the testing dataset: 18,000\n"
          ]
        }
      ],
      "source": [
        "num_train_images = X_train.shape[0]  # Number of training images\n",
        "num_test_images = X_test.shape[0]  # Number of testing images\n",
        "\n",
        "print(f\"Number of images in the training dataset: {num_train_images:,}\")\n",
        "print(f\"Number of images in the testing dataset: {num_test_images:,}\")"
      ]
    },
    {
      "cell_type": "markdown",
      "metadata": {
        "id": "akTUOfLlgwoM"
      },
      "source": [
        "**Observation:**\n",
        "\n",
        "- The dataset loaded from an HDF5 file contains multiple keys, including 'X_train', 'X_val', 'y_train', 'y_test', and 'y_val', which represent training, validation, and test datasets along with their respective labels.\n",
        "\n",
        "- The training data (X_train) consists of 42,000 grayscale images of shape 32x32, indicating that each image is 32 pixels in height and 32 pixels in width.\n",
        "- The test data (X_test) contains 18,000 images.\n"
      ]
    },
    {
      "cell_type": "markdown",
      "metadata": {
        "id": "kxODV6HKykuc"
      },
      "source": [
        "## **Visualizing images**\n",
        "\n",
        "- Use X_train to visualize the first 10 images.\n",
        "- Use Y_train to print the first 10 labels.\n"
      ]
    },
    {
      "cell_type": "code",
      "execution_count": 7,
      "metadata": {
        "colab": {
          "base_uri": "https://localhost:8080/",
          "height": 413
        },
        "id": "Bvsc8ytHsqWD",
        "outputId": "4318dee1-6336-402d-c645-195f853a9a1c"
      },
      "outputs": [
        {
          "data": {
            "image/png": "[encoded data removed]",
            "text/plain": [
              "<Figure size 1000x400 with 10 Axes>"
            ]
          },
          "metadata": {},
          "output_type": "display_data"
        }
      ],
      "source": [
        "# Create a figure and set of subplots\n",
        "fig, axes = plt.subplots(2, 5, figsize=(10, 4))  # 2 rows, 5 columns\n",
        "fig.suptitle(\"Visualizing the first 10 images in X_train\", fontsize=16, y=1.05)\n",
        "\n",
        "# Visualize the first 10 images and their labels in two rows\n",
        "for i, ax in enumerate(axes.flat):\n",
        "    ax.imshow(X_train[i], cmap=\"gray\")  # Display each image in grayscale\n",
        "    # Set the title with padding to create space\n",
        "    ax.set_title(Y_train[i], pad=15)\n",
        "    ax.axis(\"off\")  # Hide the axes\n",
        "\n",
        "# Adjust layout to make room for the figure title and subplot titles\n",
        "plt.subplots_adjust(hspace=0.5)\n",
        "\n",
        "plt.show()"
      ]
    },
    {
      "cell_type": "markdown",
      "metadata": {
        "id": "kzoyeXHOy80N"
      },
      "source": [
        "## **Data preparation**\n",
        "\n",
        "- Print the shape and the array of pixels for the first image in the training dataset.\n",
        "- Normalize the train and the test dataset by dividing by 255.\n",
        "- Print the new shapes of the train and the test dataset.\n",
        "- One-hot encode the target variable.\n"
      ]
    },
    {
      "cell_type": "code",
      "execution_count": 8,
      "metadata": {
        "colab": {
          "base_uri": "https://localhost:8080/"
        },
        "id": "NqndzQXng9rL",
        "outputId": "49660b05-199a-4f72-9617-bbf294e8879e"
      },
      "outputs": [
        {
          "name": "stdout",
          "output_type": "stream",
          "text": [
            "Shape of the first image: (32, 32)\n",
            "\n",
            "Array of pixels for the first image:\n",
            " [[ 33.0704  30.2601  26.852  ...  71.4471  58.2204  42.9939]\n",
            " [ 25.2283  25.5533  29.9765 ... 113.0209 103.3639  84.2949]\n",
            " [ 26.2775  22.6137  40.4763 ... 113.3028 121.775  115.4228]\n",
            " ...\n",
            " [ 28.5502  36.212   45.0801 ...  24.1359  25.0927  26.0603]\n",
            " [ 38.4352  26.4733  23.2717 ...  28.1094  29.4683  30.0661]\n",
            " [ 50.2984  26.0773  24.0389 ...  49.6682  50.853   53.0377]]\n"
          ]
        }
      ],
      "source": [
        "# Print the shape of the first image in X_train\n",
        "print(\"Shape of the first image:\", X_train[0].shape)\n",
        "\n",
        "# Print the array of pixels for the first image in X_train\n",
        "print(\"\\nArray of pixels for the first image:\\n\", X_train[0])"
      ]
    },
    {
      "cell_type": "markdown",
      "metadata": {
        "id": "f4CQkKtQ0XII"
      },
      "source": [
        "### **Normalize the train and the test data**\n"
      ]
    },
    {
      "cell_type": "code",
      "execution_count": 9,
      "metadata": {
        "id": "q_yUUTp_mUzB"
      },
      "outputs": [],
      "source": [
        "# Normalizing the image pixels\n",
        "X_train_normalized = X_train / 255\n",
        "X_test_normalized = X_test / 255"
      ]
    },
    {
      "cell_type": "code",
      "execution_count": 10,
      "metadata": {
        "colab": {
          "base_uri": "https://localhost:8080/"
        },
        "id": "detg7SxMQkMx",
        "outputId": "6354d151-90e1-4ca1-f210-2b2513a80f52"
      },
      "outputs": [
        {
          "name": "stdout",
          "output_type": "stream",
          "text": [
            "\n",
            "Array of pixels for the first image in X_train_normalized:\n",
            " [[0.12968785 0.11866706 0.10530196 ... 0.2801847  0.2283153  0.16860352]\n",
            " [0.09893451 0.10020902 0.1175549  ... 0.4432192  0.40534863 0.33056822]\n",
            " [0.10304902 0.08868118 0.15873058 ... 0.44432473 0.47754902 0.45263842]\n",
            " ...\n",
            " [0.11196157 0.14200786 0.17678471 ... 0.09465059 0.09840274 0.10219726]\n",
            " [0.15072627 0.10381687 0.09126157 ... 0.11023294 0.11556196 0.11790627]\n",
            " [0.19724864 0.10226392 0.0942702  ... 0.19477727 0.19942354 0.20799099]]\n",
            "\n",
            "Array of pixels for the first image in X_test_normalized:\n",
            " [[0.15905097 0.18349686 0.19206432 ... 0.43966785 0.44309962 0.43986115]\n",
            " [0.15465844 0.17369059 0.18500705 ... 0.43534195 0.43508825 0.4311247 ]\n",
            " [0.1507796  0.1711349  0.19101882 ... 0.4309494  0.43114275 0.42786196]\n",
            " ...\n",
            " [0.13720353 0.13910078 0.15555921 ... 0.42827842 0.4310094  0.44209644]\n",
            " [0.13984391 0.13939686 0.15811491 ... 0.43529335 0.43940786 0.4484043 ]\n",
            " [0.1419102  0.13890745 0.15960705 ... 0.43143883 0.4360851  0.44780627]]\n"
          ]
        }
      ],
      "source": [
        "# checking that data has been normalized\n",
        "# Print the array of pixels for the first image in X_train_normalized\n",
        "print(\"\\nArray of pixels for the first image in X_train_normalized:\\n\", X_train_normalized[0])\n",
        "# Print the array of pixels for the first image in X_test_normalized\n",
        "print(\"\\nArray of pixels for the first image in X_test_normalized:\\n\", X_test_normalized[0])"
      ]
    },
    {
      "cell_type": "markdown",
      "metadata": {
        "id": "YSlYN6pb8kMY"
      },
      "source": [
        "Print the shapes of Training and Test data\n"
      ]
    },
    {
      "cell_type": "code",
      "execution_count": 11,
      "metadata": {
        "colab": {
          "base_uri": "https://localhost:8080/"
        },
        "id": "t7FSqOpamWkH",
        "outputId": "ea95aeb9-49e6-4cfa-ca6a-3a427de7345b"
      },
      "outputs": [
        {
          "name": "stdout",
          "output_type": "stream",
          "text": [
            "Shape of normalized training data (features): (42000, 32, 32)\n",
            "Shape of normalized testing data (features): (18000, 32, 32)\n"
          ]
        }
      ],
      "source": [
        "# Print the shapes of the datasets\n",
        "print(\"Shape of normalized training data (features):\", X_train_normalized.shape)\n",
        "print(\"Shape of normalized testing data (features):\", X_test_normalized.shape)"
      ]
    },
    {
      "cell_type": "markdown",
      "metadata": {
        "id": "0uLxXBpz81vk"
      },
      "source": [
        "### **One-hot encode output**\n"
      ]
    },
    {
      "cell_type": "code",
      "execution_count": 12,
      "metadata": {
        "id": "zL0lYER4sqWw"
      },
      "outputs": [],
      "source": [
        "# Creating one-hot encoded representation of target labels\n",
        "Y_train_encoded = tf.keras.utils.to_categorical(Y_train)\n",
        "Y_test_encoded = tf.keras.utils.to_categorical(Y_test)"
      ]
    },
    {
      "cell_type": "markdown",
      "metadata": {
        "id": "ViqPOTquCF76"
      },
      "source": [
        "**Observation:**\n",
        "\n",
        "- The shape of the first image in the training dataset is confirmed to be 32x32, and a sample of the pixel array is printed, showing the raw pixel values before normalization.\n",
        "- The normalization of the training and test datasets is performed correctly by dividing by 255, effectively scaling the pixel values to the range [0, 1]\n",
        "- And finally, we implement the one-hot encoding of the target variable, so it can be treated as categorical.\n"
      ]
    },
    {
      "cell_type": "markdown",
      "metadata": {
        "id": "yH-gVrzuByNA"
      },
      "source": [
        "## **Model Building**\n",
        "\n",
        "Now that we have done the data preprocessing, let's build an ANN model.\n",
        "\n",
        "### Fix the seed for random number generators\n"
      ]
    },
    {
      "cell_type": "code",
      "execution_count": 13,
      "metadata": {
        "id": "BcKRwrGn0XIL"
      },
      "outputs": [],
      "source": [
        "np.random.seed(42)\n",
        "random.seed(42)\n",
        "tf.random.set_seed(42)"
      ]
    },
    {
      "cell_type": "markdown",
      "metadata": {
        "id": "UJDUoaEj1d6e"
      },
      "source": [
        "### **Model Architecture**\n",
        "\n",
        "- Write a function that returns a sequential model with the following architecture:\n",
        "- First hidden layer with **64 nodes and the relu activation** and the **input shape = (1024, )**\n",
        "- Second hidden layer with **32 nodes and the relu activation**\n",
        "- Output layer with **activation as 'softmax' and number of nodes equal to the number of classes, i.e., 10**\n",
        "- Compile the model with the **loss equal to categorical_crossentropy, optimizer equal to Adam(learning_rate = 0.001), and metric equal to 'accuracy'**. Do not fit the model here, just return the compiled model.\n",
        "- Call the nn_model_1 function and store the model in a new variable.\n",
        "- Print the summary of the model.\n",
        "- Fit on the train data with a **validation split of 0.2, batch size = 128, verbose = 1, and epochs = 20**. Store the model building history to use later for visualization.\n"
      ]
    },
    {
      "cell_type": "markdown",
      "metadata": {
        "id": "A48z6ucF0XIP"
      },
      "source": [
        "### **Build and train an ANN model as per the above mentioned architecture.**\n"
      ]
    },
    {
      "cell_type": "code",
      "execution_count": 14,
      "metadata": {
        "colab": {
          "base_uri": "https://localhost:8080/"
        },
        "id": "Cmi81Gr5sqW-",
        "outputId": "9f46942a-6b06-4ac3-a7b3-6e6ba2f987dc"
      },
      "outputs": [
        {
          "name": "stdout",
          "output_type": "stream",
          "text": [
            "Model: \"sequential\"\n",
            "_________________________________________________________________\n",
            " Layer (type)                Output Shape              Param #   \n",
            "=================================================================\n",
            " flatten (Flatten)           (None, 1024)              0         \n",
            "                                                                 \n",
            " dense (Dense)               (None, 62)                63550     \n",
            "                                                                 \n",
            " dense_1 (Dense)             (None, 32)                2016      \n",
            "                                                                 \n",
            " dense_2 (Dense)             (None, 10)                330       \n",
            "                                                                 \n",
            "=================================================================\n",
            "Total params: 65896 (257.41 KB)\n",
            "Trainable params: 65896 (257.41 KB)\n",
            "Non-trainable params: 0 (0.00 Byte)\n",
            "_________________________________________________________________\n"
          ]
        },
        {
          "name": "stderr",
          "output_type": "stream",
          "text": [
            "2024-03-03 10:41:59.955860: I external/local_xla/xla/stream_executor/cuda/cuda_executor.cc:901] successful NUMA node read from SysFS had negative value (-1), but there must be at least one NUMA node, so returning NUMA node zero. See more at https://github.com/torvalds/linux/blob/v6.0/Documentation/ABI/testing/sysfs-bus-pci#L344-L355\n",
            "2024-03-03 10:41:59.956018: I external/local_xla/xla/stream_executor/cuda/cuda_executor.cc:901] successful NUMA node read from SysFS had negative value (-1), but there must be at least one NUMA node, so returning NUMA node zero. See more at https://github.com/torvalds/linux/blob/v6.0/Documentation/ABI/testing/sysfs-bus-pci#L344-L355\n",
            "2024-03-03 10:41:59.956123: I external/local_xla/xla/stream_executor/cuda/cuda_executor.cc:901] successful NUMA node read from SysFS had negative value (-1), but there must be at least one NUMA node, so returning NUMA node zero. See more at https://github.com/torvalds/linux/blob/v6.0/Documentation/ABI/testing/sysfs-bus-pci#L344-L355\n",
            "2024-03-03 10:42:00.021422: I external/local_xla/xla/stream_executor/cuda/cuda_executor.cc:901] successful NUMA node read from SysFS had negative value (-1), but there must be at least one NUMA node, so returning NUMA node zero. See more at https://github.com/torvalds/linux/blob/v6.0/Documentation/ABI/testing/sysfs-bus-pci#L344-L355\n",
            "2024-03-03 10:42:00.021565: I external/local_xla/xla/stream_executor/cuda/cuda_executor.cc:901] successful NUMA node read from SysFS had negative value (-1), but there must be at least one NUMA node, so returning NUMA node zero. See more at https://github.com/torvalds/linux/blob/v6.0/Documentation/ABI/testing/sysfs-bus-pci#L344-L355\n",
            "2024-03-03 10:42:00.021671: I external/local_xla/xla/stream_executor/cuda/cuda_executor.cc:901] successful NUMA node read from SysFS had negative value (-1), but there must be at least one NUMA node, so returning NUMA node zero. See more at https://github.com/torvalds/linux/blob/v6.0/Documentation/ABI/testing/sysfs-bus-pci#L344-L355\n",
            "2024-03-03 10:42:00.021740: I tensorflow/core/common_runtime/gpu/gpu_device.cc:1929] Created device /job:localhost/replica:0/task:0/device:GPU:0 with 6272 MB memory:  -> device: 0, name: NVIDIA GeForce RTX 3070, pci bus id: 0000:06:00.0, compute capability: 8.6\n"
          ]
        }
      ],
      "source": [
        "nn_model_1 = Sequential(\n",
        "    [\n",
        "        # Adding Flatten layer to convert the 32x32 images into a 1D array of 1024\n",
        "        Flatten(input_shape=(32, 32)),\n",
        "        # First hidden layer with 64 nodes and relu activation\n",
        "        Dense(62, activation=\"relu\"),\n",
        "        # Second hidden layer with 32 nodes and relu activation\n",
        "        Dense(32, activation=\"relu\"),\n",
        "        # Output layer with softmax activation and 10 nodes (for 10 classes)\n",
        "        Dense(10, activation=\"softmax\"),\n",
        "    ]\n",
        ")\n",
        "\n",
        "# Compile model\n",
        "nn_model_1.compile(optimizer=Adam(learning_rate=0.001),\n",
        "                   loss=\"categorical_crossentropy\", metrics=[\"accuracy\"])\n",
        "\n",
        "# Generating the summary of the model\n",
        "nn_model_1.summary()"
      ]
    },
    {
      "cell_type": "code",
      "execution_count": 15,
      "metadata": {
        "colab": {
          "base_uri": "https://localhost:8080/"
        },
        "id": "lt77zgGMP4yw",
        "outputId": "4cb7f82f-c1ff-448e-fd06-749164132480"
      },
      "outputs": [
        {
          "name": "stdout",
          "output_type": "stream",
          "text": [
            "Epoch 1/20\n"
          ]
        },
        {
          "name": "stderr",
          "output_type": "stream",
          "text": [
            "2024-03-03 10:42:34.323121: I external/local_xla/xla/service/service.cc:168] XLA service 0x7f83d506d1b0 initialized for platform CUDA (this does not guarantee that XLA will be used). Devices:\n",
            "2024-03-03 10:42:34.323139: I external/local_xla/xla/service/service.cc:176]   StreamExecutor device (0): NVIDIA GeForce RTX 3070, Compute Capability 8.6\n",
            "2024-03-03 10:42:34.326565: I tensorflow/compiler/mlir/tensorflow/utils/dump_mlir_util.cc:269] disabling MLIR crash reproducer, set env var `MLIR_CRASH_REPRODUCER_DIRECTORY` to enable.\n",
            "2024-03-03 10:42:34.336917: I external/local_xla/xla/stream_executor/cuda/cuda_dnn.cc:454] Loaded cuDNN version 8904\n",
            "WARNING: All log messages before absl::InitializeLog() is called are written to STDERR\n",
            "I0000 00:00:1709462554.407007   70400 device_compiler.h:186] Compiled cluster using XLA!  This line is logged at most once for the lifetime of the process.\n"
          ]
        },
        {
          "name": "stdout",
          "output_type": "stream",
          "text": [
            "263/263 [==============================] - 1s 2ms/step - loss: 2.2899 - accuracy: 0.1192 - val_loss: 2.2310 - val_accuracy: 0.1650\n",
            "Epoch 2/20\n",
            "263/263 [==============================] - 0s 2ms/step - loss: 2.1432 - accuracy: 0.1750 - val_loss: 2.0807 - val_accuracy: 0.1977\n",
            "Epoch 3/20\n",
            "263/263 [==============================] - 0s 2ms/step - loss: 2.0474 - accuracy: 0.2013 - val_loss: 2.0111 - val_accuracy: 0.2101\n",
            "Epoch 4/20\n",
            "263/263 [==============================] - 0s 1ms/step - loss: 1.9927 - accuracy: 0.2251 - val_loss: 1.9760 - val_accuracy: 0.2236\n",
            "Epoch 5/20\n",
            "263/263 [==============================] - 0s 2ms/step - loss: 1.9565 - accuracy: 0.2345 - val_loss: 1.9349 - val_accuracy: 0.2370\n",
            "Epoch 6/20\n",
            "263/263 [==============================] - 0s 2ms/step - loss: 1.9309 - accuracy: 0.2472 - val_loss: 1.9289 - val_accuracy: 0.2374\n",
            "Epoch 7/20\n",
            "263/263 [==============================] - 0s 2ms/step - loss: 1.9110 - accuracy: 0.2591 - val_loss: 1.9385 - val_accuracy: 0.2600\n",
            "Epoch 8/20\n",
            "263/263 [==============================] - 0s 2ms/step - loss: 1.8989 - accuracy: 0.2647 - val_loss: 1.9082 - val_accuracy: 0.2654\n",
            "Epoch 9/20\n",
            "263/263 [==============================] - 0s 2ms/step - loss: 1.8707 - accuracy: 0.2811 - val_loss: 1.8593 - val_accuracy: 0.2920\n",
            "Epoch 10/20\n",
            "263/263 [==============================] - 0s 2ms/step - loss: 1.8572 - accuracy: 0.2899 - val_loss: 1.8381 - val_accuracy: 0.3019\n",
            "Epoch 11/20\n",
            "263/263 [==============================] - 0s 1ms/step - loss: 1.8396 - accuracy: 0.3009 - val_loss: 1.8529 - val_accuracy: 0.3029\n",
            "Epoch 12/20\n",
            "263/263 [==============================] - 0s 2ms/step - loss: 1.8352 - accuracy: 0.3070 - val_loss: 1.8390 - val_accuracy: 0.3135\n",
            "Epoch 13/20\n",
            "263/263 [==============================] - 0s 1ms/step - loss: 1.8134 - accuracy: 0.3218 - val_loss: 1.8048 - val_accuracy: 0.3277\n",
            "Epoch 14/20\n",
            "263/263 [==============================] - 0s 2ms/step - loss: 1.7976 - accuracy: 0.3328 - val_loss: 1.8019 - val_accuracy: 0.3301\n",
            "Epoch 15/20\n",
            "263/263 [==============================] - 0s 2ms/step - loss: 1.7825 - accuracy: 0.3446 - val_loss: 1.8037 - val_accuracy: 0.3323\n",
            "Epoch 16/20\n",
            "263/263 [==============================] - 0s 2ms/step - loss: 1.7715 - accuracy: 0.3529 - val_loss: 1.7937 - val_accuracy: 0.3444\n",
            "Epoch 17/20\n",
            "263/263 [==============================] - 0s 2ms/step - loss: 1.7532 - accuracy: 0.3621 - val_loss: 1.7564 - val_accuracy: 0.3660\n",
            "Epoch 18/20\n",
            "263/263 [==============================] - 0s 2ms/step - loss: 1.7406 - accuracy: 0.3716 - val_loss: 1.7416 - val_accuracy: 0.3677\n",
            "Epoch 19/20\n",
            "263/263 [==============================] - 0s 2ms/step - loss: 1.7260 - accuracy: 0.3800 - val_loss: 1.7250 - val_accuracy: 0.3818\n",
            "Epoch 20/20\n",
            "263/263 [==============================] - 0s 2ms/step - loss: 1.7193 - accuracy: 0.3829 - val_loss: 1.7225 - val_accuracy: 0.3820\n"
          ]
        }
      ],
      "source": [
        "history = nn_model_1.fit(\n",
        "    X_train_normalized, Y_train_encoded, epochs=20, validation_split=0.2, shuffle=True, batch_size=128, verbose=1\n",
        ")"
      ]
    },
    {
      "cell_type": "markdown",
      "metadata": {
        "id": "MeF8XSWz0XIU"
      },
      "source": [
        "### **Plot the Training and Validation Accuracies and write down your Observations.**\n"
      ]
    },
    {
      "cell_type": "code",
      "execution_count": 16,
      "metadata": {
        "colab": {
          "base_uri": "https://localhost:8080/",
          "height": 472
        },
        "id": "_ft9CtdCdDXT",
        "outputId": "e59762c3-2cfa-4f25-ed74-36a2b298b50d"
      },
      "outputs": [
        {
          "data": {
            "image/png": "[encoded data removed]",
            "text/plain": [
              "<Figure size 640x480 with 1 Axes>"
            ]
          },
          "metadata": {},
          "output_type": "display_data"
        }
      ],
      "source": [
        "plt.plot(history.history[\"accuracy\"])\n",
        "plt.plot(history.history[\"val_accuracy\"])\n",
        "plt.title(\"Model Accuracy\")\n",
        "plt.ylabel(\"Accuracy\")\n",
        "plt.xlabel(\"Epoch\")\n",
        "plt.legend([\"Train\", \"Validation\"], loc=\"upper left\")\n",
        "plt.show()"
      ]
    },
    {
      "cell_type": "markdown",
      "metadata": {
        "id": "pGBbQpLONX7k"
      },
      "source": [
        "**Observations:**\n",
        "\n",
        "- The training and validation accuracies progress similarly over the epochs with a gradual increase, suggesting that the model is learning as expected and not overfitting, which is a positive indication of its generalization.\n",
        "\n",
        "- Both training and validation accuracies are quite low, **only 38%**, indicating that the model's predictive performance is not yet optimal and may benefit from further training, a more complex model architecture, or additional techniques to improve learning.\n"
      ]
    },
    {
      "cell_type": "markdown",
      "metadata": {
        "id": "z0qgLMBZm5-K"
      },
      "source": [
        "Let's build one more model with higher complexity and see if we can improve the performance of the model.\n",
        "\n",
        "First, we need to clear the previous model's history from the Keras backend. Also, let's fix the seed again after clearing the backend.\n"
      ]
    },
    {
      "cell_type": "code",
      "execution_count": 17,
      "metadata": {
        "id": "I_ih3wEU9wIk"
      },
      "outputs": [],
      "source": [
        "# Clearing the backend\n",
        "backend.clear_session()\n",
        "# Fixing the seed for random number generators\n",
        "np.random.seed(42)\n",
        "random.seed(42)\n",
        "tf.random.set_seed(42)"
      ]
    },
    {
      "cell_type": "markdown",
      "metadata": {
        "id": "lT6o3TIKuCtk"
      },
      "source": [
        "### **Second Model Architecture**\n",
        "\n",
        "- Write a function that returns a sequential model with the following architecture:\n",
        "- First hidden layer with **256 nodes and the relu activation** and the **input shape = (1024, )**\n",
        "- Second hidden layer with **128 nodes and the relu activation**\n",
        "- Add the **Dropout layer with the rate equal to 0.2**\n",
        "- Third hidden layer with **64 nodes and the relu activation**\n",
        "- Fourth hidden layer with **64 nodes and the relu activation**\n",
        "- Fifth hidden layer with **32 nodes and the relu activation**\n",
        "- Add the **BatchNormalization layer**\n",
        "- Output layer with **activation as 'softmax' and number of nodes equal to the number of classes, i.e., 10**\n",
        "  -Compile the model with the **loss equal to categorical_crossentropy, optimizer equal to Adam(learning_rate = 0.0005), and metric equal to 'accuracy'**. Do not fit the model here, just return the compiled model.\n",
        "- Call the nn_model_2 function and store the model in a new variable.\n",
        "- Print the summary of the model.\n",
        "- Fit on the train data with a **validation split of 0.2, batch size = 128, verbose = 1, and epochs = 30**. Store the model building history to use later for visualization.\n"
      ]
    },
    {
      "cell_type": "markdown",
      "metadata": {
        "id": "f-ZjNBmH0XIV"
      },
      "source": [
        "### **Build and train the new ANN model as per the above mentioned architecture**\n"
      ]
    },
    {
      "cell_type": "code",
      "execution_count": 18,
      "metadata": {
        "colab": {
          "base_uri": "https://localhost:8080/"
        },
        "id": "EEPYLFIPnSDP",
        "outputId": "509b566f-821a-43f1-964a-360f8082ec00"
      },
      "outputs": [
        {
          "name": "stdout",
          "output_type": "stream",
          "text": [
            "Model: \"sequential\"\n",
            "_________________________________________________________________\n",
            " Layer (type)                Output Shape              Param #   \n",
            "=================================================================\n",
            " flatten (Flatten)           (None, 1024)              0         \n",
            "                                                                 \n",
            " dense (Dense)               (None, 256)               262400    \n"
          ]
        },
        {
          "name": "stdout",
          "output_type": "stream",
          "text": [
            "                                                                 \n",
            " dense_1 (Dense)             (None, 128)               32896     \n",
            "                                                                 \n",
            " dropout (Dropout)           (None, 128)               0         \n",
            "                                                                 \n",
            " dense_2 (Dense)             (None, 64)                8256      \n",
            "                                                                 \n",
            " dense_3 (Dense)             (None, 64)                4160      \n",
            "                                                                 \n",
            " dense_4 (Dense)             (None, 64)                4160      \n",
            "                                                                 \n",
            " batch_normalization (Batch  (None, 64)                256       \n",
            " Normalization)                                                  \n",
            "                                                                 \n",
            " dense_5 (Dense)             (None, 10)                650       \n",
            "                                                                 \n",
            "=================================================================\n",
            "Total params: 312778 (1.19 MB)\n",
            "Trainable params: 312650 (1.19 MB)\n",
            "Non-trainable params: 128 (512.00 Byte)\n",
            "_________________________________________________________________\n"
          ]
        }
      ],
      "source": [
        "nn_model_2 = Sequential(\n",
        "    [\n",
        "        # Adding Flatten layer to convert the 32x32 images into a 1D array of 1024\n",
        "        Flatten(input_shape=(32, 32)),\n",
        "        # First hidden layer with 256 nodes and relu activation\n",
        "        Dense(256, activation=\"relu\"),\n",
        "        # Second hidden layer with 128 nodes and relu activation\n",
        "        Dense(128, activation=\"relu\"),\n",
        "        # Adding dropout to randomly switch off 20% neurons\n",
        "        Dropout(0.2),\n",
        "        # Third hidden layer with 64 nodes and relu activation\n",
        "        Dense(64, activation=\"relu\"),\n",
        "        # Fourth hidden layer with 64 nodes and relu activation\n",
        "        Dense(64, activation=\"relu\"),\n",
        "        # Fifth hidden layer with 32 nodes and relu activation\n",
        "        Dense(64, activation=\"relu\"),\n",
        "        # Adding Batch Normalization layer\n",
        "        BatchNormalization(),\n",
        "        # Output layer with softmax activation and 10 nodes (for 10 classes)\n",
        "        Dense(10, activation=\"softmax\"),\n",
        "    ]\n",
        ")\n",
        "\n",
        "# Compile model\n",
        "nn_model_2.compile(optimizer=Adam(learning_rate=0.0005),\n",
        "                   loss=\"categorical_crossentropy\", metrics=[\"accuracy\"])\n",
        "\n",
        "# Generating the summary of the model\n",
        "nn_model_2.summary()"
      ]
    },
    {
      "cell_type": "code",
      "execution_count": 19,
      "metadata": {
        "colab": {
          "base_uri": "https://localhost:8080/"
        },
        "id": "MXQMByn8j7-Y",
        "outputId": "5def493c-f4c5-4bf5-bdfd-994f5dd6ab46"
      },
      "outputs": [
        {
          "name": "stdout",
          "output_type": "stream",
          "text": [
            "Epoch 1/30\n",
            "263/263 [==============================] - 3s 3ms/step - loss: 2.3612 - accuracy: 0.1019 - val_loss: 2.3071 - val_accuracy: 0.0999\n",
            "Epoch 2/30\n",
            "263/263 [==============================] - 1s 3ms/step - loss: 2.2702 - accuracy: 0.1364 - val_loss: 2.1650 - val_accuracy: 0.1961\n",
            "Epoch 3/30\n",
            "263/263 [==============================] - 1s 2ms/step - loss: 1.8311 - accuracy: 0.3315 - val_loss: 1.7210 - val_accuracy: 0.3964\n",
            "Epoch 4/30\n",
            "263/263 [==============================] - 1s 3ms/step - loss: 1.5059 - accuracy: 0.4843 - val_loss: 1.2794 - val_accuracy: 0.5892\n",
            "Epoch 5/30\n",
            "263/263 [==============================] - 1s 3ms/step - loss: 1.2783 - accuracy: 0.5796 - val_loss: 1.1768 - val_accuracy: 0.6195\n",
            "Epoch 6/30\n",
            "263/263 [==============================] - 1s 3ms/step - loss: 1.1762 - accuracy: 0.6207 - val_loss: 1.0788 - val_accuracy: 0.6549\n",
            "Epoch 7/30\n",
            "263/263 [==============================] - 1s 2ms/step - loss: 1.1179 - accuracy: 0.6424 - val_loss: 1.0269 - val_accuracy: 0.6698\n",
            "Epoch 8/30\n",
            "263/263 [==============================] - 1s 3ms/step - loss: 1.0629 - accuracy: 0.6606 - val_loss: 1.0142 - val_accuracy: 0.6777\n",
            "Epoch 9/30\n",
            "263/263 [==============================] - 1s 2ms/step - loss: 1.0243 - accuracy: 0.6750 - val_loss: 0.9692 - val_accuracy: 0.6875\n",
            "Epoch 10/30\n",
            "263/263 [==============================] - 1s 3ms/step - loss: 0.9850 - accuracy: 0.6875 - val_loss: 0.9214 - val_accuracy: 0.7056\n",
            "Epoch 11/30\n",
            "263/263 [==============================] - 1s 3ms/step - loss: 0.9682 - accuracy: 0.6908 - val_loss: 0.8982 - val_accuracy: 0.7151\n",
            "Epoch 12/30\n",
            "263/263 [==============================] - 1s 2ms/step - loss: 0.9317 - accuracy: 0.7066 - val_loss: 0.9177 - val_accuracy: 0.7104\n",
            "Epoch 13/30\n",
            "263/263 [==============================] - 1s 3ms/step - loss: 0.9217 - accuracy: 0.7076 - val_loss: 0.8958 - val_accuracy: 0.7189\n",
            "Epoch 14/30\n",
            "263/263 [==============================] - 1s 2ms/step - loss: 0.8959 - accuracy: 0.7178 - val_loss: 0.8395 - val_accuracy: 0.7342\n",
            "Epoch 15/30\n",
            "263/263 [==============================] - 1s 2ms/step - loss: 0.8795 - accuracy: 0.7204 - val_loss: 0.8505 - val_accuracy: 0.7298\n",
            "Epoch 16/30\n",
            "263/263 [==============================] - 1s 3ms/step - loss: 0.8536 - accuracy: 0.7304 - val_loss: 0.8365 - val_accuracy: 0.7387\n",
            "Epoch 17/30\n",
            "263/263 [==============================] - 1s 2ms/step - loss: 0.8373 - accuracy: 0.7341 - val_loss: 0.8030 - val_accuracy: 0.7431\n",
            "Epoch 18/30\n",
            "263/263 [==============================] - 1s 2ms/step - loss: 0.8255 - accuracy: 0.7386 - val_loss: 0.8369 - val_accuracy: 0.7364\n",
            "Epoch 19/30\n",
            "263/263 [==============================] - 1s 3ms/step - loss: 0.8136 - accuracy: 0.7419 - val_loss: 0.7865 - val_accuracy: 0.7510\n",
            "Epoch 20/30\n",
            "263/263 [==============================] - 1s 3ms/step - loss: 0.8139 - accuracy: 0.7424 - val_loss: 0.7663 - val_accuracy: 0.7605\n",
            "Epoch 21/30\n",
            "263/263 [==============================] - 1s 2ms/step - loss: 0.7923 - accuracy: 0.7494 - val_loss: 0.7951 - val_accuracy: 0.7480\n",
            "Epoch 22/30\n",
            "263/263 [==============================] - 1s 2ms/step - loss: 0.7984 - accuracy: 0.7473 - val_loss: 0.7571 - val_accuracy: 0.7627\n",
            "Epoch 23/30\n",
            "263/263 [==============================] - 1s 2ms/step - loss: 0.7664 - accuracy: 0.7566 - val_loss: 0.8045 - val_accuracy: 0.7471\n",
            "Epoch 24/30\n",
            "263/263 [==============================] - 1s 2ms/step - loss: 0.7662 - accuracy: 0.7563 - val_loss: 0.7608 - val_accuracy: 0.7618\n",
            "Epoch 25/30\n",
            "263/263 [==============================] - 1s 3ms/step - loss: 0.7628 - accuracy: 0.7580 - val_loss: 0.7184 - val_accuracy: 0.7782\n",
            "Epoch 26/30\n",
            "263/263 [==============================] - 1s 3ms/step - loss: 0.7458 - accuracy: 0.7619 - val_loss: 0.7153 - val_accuracy: 0.7806\n",
            "Epoch 27/30\n",
            "263/263 [==============================] - 1s 2ms/step - loss: 0.7399 - accuracy: 0.7661 - val_loss: 0.7401 - val_accuracy: 0.7685\n",
            "Epoch 28/30\n",
            "263/263 [==============================] - 1s 3ms/step - loss: 0.7256 - accuracy: 0.7699 - val_loss: 0.7006 - val_accuracy: 0.7839\n",
            "Epoch 29/30\n",
            "263/263 [==============================] - 1s 3ms/step - loss: 0.7300 - accuracy: 0.7675 - val_loss: 0.7298 - val_accuracy: 0.7749\n",
            "Epoch 30/30\n",
            "263/263 [==============================] - 1s 2ms/step - loss: 0.7132 - accuracy: 0.7740 - val_loss: 0.7132 - val_accuracy: 0.7807\n"
          ]
        }
      ],
      "source": [
        "history_2 = nn_model_2.fit(\n",
        "    X_train_normalized, Y_train_encoded, epochs=30, validation_split=0.2, shuffle=True, batch_size=128, verbose=1\n",
        ")"
      ]
    },
    {
      "cell_type": "markdown",
      "metadata": {
        "id": "ZJYsvjmw0XIX"
      },
      "source": [
        "### **Plot the Training and Validation Accuracies and write down your Observations.**\n"
      ]
    },
    {
      "cell_type": "code",
      "execution_count": 20,
      "metadata": {
        "colab": {
          "base_uri": "https://localhost:8080/",
          "height": 472
        },
        "id": "01ig6BrF1KVy",
        "outputId": "36be5803-5757-4b72-8b3c-ce0c6ccc7aa9"
      },
      "outputs": [
        {
          "data": {
            "image/png": "[encoded data removed]",
            "text/plain": [
              "<Figure size 640x480 with 1 Axes>"
            ]
          },
          "metadata": {},
          "output_type": "display_data"
        }
      ],
      "source": [
        "plt.plot(history_2.history[\"accuracy\"])\n",
        "plt.plot(history_2.history[\"val_accuracy\"])\n",
        "plt.title(\"Model Accuracy\")\n",
        "plt.ylabel(\"Accuracy\")\n",
        "plt.xlabel(\"Epoch\")\n",
        "plt.legend([\"Train\", \"Validation\"], loc=\"upper left\")\n",
        "plt.show()"
      ]
    },
    {
      "cell_type": "markdown",
      "metadata": {
        "id": "VPW1LlD61RDn"
      },
      "source": [
        "**Observations:**\n",
        "\n",
        "- The updated model shows a significant improvement in both training and validation accuracy compared to the previous model, indicating a better fit to the data, with a validation accuracy of 75%.\n",
        "\n",
        "- The training and validation accuracies are still closely aligned throughout the training epochs, suggesting that the model is generalizing well without overfitting.\n"
      ]
    },
    {
      "cell_type": "markdown",
      "metadata": {
        "id": "8kuXx9Bvu00f"
      },
      "source": [
        "## **Predictions on the test data**\n",
        "\n",
        "- Make predictions on the test set using the second model.\n",
        "- Print the obtained results using the classification report and the confusion matrix.\n",
        "- Final observations on the obtained results.\n"
      ]
    },
    {
      "cell_type": "code",
      "execution_count": 21,
      "metadata": {
        "colab": {
          "base_uri": "https://localhost:8080/"
        },
        "id": "xbWMEtTj5Ad0",
        "outputId": "abeef3cf-347b-420c-a483-8d25a138026f"
      },
      "outputs": [
        {
          "name": "stdout",
          "output_type": "stream",
          "text": [
            "563/563 [==============================] - 0s 713us/step\n"
          ]
        }
      ],
      "source": [
        "# Making predictions on the test data\n",
        "y_pred_test = nn_model_2.predict(X_test_normalized)"
      ]
    },
    {
      "cell_type": "markdown",
      "metadata": {
        "id": "i3li8Ib08yts"
      },
      "source": [
        "**Note:** Earlier, we noticed that each entry of the target variable is a one-hot encoded vector but to print the classification report and confusion matrix, we must convert each entry of y_test to a single label.\n"
      ]
    },
    {
      "cell_type": "code",
      "execution_count": 22,
      "metadata": {
        "id": "NByu7uAQ8x9P"
      },
      "outputs": [],
      "source": [
        "# Converting probabilities to class labels\n",
        "y_pred_test_classes = np.argmax(y_pred_test, axis=1)\n",
        "\n",
        "# Calculating the probability of the predicted class\n",
        "y_pred_test_max_probas = np.max(y_pred_test, axis=1)"
      ]
    },
    {
      "cell_type": "markdown",
      "metadata": {
        "id": "1_SIoopr0XIg"
      },
      "source": [
        "### **Print the classification report and the confusion matrix for the test predictions. Write your observations on the final results.**\n"
      ]
    },
    {
      "cell_type": "code",
      "execution_count": 23,
      "metadata": {
        "id": "TnN4ZbMhokCf"
      },
      "outputs": [],
      "source": [
        "unique_classes = np.unique(y_pred_test_classes)\n",
        "tick_labels = [str(cls) for cls in unique_classes]"
      ]
    },
    {
      "cell_type": "code",
      "execution_count": 24,
      "metadata": {
        "colab": {
          "base_uri": "https://localhost:8080/",
          "height": 760
        },
        "id": "xRddeJ-3EHT1",
        "outputId": "79461937-15ee-4c5d-bb50-65138318f7e0"
      },
      "outputs": [
        {
          "name": "stdout",
          "output_type": "stream",
          "text": [
            "              precision    recall  f1-score   support\n",
            "\n",
            "           0       0.87      0.75      0.80      1814\n",
            "           1       0.78      0.82      0.80      1828\n",
            "           2       0.81      0.78      0.80      1803\n",
            "           3       0.78      0.70      0.74      1719\n",
            "           4       0.78      0.85      0.82      1812\n",
            "           5       0.82      0.69      0.75      1768\n",
            "           6       0.77      0.78      0.77      1832\n",
            "           7       0.79      0.82      0.80      1808\n",
            "           8       0.69      0.76      0.73      1812\n",
            "           9       0.70      0.80      0.75      1804\n",
            "\n",
            "    accuracy                           0.78     18000\n",
            "   macro avg       0.78      0.78      0.78     18000\n",
            "weighted avg       0.78      0.78      0.78     18000\n",
            "\n"
          ]
        },
        {
          "data": {
            "image/png": "[encoded data removed]",
            "text/plain": [
              "<Figure size 800x500 with 2 Axes>"
            ]
          },
          "metadata": {},
          "output_type": "display_data"
        }
      ],
      "source": [
        "# Printing the classification report\n",
        "print(classification_report(Y_test, y_pred_test_classes))\n",
        "\n",
        "# Plotting the heatmap using confusion matrix\n",
        "cm = confusion_matrix(Y_test, y_pred_test_classes)\n",
        "\n",
        "plt.figure(figsize=(8, 5))\n",
        "\n",
        "sns.heatmap(cm, annot=True, fmt=\".0f\",\n",
        "            xticklabels=tick_labels, yticklabels=tick_labels)\n",
        "\n",
        "plt.ylabel(\"Actual\")\n",
        "\n",
        "plt.xlabel(\"Predicted\")\n",
        "\n",
        "# Display the plot\n",
        "plt.show()"
      ]
    },
    {
      "cell_type": "markdown",
      "metadata": {
        "id": "DjErl4GA2u9s"
      },
      "source": [
        "**Final Observations:**\n",
        "\n",
        "- The model has achieved a balanced precision and recall across most classes, as indicated by the relatively consistent f1-scores, ranging from 0.69 to 0.82, with the digit '1' having the highest f1-score.\n",
        "\n",
        "- The confusion matrix shows that some digits, such as '1', '2', and '7', are the ones best classified, with good model performance for these digits. However, there are notable confusions between some, such as between '4' and '9', '3' and '5'.\n",
        "\n",
        "- The overall accuracy of the model is 0.76, meaning that 76% of the digits were correctly classified, which is a reasonable performance but suggests there is room for improvement.\n"
      ]
    },
    {
      "cell_type": "markdown",
      "metadata": {
        "id": "xkR4JioMsuIV"
      },
      "source": [
        "## **Using Convolutional Neural Networks**\n"
      ]
    },
    {
      "cell_type": "markdown",
      "metadata": {
        "id": "YN2YgkGL_6xQ"
      },
      "source": [
        "### **Load the dataset again and split the data into the train and the test dataset.**\n"
      ]
    },
    {
      "cell_type": "code",
      "execution_count": 26,
      "metadata": {
        "id": "mqM204HbAjP2",
        "scrolled": true
      },
      "outputs": [],
      "source": [
        "# Path to the dataset\n",
        "# file_path = \"/content/drive/MyDrive/Studies/MIT-AI-ML/10. Elective Project/Deep Learning/SVHN_single_grey1.h5\"\n",
        "\n",
        "file_path = \"/home/iamtxena/sandbox/mit-ai/elective/SVHN_single_grey1.h5\"\n",
        "\n",
        "# Now, we now the correct keys and we can load correctly the dataset and get the train and test data\n",
        "with h5py.File(file_path, \"r\") as h5_file:\n",
        "    X_train = h5_file[\"X_train\"][:]\n",
        "    Y_train = h5_file[\"y_train\"][:]\n",
        "    X_test = h5_file[\"X_test\"][:]\n",
        "    Y_test = h5_file[\"y_test\"][:]"
      ]
    },
    {
      "cell_type": "markdown",
      "metadata": {
        "id": "6fPqF_xGAjQB"
      },
      "source": [
        "Check the number of images in the training and the testing dataset.\n"
      ]
    },
    {
      "cell_type": "code",
      "execution_count": 27,
      "metadata": {
        "colab": {
          "base_uri": "https://localhost:8080/"
        },
        "id": "gTLJZWjPAjQB",
        "outputId": "459edd9f-451a-4182-eb55-6f74a54b5751"
      },
      "outputs": [
        {
          "name": "stdout",
          "output_type": "stream",
          "text": [
            "Number of images in the training dataset: 42,000\n",
            "Number of images in the testing dataset: 18,000\n"
          ]
        }
      ],
      "source": [
        "num_train_images = X_train.shape[0]  # Number of training images\n",
        "num_test_images = X_test.shape[0]  # Number of testing images\n",
        "\n",
        "print(f\"Number of images in the training dataset: {num_train_images:,}\")\n",
        "print(f\"Number of images in the testing dataset: {num_test_images:,}\")"
      ]
    },
    {
      "cell_type": "markdown",
      "metadata": {
        "id": "9qyMiP_rAjQB"
      },
      "source": [
        "**Observation:**\n",
        "\n",
        "- The dataset loaded from an HDF5 file contains the data already split into train and test. 'X_train', 'y_train', 'X_test', and 'y_test' represent training and test datasets along with their respective labels.\n",
        "\n",
        "- The training data (X_train) consists of 42,000 grayscale images.\n",
        "- The test data (X_test) contains 18,000 images.\n"
      ]
    },
    {
      "cell_type": "markdown",
      "metadata": {
        "id": "OJndFfEVAjQG"
      },
      "source": [
        "## **Data preparation**\n",
        "\n",
        "- Print the shape and the array of pixels for the first image in the training dataset.\n",
        "- Reshape the train and the test dataset because we always have to give a 4D array as input to CNNs.\n",
        "- Normalize the train and the test dataset by dividing by 255.\n",
        "- Print the new shapes of the train and the test dataset.\n",
        "- One-hot encode the target variable.\n"
      ]
    },
    {
      "cell_type": "code",
      "execution_count": 28,
      "metadata": {
        "colab": {
          "base_uri": "https://localhost:8080/"
        },
        "id": "W4uXqKz1AjQG",
        "outputId": "acc5e3a0-7bcc-40a0-c8e2-2a1785db2db0"
      },
      "outputs": [
        {
          "name": "stdout",
          "output_type": "stream",
          "text": [
            "Shape of the first image: (32, 32)\n",
            "\n",
            "Array of pixels for the first image:\n",
            " [[ 33.0704  30.2601  26.852  ...  71.4471  58.2204  42.9939]\n",
            " [ 25.2283  25.5533  29.9765 ... 113.0209 103.3639  84.2949]\n",
            " [ 26.2775  22.6137  40.4763 ... 113.3028 121.775  115.4228]\n",
            " ...\n",
            " [ 28.5502  36.212   45.0801 ...  24.1359  25.0927  26.0603]\n",
            " [ 38.4352  26.4733  23.2717 ...  28.1094  29.4683  30.0661]\n",
            " [ 50.2984  26.0773  24.0389 ...  49.6682  50.853   53.0377]]\n"
          ]
        }
      ],
      "source": [
        "# Print the shape of the first image in X_train\n",
        "print(\"Shape of the first image:\", X_train[0].shape)\n",
        "\n",
        "# Print the array of pixels for the first image in X_train\n",
        "print(\"\\nArray of pixels for the first image:\\n\", X_train[0])"
      ]
    },
    {
      "cell_type": "markdown",
      "metadata": {
        "id": "at30iiX1__7F"
      },
      "source": [
        "Reshape the dataset to be able to pass them to CNNs. Remember that we always have to give a 4D array as input to CNNs\n"
      ]
    },
    {
      "cell_type": "code",
      "execution_count": 29,
      "metadata": {
        "id": "D9YPwf9ysqWU"
      },
      "outputs": [],
      "source": [
        "# Reshape dataset to have a single channel\n",
        "X_train = X_train.reshape((X_train.shape[0], 32, 32, 1))\n",
        "X_test = X_test.reshape((X_test.shape[0], 32, 32, 1))"
      ]
    },
    {
      "cell_type": "markdown",
      "metadata": {
        "id": "ODYnoLfaAEGx"
      },
      "source": [
        "Normalize inputs from 0-255 to 0-1\n"
      ]
    },
    {
      "cell_type": "code",
      "execution_count": 30,
      "metadata": {
        "id": "eOGLAn40AjQG"
      },
      "outputs": [],
      "source": [
        "# Normalizing the image pixels\n",
        "X_train_normalized = X_train.astype(\"float32\") / 255.0\n",
        "X_test_normalized = X_test.astype(\"float32\") / 255.0"
      ]
    },
    {
      "cell_type": "markdown",
      "metadata": {
        "id": "cS9T4HqjAoyM"
      },
      "source": [
        "Print New shape of Training and Test\n"
      ]
    },
    {
      "cell_type": "code",
      "execution_count": 31,
      "metadata": {
        "colab": {
          "base_uri": "https://localhost:8080/"
        },
        "id": "5qf8S5NQAjQG",
        "outputId": "436dffe4-5253-4129-86de-db53177fbe78"
      },
      "outputs": [
        {
          "name": "stdout",
          "output_type": "stream",
          "text": [
            "Shape of the new X_train: (42000, 32, 32, 1)\n",
            "Shape of the new X_test: (18000, 32, 32, 1)\n"
          ]
        }
      ],
      "source": [
        "# Print the shape of the new X_train\n",
        "print(\"Shape of the new X_train:\", X_train.shape)\n",
        "# Print the shape of the new X_test\n",
        "print(\"Shape of the new X_test:\", X_test.shape)"
      ]
    },
    {
      "cell_type": "markdown",
      "metadata": {
        "id": "10QaOV-xR7Jn"
      },
      "source": [
        "### **One-hot encode the labels in the target variable y_train and y_test.**\n"
      ]
    },
    {
      "cell_type": "code",
      "execution_count": 32,
      "metadata": {
        "id": "3KHWFWKMAjQH"
      },
      "outputs": [],
      "source": [
        "y_train_encoded = tf.keras.utils.to_categorical(Y_train)\n",
        "y_test_encoded = tf.keras.utils.to_categorical(Y_test)"
      ]
    },
    {
      "cell_type": "markdown",
      "metadata": {
        "id": "H-8jYVQTAjQH"
      },
      "source": [
        "**Observation:**\n",
        "\n",
        "- The shape of the first image in the training dataset is also confirmed to be 32x32, and a sample of the pixel array is printed, showing the raw pixel values before normalization.\n",
        "- It is needed to reshape to 4D, adding the last dimension to '1' as it is a grayscale.\n",
        "- The normalization of the training and test datasets is performed correctly by dividing by 255.\n",
        "- And finally, we implement the one-hot encoding of the target variable, so it can be treated as categorical.\n"
      ]
    },
    {
      "cell_type": "markdown",
      "metadata": {
        "id": "Vjx_LI4_AjQH"
      },
      "source": [
        "## **Model Building**\n",
        "\n",
        "Now that we have done data preprocessing, let's build a CNN model.\n",
        "Fix the seed for random number generators\n"
      ]
    },
    {
      "cell_type": "code",
      "execution_count": 33,
      "metadata": {
        "id": "ZY5pyF4-KDNt"
      },
      "outputs": [],
      "source": [
        "# Fixing the seed for random number generators\n",
        "np.random.seed(42)\n",
        "random.seed(42)\n",
        "tf.random.set_seed(42)"
      ]
    },
    {
      "cell_type": "markdown",
      "metadata": {
        "id": "1JUAczhzAjQH"
      },
      "source": [
        "### **Model Architecture**\n",
        "\n",
        "- **Write a function** that returns a sequential model with the following architecture:\n",
        "- First Convolutional layer with **16 filters and the kernel size of 3x3**. Use the **'same' padding** and provide the **input shape = (32, 32, 1)**\n",
        "- Add a **LeakyRelu layer** with the **slope equal to 0.1**\n",
        "- Second Convolutional layer with **32 filters and the kernel size of 3x3 with 'same' padding**\n",
        "- Another **LeakyRelu** with the **slope equal to 0.1**\n",
        "- A **max-pooling layer** with a **pool size of 2x2**\n",
        "- **Flatten** the output from the previous layer\n",
        "- Add a **dense layer with 32 nodes**\n",
        "- Add a **LeakyRelu layer with the slope equal to 0.1**\n",
        "- Add the final **output layer with nodes equal to the number of classes, i.e., 10** and **'softmax' as the activation function**\n",
        "- Compile the model with the **loss equal to categorical_crossentropy, optimizer equal to Adam(learning_rate = 0.001), and metric equal to 'accuracy'**. Do not fit the model here, just return the compiled model.\n",
        "- Call the function cnn_model_1 and store the output in a new variable.\n",
        "- Print the summary of the model.\n",
        "- Fit the model on the training data with a **validation split of 0.2, batch size = 32, verbose = 1, and epochs = 20**. Store the model building history to use later for visualization.\n"
      ]
    },
    {
      "cell_type": "markdown",
      "metadata": {
        "id": "JWsAd45JKDNu"
      },
      "source": [
        "### **Build and train a CNN model as per the above mentioned architecture.**\n"
      ]
    },
    {
      "cell_type": "code",
      "execution_count": 34,
      "metadata": {
        "colab": {
          "base_uri": "https://localhost:8080/"
        },
        "id": "L1jOYANWAjQH",
        "outputId": "0fe0f7cf-df28-45e7-9882-4c64e8b371df"
      },
      "outputs": [
        {
          "name": "stdout",
          "output_type": "stream",
          "text": [
            "Model: \"sequential_1\"\n",
            "_________________________________________________________________\n",
            " Layer (type)                Output Shape              Param #   \n",
            "=================================================================\n",
            " conv2d (Conv2D)             (None, 32, 32, 16)        160       \n",
            "                                                                 \n",
            " leaky_re_lu (LeakyReLU)     (None, 32, 32, 16)        0         \n",
            "                                                                 \n",
            " conv2d_1 (Conv2D)           (None, 32, 32, 32)        4640      \n",
            "                                                                 \n",
            " leaky_re_lu_1 (LeakyReLU)   (None, 32, 32, 32)        0         \n",
            "                                                                 \n",
            " max_pooling2d (MaxPooling2  (None, 16, 16, 32)        0         \n",
            " D)                                                              \n",
            "                                                                 \n",
            " flatten_1 (Flatten)         (None, 8192)              0         \n",
            "                                                                 \n",
            " dense_6 (Dense)             (None, 32)                262176    \n",
            "                                                                 \n",
            " leaky_re_lu_2 (LeakyReLU)   (None, 32)                0         \n",
            "                                                                 \n",
            " dense_7 (Dense)             (None, 10)                330       \n",
            "                                                                 \n",
            "=================================================================\n",
            "Total params: 267306 (1.02 MB)\n",
            "Trainable params: 267306 (1.02 MB)\n",
            "Non-trainable params: 0 (0.00 Byte)\n",
            "_________________________________________________________________\n"
          ]
        }
      ],
      "source": [
        "# Intializing a sequential model\n",
        "cnn_model_1 = Sequential()\n",
        "\n",
        "# Adding first conv layer with 16 filters and kernel size 3x3 , padding 'same' provides the output size same as the input size\n",
        "cnn_model_1.add(Conv2D(16, (3, 3), padding=\"same\", input_shape=(32, 32, 1)))\n",
        "\n",
        "# Adding LeakyRelu activation function with a slope of 0.1\n",
        "cnn_model_1.add(LeakyReLU(0.1))\n",
        "\n",
        "# Adding second conv layer with 32 filters and the kernel size of 3x3 with 'same' padding\n",
        "cnn_model_1.add(Conv2D(32, (3, 3), padding=\"same\"))\n",
        "\n",
        "# Adding LeakyRelu activation function with a slope of 0.1\n",
        "cnn_model_1.add(LeakyReLU(0.1))\n",
        "\n",
        "cnn_model_1.add(MaxPooling2D((2, 2)))  # no padding added\n",
        "\n",
        "# flattening the output of the conv layer after max pooling to make it ready for creating dense connections\n",
        "cnn_model_1.add(Flatten())\n",
        "\n",
        "# Adding a fully connected dense layer with 32 neurons\n",
        "cnn_model_1.add(Dense(32))\n",
        "\n",
        "# Adding LeakyRelu activation function with a slope of 0.1\n",
        "cnn_model_1.add(LeakyReLU(0.1))\n",
        "\n",
        "# Adding the output layer with 10 neurons and activation functions as softmax since this is a multi-class classification problem\n",
        "cnn_model_1.add(Dense(10, activation=\"softmax\"))\n",
        "\n",
        "# Using Adam Optimizer\n",
        "opt = Adam(learning_rate=0.001)\n",
        "\n",
        "# Compile cnn_model_1\n",
        "cnn_model_1.compile(\n",
        "    optimizer=opt, loss=\"categorical_crossentropy\", metrics=[\"accuracy\"])\n",
        "\n",
        "# Generating the summary of the cnn_model_1\n",
        "cnn_model_1.summary()"
      ]
    },
    {
      "cell_type": "code",
      "execution_count": 35,
      "metadata": {
        "colab": {
          "base_uri": "https://localhost:8080/"
        },
        "id": "T9NbosTAxv5B",
        "outputId": "03b79811-1697-4128-b6a7-29740d51c290"
      },
      "outputs": [
        {
          "name": "stdout",
          "output_type": "stream",
          "text": [
            "Epoch 1/20\n",
            "1050/1050 [==============================] - 3s 2ms/step - loss: 1.1000 - accuracy: 0.6459 - val_loss: 0.6426 - val_accuracy: 0.8142\n",
            "Epoch 2/20\n",
            "1050/1050 [==============================] - 2s 2ms/step - loss: 0.5439 - accuracy: 0.8458 - val_loss: 0.5376 - val_accuracy: 0.8426\n",
            "Epoch 3/20\n",
            "1050/1050 [==============================] - 2s 2ms/step - loss: 0.4510 - accuracy: 0.8663 - val_loss: 0.5163 - val_accuracy: 0.8523\n",
            "Epoch 4/20\n",
            "1050/1050 [==============================] - 2s 2ms/step - loss: 0.3902 - accuracy: 0.8859 - val_loss: 0.4466 - val_accuracy: 0.8756\n",
            "Epoch 5/20\n",
            "1050/1050 [==============================] - 2s 2ms/step - loss: 0.3421 - accuracy: 0.8975 - val_loss: 0.4622 - val_accuracy: 0.8683\n",
            "Epoch 6/20\n",
            "1050/1050 [==============================] - 2s 2ms/step - loss: 0.3028 - accuracy: 0.9092 - val_loss: 0.4652 - val_accuracy: 0.8742\n",
            "Epoch 7/20\n",
            "1050/1050 [==============================] - 2s 2ms/step - loss: 0.2720 - accuracy: 0.9174 - val_loss: 0.4574 - val_accuracy: 0.8738\n",
            "Epoch 8/20\n",
            "1050/1050 [==============================] - 2s 2ms/step - loss: 0.2411 - accuracy: 0.9264 - val_loss: 0.4961 - val_accuracy: 0.8670\n",
            "Epoch 9/20\n",
            "1050/1050 [==============================] - 2s 2ms/step - loss: 0.2156 - accuracy: 0.9341 - val_loss: 0.4875 - val_accuracy: 0.8773\n",
            "Epoch 10/20\n",
            "1050/1050 [==============================] - 2s 2ms/step - loss: 0.1957 - accuracy: 0.9391 - val_loss: 0.4918 - val_accuracy: 0.8744\n",
            "Epoch 11/20\n",
            "1050/1050 [==============================] - 2s 2ms/step - loss: 0.1728 - accuracy: 0.9462 - val_loss: 0.5559 - val_accuracy: 0.8671\n",
            "Epoch 12/20\n",
            "1050/1050 [==============================] - 2s 2ms/step - loss: 0.1553 - accuracy: 0.9525 - val_loss: 0.5705 - val_accuracy: 0.8674\n",
            "Epoch 13/20\n",
            "1050/1050 [==============================] - 2s 2ms/step - loss: 0.1407 - accuracy: 0.9565 - val_loss: 0.5948 - val_accuracy: 0.8718\n",
            "Epoch 14/20\n",
            "1050/1050 [==============================] - 2s 2ms/step - loss: 0.1265 - accuracy: 0.9613 - val_loss: 0.6457 - val_accuracy: 0.8662\n",
            "Epoch 15/20\n",
            "1050/1050 [==============================] - 2s 2ms/step - loss: 0.1146 - accuracy: 0.9631 - val_loss: 0.6417 - val_accuracy: 0.8690\n",
            "Epoch 16/20\n",
            "1050/1050 [==============================] - 2s 2ms/step - loss: 0.1019 - accuracy: 0.9685 - val_loss: 0.6551 - val_accuracy: 0.8687\n",
            "Epoch 17/20\n",
            "1050/1050 [==============================] - 2s 2ms/step - loss: 0.0957 - accuracy: 0.9694 - val_loss: 0.7088 - val_accuracy: 0.8676\n",
            "Epoch 18/20\n",
            "1050/1050 [==============================] - 2s 2ms/step - loss: 0.0855 - accuracy: 0.9736 - val_loss: 0.7701 - val_accuracy: 0.8664\n",
            "Epoch 19/20\n",
            "1050/1050 [==============================] - 2s 2ms/step - loss: 0.0757 - accuracy: 0.9754 - val_loss: 0.7817 - val_accuracy: 0.8627\n",
            "Epoch 20/20\n",
            "1050/1050 [==============================] - 2s 2ms/step - loss: 0.0755 - accuracy: 0.9752 - val_loss: 0.8020 - val_accuracy: 0.8675\n"
          ]
        }
      ],
      "source": [
        "history_1 = cnn_model_1.fit(\n",
        "    X_train_normalized, y_train_encoded, epochs=20, validation_split=0.2, shuffle=True, batch_size=32, verbose=1\n",
        ")"
      ]
    },
    {
      "cell_type": "markdown",
      "metadata": {
        "id": "JPzfIf9kKDNw"
      },
      "source": [
        "### **Plot the Training and Validation Accuracies and Write your observations.**\n"
      ]
    },
    {
      "cell_type": "code",
      "execution_count": 36,
      "metadata": {
        "colab": {
          "base_uri": "https://localhost:8080/",
          "height": 472
        },
        "id": "07oUCr1kAjQH",
        "outputId": "8a3516d7-1cd3-4122-8dd2-66528f5701b1"
      },
      "outputs": [
        {
          "data": {
            "image/png": "[encoded data removed]",
            "text/plain": [
              "<Figure size 640x480 with 1 Axes>"
            ]
          },
          "metadata": {},
          "output_type": "display_data"
        }
      ],
      "source": [
        "plt.plot(history_1.history[\"accuracy\"])\n",
        "plt.plot(history_1.history[\"val_accuracy\"])\n",
        "plt.title(\"Model Accuracy\")\n",
        "plt.ylabel(\"Accuracy\")\n",
        "plt.xlabel(\"Epoch\")\n",
        "plt.legend([\"Train\", \"Validation\"], loc=\"upper left\")\n",
        "plt.show()"
      ]
    },
    {
      "cell_type": "markdown",
      "metadata": {
        "id": "P6zTLyp9AjQH"
      },
      "source": [
        "**Observations:**\n",
        "\n",
        "- The training accuracy is quite high and continues to improve over epochs, reaching the 97.9% on the last 20th epoch.\n",
        "- However, there is a notable gap between the training and validation accuracy, with the validation accuracy being lower, reaching 86.6%.\n",
        "- This gap indicates that the model may be overfitting to the training data, as it performs significantly better on the training data than on unseen validation data.\n"
      ]
    },
    {
      "cell_type": "markdown",
      "metadata": {
        "id": "Ukvtg2eMAjQH"
      },
      "source": [
        "Let's build another model and see if we can get a better model with generalized performance.\n",
        "\n",
        "First, we need to clear the previous model's history from the Keras backend. Also, let's fix the seed again after clearing the backend.\n"
      ]
    },
    {
      "cell_type": "code",
      "execution_count": 37,
      "metadata": {
        "id": "HbKi93HTolGW"
      },
      "outputs": [],
      "source": [
        "# Clearing the backend\n",
        "backend.clear_session()\n",
        "# Fixing the seed for random number generators\n",
        "np.random.seed(42)\n",
        "random.seed(42)\n",
        "tf.random.set_seed(42)"
      ]
    },
    {
      "cell_type": "markdown",
      "metadata": {
        "id": "Ep19Jd8HAjQH"
      },
      "source": [
        "### **Second Model Architecture**\n",
        "\n",
        "- Write a function that returns a sequential model with the following architecture:\n",
        "- First Convolutional layer with **16 filters and the kernel size of 3x3**. Use the **'same' padding** and provide the **input shape = (32, 32, 1)**\n",
        "- Add a **LeakyRelu layer** with the **slope equal to 0.1**\n",
        "- Second Convolutional layer with **32 filters and the kernel size of 3x3 with 'same' padding**\n",
        "- Add **LeakyRelu** with the **slope equal to 0.1**\n",
        "- Add a **max-pooling layer** with a **pool size of 2x2**\n",
        "- Add a **BatchNormalization layer**\n",
        "- Third Convolutional layer with **32 filters and the kernel size of 3x3 with 'same' padding**\n",
        "- Add a **LeakyRelu layer with the slope equal to 0.1**\n",
        "- Fourth Convolutional layer **64 filters and the kernel size of 3x3 with 'same' padding**\n",
        "- Add a **LeakyRelu layer with the slope equal to 0.1**\n",
        "- Add a **max-pooling layer** with a **pool size of 2x2**\n",
        "- Add a **BatchNormalization layer**\n",
        "- **Flatten** the output from the previous layer\n",
        "- Add a **dense layer with 32 nodes**\n",
        "- Add a **LeakyRelu layer with the slope equal to 0.1**\n",
        "- Add a **dropout layer with the rate equal to 0.5**\n",
        "- Add the final **output layer with nodes equal to the number of classes, i.e., 10** and **'softmax' as the activation function**\n",
        "- Compile the model with the **categorical_crossentropy loss, adam optimizers (learning_rate = 0.001), and metric equal to 'accuracy'**. Do not fit the model here, just return the compiled model.\n",
        "- Call the function cnn_model_2 and store the model in a new variable.\n",
        "- Print the summary of the model.\n",
        "- Fit the model on the train data with a **validation split of 0.2, batch size = 128, verbose = 1, and epochs = 30**. Store the model building history to use later for visualization.\n"
      ]
    },
    {
      "cell_type": "markdown",
      "metadata": {
        "id": "y5IBLS1eKDNy"
      },
      "source": [
        "### **Build and train the second CNN model as per the above mentioned architecture.**\n"
      ]
    },
    {
      "cell_type": "code",
      "execution_count": 38,
      "metadata": {
        "colab": {
          "base_uri": "https://localhost:8080/"
        },
        "id": "wk9sl2UEAjQH",
        "outputId": "ef8ab766-3b26-46ee-850c-c583da35ed1c"
      },
      "outputs": [
        {
          "name": "stdout",
          "output_type": "stream",
          "text": [
            "Model: \"sequential\"\n",
            "_________________________________________________________________\n",
            " Layer (type)                Output Shape              Param #   \n",
            "=================================================================\n",
            " conv2d (Conv2D)             (None, 32, 32, 16)        160       \n",
            "                                                                 \n",
            " leaky_re_lu (LeakyReLU)     (None, 32, 32, 16)        0         \n",
            "                                                                 \n",
            " conv2d_1 (Conv2D)           (None, 32, 32, 32)        4640      \n",
            "                                                                 \n",
            " leaky_re_lu_1 (LeakyReLU)   (None, 32, 32, 32)        0         \n",
            "                                                                 \n",
            " max_pooling2d (MaxPooling2  (None, 16, 16, 32)        0         \n",
            " D)                                                              \n",
            "                                                                 \n",
            " batch_normalization (Batch  (None, 16, 16, 32)        128       \n",
            " Normalization)                                                  \n",
            "                                                                 \n",
            " conv2d_2 (Conv2D)           (None, 16, 16, 32)        9248      \n",
            "                                                                 \n",
            " leaky_re_lu_2 (LeakyReLU)   (None, 16, 16, 32)        0         \n",
            "                                                                 \n",
            " max_pooling2d_1 (MaxPoolin  (None, 8, 8, 32)          0         \n",
            " g2D)                                                            \n",
            "                                                                 \n",
            " batch_normalization_1 (Bat  (None, 8, 8, 32)          128       \n",
            " chNormalization)                                                \n",
            "                                                                 \n",
            " flatten (Flatten)           (None, 2048)              0         \n",
            "                                                                 \n",
            " dense (Dense)               (None, 32)                65568     \n",
            "                                                                 \n",
            " leaky_re_lu_3 (LeakyReLU)   (None, 32)                0         \n",
            "                                                                 \n",
            " dropout (Dropout)           (None, 32)                0         \n",
            "                                                                 \n",
            " dense_1 (Dense)             (None, 10)                330       \n",
            "                                                                 \n",
            "=================================================================\n",
            "Total params: 80202 (313.29 KB)\n",
            "Trainable params: 80074 (312.79 KB)\n",
            "Non-trainable params: 128 (512.00 Byte)\n",
            "_________________________________________________________________\n"
          ]
        }
      ],
      "source": [
        "# Intializing a sequential model\n",
        "cnn_model_2 = Sequential()\n",
        "\n",
        "# Adding first conv layer with 16 filters and kernel size 3x3 , padding 'same' provides the output size same as the input size\n",
        "cnn_model_2.add(Conv2D(16, (3, 3), padding=\"same\", input_shape=(32, 32, 1)))\n",
        "\n",
        "# Adding LeakyRelu activation function with a slope of 0.1\n",
        "cnn_model_2.add(LeakyReLU(0.1))\n",
        "\n",
        "# Adding second conv layer with 32 filters and the kernel size of 3x3 with 'same' padding\n",
        "cnn_model_2.add(Conv2D(32, (3, 3), padding=\"same\"))\n",
        "\n",
        "# Adding LeakyRelu activation function with a slope of 0.1\n",
        "cnn_model_2.add(LeakyReLU(0.1))\n",
        "\n",
        "cnn_model_2.add(MaxPooling2D((2, 2)))  # no padding added\n",
        "\n",
        "# Adding Batch Normalization layer\n",
        "cnn_model_2.add(BatchNormalization())\n",
        "\n",
        "# Adding third conv layer with 32 filters and the kernel size of 3x3 with 'same' padding\n",
        "cnn_model_2.add(Conv2D(32, (3, 3), padding=\"same\"))\n",
        "\n",
        "# Adding LeakyRelu activation function with a slope of 0.1\n",
        "cnn_model_2.add(LeakyReLU(0.1))\n",
        "\n",
        "cnn_model_2.add(MaxPooling2D((2, 2)))  # no padding added\n",
        "\n",
        "# Adding Batch Normalization layer\n",
        "cnn_model_2.add(BatchNormalization())\n",
        "\n",
        "# flattening the output of the conv layer after max pooling to make it ready for creating dense connections\n",
        "cnn_model_2.add(Flatten())\n",
        "\n",
        "# Adding a fully connected dense layer with 32 neurons\n",
        "cnn_model_2.add(Dense(32))\n",
        "\n",
        "# Adding LeakyRelu activation function with a slope of 0.1\n",
        "cnn_model_2.add(LeakyReLU(0.1))\n",
        "\n",
        "# Adding dropout to randomly switch off 50% neurons\n",
        "cnn_model_2.add(Dropout(0.5))\n",
        "\n",
        "# Adding the output layer with 10 neurons and activation functions as softmax since this is a multi-class classification problem\n",
        "cnn_model_2.add(Dense(10, activation=\"softmax\"))\n",
        "\n",
        "# Using Adam Optimizer\n",
        "opt = Adam(learning_rate=0.001)\n",
        "\n",
        "# Compile cnn_model_2\n",
        "cnn_model_2.compile(\n",
        "    optimizer=opt, loss=\"categorical_crossentropy\", metrics=[\"accuracy\"])\n",
        "\n",
        "# Generating the summary of the cnn_model_2\n",
        "cnn_model_2.summary()"
      ]
    },
    {
      "cell_type": "code",
      "execution_count": 39,
      "metadata": {
        "colab": {
          "base_uri": "https://localhost:8080/"
        },
        "id": "NbypiyKt0Nb7",
        "outputId": "4ffbca1d-969e-4767-d5cc-937092a75aa8"
      },
      "outputs": [
        {
          "name": "stdout",
          "output_type": "stream",
          "text": [
            "Epoch 1/30\n",
            "263/263 [==============================] - 3s 7ms/step - loss: 1.6504 - accuracy: 0.4205 - val_loss: 3.1587 - val_accuracy: 0.1099\n",
            "Epoch 2/30\n",
            "263/263 [==============================] - 1s 4ms/step - loss: 0.8229 - accuracy: 0.7423 - val_loss: 1.3806 - val_accuracy: 0.5756\n",
            "Epoch 3/30\n",
            "263/263 [==============================] - 1s 4ms/step - loss: 0.6709 - accuracy: 0.7916 - val_loss: 0.5507 - val_accuracy: 0.8338\n",
            "Epoch 4/30\n",
            "263/263 [==============================] - 1s 4ms/step - loss: 0.6029 - accuracy: 0.8128 - val_loss: 0.4536 - val_accuracy: 0.8668\n",
            "Epoch 5/30\n",
            "263/263 [==============================] - 1s 4ms/step - loss: 0.5579 - accuracy: 0.8289 - val_loss: 0.4528 - val_accuracy: 0.8652\n",
            "Epoch 6/30\n",
            "263/263 [==============================] - 1s 4ms/step - loss: 0.5265 - accuracy: 0.8374 - val_loss: 0.4268 - val_accuracy: 0.8746\n",
            "Epoch 7/30\n",
            "263/263 [==============================] - 1s 4ms/step - loss: 0.4999 - accuracy: 0.8466 - val_loss: 0.4266 - val_accuracy: 0.8812\n",
            "Epoch 8/30\n",
            "263/263 [==============================] - 1s 4ms/step - loss: 0.4774 - accuracy: 0.8524 - val_loss: 0.4319 - val_accuracy: 0.8802\n",
            "Epoch 9/30\n",
            "263/263 [==============================] - 1s 4ms/step - loss: 0.4490 - accuracy: 0.8599 - val_loss: 0.4163 - val_accuracy: 0.8810\n",
            "Epoch 10/30\n",
            "263/263 [==============================] - 1s 4ms/step - loss: 0.4339 - accuracy: 0.8663 - val_loss: 0.4307 - val_accuracy: 0.8807\n",
            "Epoch 11/30\n",
            "263/263 [==============================] - 1s 4ms/step - loss: 0.4179 - accuracy: 0.8689 - val_loss: 0.4443 - val_accuracy: 0.8705\n",
            "Epoch 12/30\n",
            "263/263 [==============================] - 1s 4ms/step - loss: 0.4121 - accuracy: 0.8713 - val_loss: 0.4157 - val_accuracy: 0.8910\n",
            "Epoch 13/30\n",
            "263/263 [==============================] - 1s 4ms/step - loss: 0.3954 - accuracy: 0.8770 - val_loss: 0.3953 - val_accuracy: 0.8965\n",
            "Epoch 14/30\n",
            "263/263 [==============================] - 1s 4ms/step - loss: 0.3837 - accuracy: 0.8777 - val_loss: 0.4036 - val_accuracy: 0.8912\n",
            "Epoch 15/30\n",
            "263/263 [==============================] - 1s 4ms/step - loss: 0.3701 - accuracy: 0.8844 - val_loss: 0.4183 - val_accuracy: 0.8874\n",
            "Epoch 16/30\n",
            "263/263 [==============================] - 1s 4ms/step - loss: 0.3629 - accuracy: 0.8849 - val_loss: 0.4054 - val_accuracy: 0.8910\n",
            "Epoch 17/30\n",
            "263/263 [==============================] - 1s 4ms/step - loss: 0.3475 - accuracy: 0.8879 - val_loss: 0.4032 - val_accuracy: 0.8899\n",
            "Epoch 18/30\n",
            "263/263 [==============================] - 1s 4ms/step - loss: 0.3431 - accuracy: 0.8898 - val_loss: 0.4130 - val_accuracy: 0.8885\n",
            "Epoch 19/30\n",
            "263/263 [==============================] - 1s 4ms/step - loss: 0.3374 - accuracy: 0.8926 - val_loss: 0.4008 - val_accuracy: 0.8864\n",
            "Epoch 20/30\n",
            "263/263 [==============================] - 1s 4ms/step - loss: 0.3202 - accuracy: 0.8974 - val_loss: 0.4309 - val_accuracy: 0.8846\n",
            "Epoch 21/30\n",
            "263/263 [==============================] - 1s 4ms/step - loss: 0.3213 - accuracy: 0.8957 - val_loss: 0.4240 - val_accuracy: 0.8880\n",
            "Epoch 22/30\n",
            "263/263 [==============================] - 1s 4ms/step - loss: 0.3121 - accuracy: 0.8985 - val_loss: 0.4074 - val_accuracy: 0.8881\n",
            "Epoch 23/30\n",
            "263/263 [==============================] - 1s 4ms/step - loss: 0.3056 - accuracy: 0.9001 - val_loss: 0.4171 - val_accuracy: 0.8946\n",
            "Epoch 24/30\n",
            "263/263 [==============================] - 1s 4ms/step - loss: 0.3103 - accuracy: 0.9009 - val_loss: 0.3858 - val_accuracy: 0.9011\n",
            "Epoch 25/30\n",
            "263/263 [==============================] - 1s 4ms/step - loss: 0.2925 - accuracy: 0.9034 - val_loss: 0.4319 - val_accuracy: 0.8963\n",
            "Epoch 26/30\n",
            "263/263 [==============================] - 1s 4ms/step - loss: 0.2815 - accuracy: 0.9076 - val_loss: 0.4432 - val_accuracy: 0.8915\n",
            "Epoch 27/30\n",
            "263/263 [==============================] - 1s 4ms/step - loss: 0.2772 - accuracy: 0.9079 - val_loss: 0.4781 - val_accuracy: 0.8901\n",
            "Epoch 28/30\n",
            "263/263 [==============================] - 1s 4ms/step - loss: 0.2774 - accuracy: 0.9100 - val_loss: 0.4198 - val_accuracy: 0.8977\n",
            "Epoch 29/30\n",
            "263/263 [==============================] - 1s 4ms/step - loss: 0.2748 - accuracy: 0.9096 - val_loss: 0.4158 - val_accuracy: 0.9005\n",
            "Epoch 30/30\n",
            "263/263 [==============================] - 1s 4ms/step - loss: 0.2694 - accuracy: 0.9101 - val_loss: 0.4647 - val_accuracy: 0.8976\n"
          ]
        }
      ],
      "source": [
        "history_2 = cnn_model_2.fit(\n",
        "    X_train_normalized, y_train_encoded, epochs=30, validation_split=0.2, shuffle=True, batch_size=128, verbose=1\n",
        ")"
      ]
    },
    {
      "cell_type": "markdown",
      "metadata": {
        "id": "PyhUtMy3KDN1"
      },
      "source": [
        "### **Plot the Training and Validation accuracies and write your observations.**\n"
      ]
    },
    {
      "cell_type": "code",
      "execution_count": 40,
      "metadata": {
        "colab": {
          "base_uri": "https://localhost:8080/",
          "height": 472
        },
        "id": "YVQu7uWiAjQH",
        "outputId": "47fc3ee7-c8ca-473f-ce31-8e9cd226d18d"
      },
      "outputs": [
        {
          "data": {
            "image/png": "[encoded data removed]",
            "text/plain": [
              "<Figure size 640x480 with 1 Axes>"
            ]
          },
          "metadata": {},
          "output_type": "display_data"
        }
      ],
      "source": [
        "plt.plot(history_2.history[\"accuracy\"])\n",
        "plt.plot(history_2.history[\"val_accuracy\"])\n",
        "plt.title(\"Model Accuracy\")\n",
        "plt.ylabel(\"Accuracy\")\n",
        "plt.xlabel(\"Epoch\")\n",
        "plt.legend([\"Train\", \"Validation\"], loc=\"upper left\")\n",
        "plt.show()"
      ]
    },
    {
      "cell_type": "markdown",
      "metadata": {
        "id": "Qrrt0Ac3AjQH"
      },
      "source": [
        "**Observations:**\n",
        "\n",
        "- The training accuracy is very high, reaching above 90%, which indicates the model has learned to classify the digits from the training dataset effectively.\n",
        "\n",
        "- In this second model, the validation accuracy closely tracks the training accuracy, staying above 88% and showing a tight convergence with the training curve.\n",
        "- Therefore, this implies that the model is generalizing well to unseen data and suggests a good balance between bias and variance, with no significant overfitting observed within the range of epochs shown.\n"
      ]
    },
    {
      "cell_type": "markdown",
      "metadata": {
        "id": "kja4SnOdAjQI"
      },
      "source": [
        "## **Predictions on the test data**\n",
        "\n",
        "- Make predictions on the test set using the second model.\n",
        "- Print the obtained results using the classification report and the confusion matrix.\n",
        "- Final observations on the obtained results.\n"
      ]
    },
    {
      "cell_type": "markdown",
      "metadata": {
        "id": "eHCRwRbgKDN2"
      },
      "source": [
        "### **Make predictions on the test data using the second model.**\n"
      ]
    },
    {
      "cell_type": "code",
      "execution_count": 41,
      "metadata": {
        "colab": {
          "base_uri": "https://localhost:8080/"
        },
        "id": "f1d-VvaLAjQI",
        "outputId": "a29dd093-8a58-4ccc-e993-550dd6983b60"
      },
      "outputs": [
        {
          "name": "stdout",
          "output_type": "stream",
          "text": [
            "563/563 [==============================] - 1s 1ms/step\n"
          ]
        }
      ],
      "source": [
        "# Making predictions on the test data\n",
        "y_pred_test = cnn_model_2.predict(X_test_normalized)"
      ]
    },
    {
      "cell_type": "markdown",
      "metadata": {
        "id": "DrV1tOG0AjQI"
      },
      "source": [
        "**Note:** Earlier, we noticed that each entry of the target variable is a one-hot encoded vector, but to print the classification report and confusion matrix, we must convert each entry of y_test to a single label.\n"
      ]
    },
    {
      "cell_type": "code",
      "execution_count": 42,
      "metadata": {
        "id": "dUSHU9W0AjQI"
      },
      "outputs": [],
      "source": [
        "# Converting probabilities to class labels\n",
        "y_pred_test_classes = np.argmax(y_pred_test, axis=1)\n",
        "\n",
        "# Calculating the probability of the predicted class\n",
        "y_pred_test_max_probas = np.max(y_pred_test, axis=1)\n",
        "\n",
        "unique_classes = np.unique(y_pred_test_classes)\n",
        "tick_labels = [str(cls) for cls in unique_classes]"
      ]
    },
    {
      "cell_type": "markdown",
      "metadata": {
        "id": "aVCa-ysWKDN3"
      },
      "source": [
        "### **Write your final observations on the performance of the model on the test data.**\n"
      ]
    },
    {
      "cell_type": "code",
      "execution_count": 43,
      "metadata": {
        "colab": {
          "base_uri": "https://localhost:8080/",
          "height": 760
        },
        "id": "sOMq2rCJAjQJ",
        "outputId": "1fa7250a-e77c-4757-cfd2-c8dc92a92877"
      },
      "outputs": [
        {
          "name": "stdout",
          "output_type": "stream",
          "text": [
            "              precision    recall  f1-score   support\n",
            "\n",
            "           0       0.92      0.92      0.92      1814\n",
            "           1       0.90      0.89      0.90      1828\n",
            "           2       0.91      0.92      0.91      1803\n",
            "           3       0.91      0.84      0.87      1719\n",
            "           4       0.91      0.93      0.92      1812\n",
            "           5       0.89      0.89      0.89      1768\n",
            "           6       0.85      0.89      0.87      1832\n",
            "           7       0.90      0.92      0.91      1808\n",
            "           8       0.88      0.87      0.88      1812\n",
            "           9       0.90      0.89      0.89      1804\n",
            "\n",
            "    accuracy                           0.90     18000\n",
            "   macro avg       0.90      0.90      0.90     18000\n",
            "weighted avg       0.90      0.90      0.90     18000\n",
            "\n"
          ]
        },
        {
          "data": {
            "image/png": "[encoded data removed]",
            "text/plain": [
              "<Figure size 800x500 with 2 Axes>"
            ]
          },
          "metadata": {},
          "output_type": "display_data"
        }
      ],
      "source": [
        "# Printing the classification report\n",
        "print(classification_report(Y_test, y_pred_test_classes))\n",
        "\n",
        "# Plotting the heatmap using confusion matrix\n",
        "cm = confusion_matrix(Y_test, y_pred_test_classes)\n",
        "\n",
        "plt.figure(figsize=(8, 5))\n",
        "\n",
        "sns.heatmap(cm, annot=True, fmt=\".0f\",\n",
        "            xticklabels=tick_labels, yticklabels=tick_labels)\n",
        "\n",
        "plt.ylabel(\"Actual\")\n",
        "\n",
        "plt.xlabel(\"Predicted\")\n",
        "\n",
        "# Display the plot\n",
        "plt.show()"
      ]
    },
    {
      "cell_type": "markdown",
      "metadata": {
        "id": "TNN9v713AjQJ"
      },
      "source": [
        "**Final Observations:**\n",
        "\n",
        "- The classification report shows high precision, recall, and f1-scores for all digit classes, indicating that the model is performing well across the board.\n",
        "\n",
        "- The confusion matrix reveals that most predictions are concentrated along the diagonal, meaning that the majority of predictions are correct.\n",
        "\n",
        "- Misclassifications are relatively few and distributed across various classes, which indicates no single class is significantly more challenging for the model than others.\n",
        "\n",
        "- The overall accuracy of the model on the test data is 89%, which is a strong performance and suggests the model is robust in recognizing digits from the dataset.\n",
        "\n",
        "- This Convolutional NN model outperforms the previous ANN one, with an 89% accuracy from the CNN compared to the 77% one from the ANN. In case of moving a model into production, we would pick the CNN as a starting point.\n"
      ]
    }
  ],
  "metadata": {
    "accelerator": "GPU",
    "colab": {
      "gpuType": "A100",
      "provenance": []
    },
    "kernelspec": {
      "display_name": "Python 3",
      "name": "python3"
    },
    "language_info": {
      "codemirror_mode": {
        "name": "ipython",
        "version": 3
      },
      "file_extension": ".py",
      "mimetype": "text/x-python",
      "name": "python",
      "nbconvert_exporter": "python",
      "pygments_lexer": "ipython3",
      "version": "3.10.12"
    }
  },
  "nbformat": 4,
  "nbformat_minor": 0
}
