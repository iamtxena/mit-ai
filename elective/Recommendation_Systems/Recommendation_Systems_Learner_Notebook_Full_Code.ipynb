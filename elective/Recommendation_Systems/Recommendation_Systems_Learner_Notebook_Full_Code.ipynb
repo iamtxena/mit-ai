{
 "cells": [
  {
   "cell_type": "markdown",
   "metadata": {
    "id": "pXQzH0nC5JtP"
   },
   "source": [
    "# **Project: Amazon Product Recommendation System**\n",
    "\n",
    "# **Marks: 60**\n",
    "\n",
    "Welcome to the project on Recommendation Systems. We will work with the Amazon product reviews dataset for this project. The dataset contains ratings of different electronic products. It does not include information about the products or reviews to avoid bias while building the model.\n",
    "\n",
    "---\n",
    "\n",
    "## **Context:**\n",
    "\n",
    "---\n",
    "\n",
    "Today, information is growing exponentially with volume, velocity and variety throughout the globe. This has lead to information overload, and too many choices for the consumer of any business. It represents a real dilemma for these consumers and they often turn to denial. Recommender Systems are one of the best tools that help recommending products to consumers while they are browsing online. Providing personalized recommendations which is most relevant for the user is what's most likely to keep them engaged and help business.\n",
    "\n",
    "E-commerce websites like Amazon, Walmart, Target and Etsy use different recommendation models to provide personalized suggestions to different users. These companies spend millions of dollars to come up with algorithmic techniques that can provide personalized recommendations to their users.\n",
    "\n",
    "Amazon, for example, is well-known for its accurate selection of recommendations in its online site. Amazon's recommendation system is capable of intelligently analyzing and predicting customers' shopping preferences in order to offer them a list of recommended products. Amazon's recommendation algorithm is therefore a key element in using AI to improve the personalization of its website. For example, one of the baseline recommendation models that Amazon uses is item-to-item collaborative filtering, which scales to massive data sets and produces high-quality recommendations in real-time.\n",
    "\n",
    "---\n",
    "\n",
    "## **Objective:**\n",
    "\n",
    "---\n",
    "\n",
    "You are a Data Science Manager at Amazon, and have been given the task of building a recommendation system to recommend products to customers based on their previous ratings for other products. You have a collection of labeled data of Amazon reviews of products. The goal is to extract meaningful insights from the data and build a recommendation system that helps in recommending products to online consumers.\n",
    "\n",
    "---\n",
    "\n",
    "## **Dataset:**\n",
    "\n",
    "---\n",
    "\n",
    "The Amazon dataset contains the following attributes:\n",
    "\n",
    "- **userId:** Every user identified with a unique id\n",
    "- **productId:** Every product identified with a unique id\n",
    "- **Rating:** The rating of the corresponding product by the corresponding user\n",
    "- **timestamp:** Time of the rating. We **will not use this column** to solve the current problem\n"
   ]
  },
  {
   "cell_type": "markdown",
   "metadata": {
    "id": "nmdPxJ2Q7W7p"
   },
   "source": [
    "**Note:** The code has some user defined functions that will be usefull while making recommendations and measure model performance, you can use these functions or can create your own functions.\n"
   ]
  },
  {
   "cell_type": "markdown",
   "metadata": {
    "id": "UoRfgjS2yekq"
   },
   "source": [
    "Sometimes, the installation of the surprise library, which is used to build recommendation systems, faces issues in Jupyter. To avoid any issues, it is advised to use **Google Colab** for this project.\n",
    "\n",
    "Let's start by mounting the Google drive on Colab.\n"
   ]
  },
  {
   "cell_type": "markdown",
   "metadata": {
    "id": "0Ibk07-Cyekt"
   },
   "source": [
    "**Installing surprise library**\n"
   ]
  },
  {
   "cell_type": "code",
   "execution_count": 1,
   "metadata": {},
   "outputs": [],
   "source": [
    "# !pip install surprise"
   ]
  },
  {
   "cell_type": "markdown",
   "metadata": {
    "id": "7fIt4jcFIm76"
   },
   "source": [
    "## **Importing the necessary libraries and overview of the dataset**\n"
   ]
  },
  {
   "cell_type": "code",
   "execution_count": 2,
   "metadata": {},
   "outputs": [],
   "source": [
    "import pandas as pd\n",
    "import numpy as np\n",
    "import matplotlib.pyplot as plt\n",
    "import seaborn as sns\n",
    "\n",
    "# Setting up the visualizations to be inline in Jupyter Notebook\n",
    "%matplotlib inline"
   ]
  },
  {
   "cell_type": "markdown",
   "metadata": {
    "id": "NrXYJAv95JtP"
   },
   "source": [
    "### **Loading the data**\n",
    "\n",
    "- Import the Dataset\n",
    "- Add column names ['user_id', 'prod_id', 'rating', 'timestamp']\n",
    "- Drop the column timestamp\n",
    "- Copy the data to another DataFrame called **df**\n"
   ]
  },
  {
   "cell_type": "code",
   "execution_count": null,
   "metadata": {
    "id": "JGb-Hk1B5JtP"
   },
   "outputs": [],
   "source": []
  },
  {
   "cell_type": "code",
   "execution_count": 3,
   "metadata": {},
   "outputs": [],
   "source": [
    "# Load the dataset\n",
    "df = pd.read_csv(\"ratings_Electronics.csv\", names=[\"user_id\", \"prod_id\", \"rating\", \"timestamp\"])\n",
    "\n",
    "# Dropping the 'timestamp' column as it's not needed for the recommendation system\n",
    "df.drop(\"timestamp\", axis=1, inplace=True)"
   ]
  },
  {
   "cell_type": "code",
   "execution_count": 4,
   "metadata": {},
   "outputs": [
    {
     "name": "stdout",
     "output_type": "stream",
     "text": [
      "          user_id     prod_id  rating\n",
      "0   AKM1MP6P0OYPR  0132793040     5.0\n",
      "1  A2CX7LUOHB2NDG  0321732944     5.0\n",
      "2  A2NWSAGRHCP8N5  0439886341     1.0\n",
      "3  A2WNBOD3WNDNKT  0439886341     3.0\n",
      "4  A1GI0U4ZRJA8WN  0439886341     1.0\n",
      "Dataset shape: (7824482, 3)\n",
      "count    7.824482e+06\n",
      "mean     4.012337e+00\n",
      "std      1.380910e+00\n",
      "min      1.000000e+00\n",
      "25%      3.000000e+00\n",
      "50%      5.000000e+00\n",
      "75%      5.000000e+00\n",
      "max      5.000000e+00\n",
      "Name: rating, dtype: float64\n",
      "Missing values in each column:\n",
      " user_id    0\n",
      "prod_id    0\n",
      "rating     0\n",
      "dtype: int64\n"
     ]
    }
   ],
   "source": [
    "# Display the first few rows of the dataset\n",
    "print(df.head())\n",
    "\n",
    "# Display the shape of the dataset\n",
    "print(\"Dataset shape:\", df.shape)\n",
    "\n",
    "# Basic statistics of the 'Rating' column\n",
    "print(df[\"rating\"].describe())\n",
    "\n",
    "# Checking for missing values\n",
    "print(\"Missing values in each column:\\n\", df.isnull().sum())"
   ]
  },
  {
   "cell_type": "code",
   "execution_count": 5,
   "metadata": {},
   "outputs": [
    {
     "data": {
      "image/png": "[encoded data removed]",
      "text/plain": [
       "<Figure size 800x600 with 1 Axes>"
      ]
     },
     "metadata": {},
     "output_type": "display_data"
    }
   ],
   "source": [
    "plt.figure(figsize=(8, 6))\n",
    "sns.countplot(x=\"rating\", data=df)\n",
    "plt.title(\"Distribution of Ratings\")\n",
    "plt.show()"
   ]
  },
  {
   "cell_type": "markdown",
   "metadata": {
    "id": "OVQnSG5g_9uX"
   },
   "source": [
    "**As this dataset is very large and has 7,824,482 observations, it is not computationally possible to build a model using this. Moreover, many users have only rated a few products and also some products are rated by very few users. Hence, we can reduce the dataset by considering certain logical assumptions.**\n",
    "\n",
    "Here, we will be taking users who have given at least 50 ratings, and the products that have at least 5 ratings, as when we shop online we prefer to have some number of ratings of a product.\n"
   ]
  },
  {
   "cell_type": "code",
   "execution_count": 6,
   "metadata": {
    "id": "4yt9W7Q32EQQ"
   },
   "outputs": [],
   "source": [
    "# Get the column containing the users\n",
    "users = df.user_id\n",
    "\n",
    "# Create a dictionary from users to their number of ratings\n",
    "ratings_count = dict()\n",
    "\n",
    "for user in users:\n",
    "\n",
    "    # If we already have the user, just add 1 to their rating count\n",
    "    if user in ratings_count:\n",
    "        ratings_count[user] += 1\n",
    "\n",
    "    # Otherwise, set their rating count to 1\n",
    "    else:\n",
    "        ratings_count[user] = 1"
   ]
  },
  {
   "cell_type": "code",
   "execution_count": 7,
   "metadata": {
    "id": "19XB60dq2EQR"
   },
   "outputs": [],
   "source": [
    "# We want our users to have at least 50 ratings to be considered\n",
    "RATINGS_CUTOFF = 50\n",
    "\n",
    "remove_users = []\n",
    "\n",
    "for user, num_ratings in ratings_count.items():\n",
    "    if num_ratings < RATINGS_CUTOFF:\n",
    "        remove_users.append(user)\n",
    "\n",
    "df = df.loc[~df.user_id.isin(remove_users)]"
   ]
  },
  {
   "cell_type": "code",
   "execution_count": 8,
   "metadata": {
    "id": "33UzK1D82EQS"
   },
   "outputs": [],
   "source": [
    "# Get the column containing the products\n",
    "prods = df.prod_id\n",
    "\n",
    "# Create a dictionary from products to their number of ratings\n",
    "ratings_count = dict()\n",
    "\n",
    "for prod in prods:\n",
    "\n",
    "    # If we already have the product, just add 1 to its rating count\n",
    "    if prod in ratings_count:\n",
    "        ratings_count[prod] += 1\n",
    "\n",
    "    # Otherwise, set their rating count to 1\n",
    "    else:\n",
    "        ratings_count[prod] = 1"
   ]
  },
  {
   "cell_type": "code",
   "execution_count": 9,
   "metadata": {
    "id": "u6YE-lUp2EQT"
   },
   "outputs": [],
   "source": [
    "# We want our item to have at least 5 ratings to be considered\n",
    "RATINGS_CUTOFF = 5\n",
    "\n",
    "remove_users = []\n",
    "\n",
    "for user, num_ratings in ratings_count.items():\n",
    "    if num_ratings < RATINGS_CUTOFF:\n",
    "        remove_users.append(user)\n",
    "\n",
    "df_final = df.loc[~df.prod_id.isin(remove_users)]"
   ]
  },
  {
   "cell_type": "code",
   "execution_count": 10,
   "metadata": {
    "id": "aL1JZ00o5JtQ"
   },
   "outputs": [
    {
     "data": {
      "text/html": [
       "<div>\n",
       "<style scoped>\n",
       "    .dataframe tbody tr th:only-of-type {\n",
       "        vertical-align: middle;\n",
       "    }\n",
       "\n",
       "    .dataframe tbody tr th {\n",
       "        vertical-align: top;\n",
       "    }\n",
       "\n",
       "    .dataframe thead th {\n",
       "        text-align: right;\n",
       "    }\n",
       "</style>\n",
       "<table border=\"1\" class=\"dataframe\">\n",
       "  <thead>\n",
       "    <tr style=\"text-align: right;\">\n",
       "      <th></th>\n",
       "      <th>user_id</th>\n",
       "      <th>prod_id</th>\n",
       "      <th>rating</th>\n",
       "    </tr>\n",
       "  </thead>\n",
       "  <tbody>\n",
       "    <tr>\n",
       "      <th>1310</th>\n",
       "      <td>A3LDPF5FMB782Z</td>\n",
       "      <td>1400501466</td>\n",
       "      <td>5.0</td>\n",
       "    </tr>\n",
       "    <tr>\n",
       "      <th>1322</th>\n",
       "      <td>A1A5KUIIIHFF4U</td>\n",
       "      <td>1400501466</td>\n",
       "      <td>1.0</td>\n",
       "    </tr>\n",
       "    <tr>\n",
       "      <th>1335</th>\n",
       "      <td>A2XIOXRRYX0KZY</td>\n",
       "      <td>1400501466</td>\n",
       "      <td>3.0</td>\n",
       "    </tr>\n",
       "    <tr>\n",
       "      <th>1451</th>\n",
       "      <td>AW3LX47IHPFRL</td>\n",
       "      <td>1400501466</td>\n",
       "      <td>5.0</td>\n",
       "    </tr>\n",
       "    <tr>\n",
       "      <th>1456</th>\n",
       "      <td>A1E3OB6QMBKRYZ</td>\n",
       "      <td>1400501466</td>\n",
       "      <td>1.0</td>\n",
       "    </tr>\n",
       "  </tbody>\n",
       "</table>\n",
       "</div>"
      ],
      "text/plain": [
       "             user_id     prod_id  rating\n",
       "1310  A3LDPF5FMB782Z  1400501466     5.0\n",
       "1322  A1A5KUIIIHFF4U  1400501466     1.0\n",
       "1335  A2XIOXRRYX0KZY  1400501466     3.0\n",
       "1451   AW3LX47IHPFRL  1400501466     5.0\n",
       "1456  A1E3OB6QMBKRYZ  1400501466     1.0"
      ]
     },
     "execution_count": 10,
     "metadata": {},
     "output_type": "execute_result"
    }
   ],
   "source": [
    "# Print a few rows of the imported dataset\n",
    "df_final.head()"
   ]
  },
  {
   "cell_type": "markdown",
   "metadata": {
    "id": "GuPoy_XfxhXZ"
   },
   "source": [
    "## **Exploratory Data Analysis**\n"
   ]
  },
  {
   "cell_type": "markdown",
   "metadata": {
    "id": "s0d0bWeG-sVB"
   },
   "source": [
    "### **Shape of the data**\n"
   ]
  },
  {
   "cell_type": "markdown",
   "metadata": {
    "id": "qyBVTRDTyek0"
   },
   "source": [
    "### **Check the number of rows and columns and provide observations.**\n"
   ]
  },
  {
   "cell_type": "code",
   "execution_count": 11,
   "metadata": {
    "id": "fJ4eQKaY5JtQ"
   },
   "outputs": [],
   "source": [
    "# Check the number of rows and columns and provide observations"
   ]
  },
  {
   "cell_type": "code",
   "execution_count": 12,
   "metadata": {},
   "outputs": [
    {
     "name": "stdout",
     "output_type": "stream",
     "text": [
      "Dataset shape: 65,290 rows, 3 columns\n"
     ]
    }
   ],
   "source": [
    "dataset_shape = df_final.shape\n",
    "print(f\"Dataset shape: {dataset_shape[0]:,} rows, {dataset_shape[1]:,} columns\")"
   ]
  },
  {
   "cell_type": "markdown",
   "metadata": {
    "id": "Slp-fgWQ-sVD"
   },
   "source": [
    "**Write your observations here:**\\_\\_\\*\\*\\*\\*\n"
   ]
  },
  {
   "cell_type": "markdown",
   "metadata": {
    "id": "lAMWm0nC-sVF"
   },
   "source": [
    "### **Data types**\n"
   ]
  },
  {
   "cell_type": "code",
   "execution_count": 13,
   "metadata": {},
   "outputs": [
    {
     "name": "stdout",
     "output_type": "stream",
     "text": [
      "user_id     object\n",
      "prod_id     object\n",
      "rating     float64\n",
      "dtype: object\n"
     ]
    }
   ],
   "source": [
    "# Display data types of each column\n",
    "data_types = df_final.dtypes\n",
    "print(data_types)"
   ]
  },
  {
   "cell_type": "code",
   "execution_count": 14,
   "metadata": {},
   "outputs": [
    {
     "name": "stderr",
     "output_type": "stream",
     "text": [
      "/tmp/ipykernel_3334508/1672868963.py:1: SettingWithCopyWarning: \n",
      "A value is trying to be set on a copy of a slice from a DataFrame.\n",
      "Try using .loc[row_indexer,col_indexer] = value instead\n",
      "\n",
      "See the caveats in the documentation: https://pandas.pydata.org/pandas-docs/stable/user_guide/indexing.html#returning-a-view-versus-a-copy\n",
      "  df_final[\"user_id\"] = df_final[\"user_id\"].astype(str)  # Convert userId to string\n",
      "/tmp/ipykernel_3334508/1672868963.py:2: SettingWithCopyWarning: \n",
      "A value is trying to be set on a copy of a slice from a DataFrame.\n",
      "Try using .loc[row_indexer,col_indexer] = value instead\n",
      "\n",
      "See the caveats in the documentation: https://pandas.pydata.org/pandas-docs/stable/user_guide/indexing.html#returning-a-view-versus-a-copy\n",
      "  df_final[\"prod_id\"] = df_final[\"prod_id\"].astype(str)  # Convert productId to string\n",
      "/tmp/ipykernel_3334508/1672868963.py:3: SettingWithCopyWarning: \n",
      "A value is trying to be set on a copy of a slice from a DataFrame.\n",
      "Try using .loc[row_indexer,col_indexer] = value instead\n",
      "\n",
      "See the caveats in the documentation: https://pandas.pydata.org/pandas-docs/stable/user_guide/indexing.html#returning-a-view-versus-a-copy\n",
      "  df_final[\"rating\"] = df_final[\"rating\"].astype(float)  # Convert Rating to float\n"
     ]
    }
   ],
   "source": [
    "df_final[\"user_id\"] = df_final[\"user_id\"].astype(str)  # Convert userId to string\n",
    "df_final[\"prod_id\"] = df_final[\"prod_id\"].astype(str)  # Convert productId to string\n",
    "df_final[\"rating\"] = df_final[\"rating\"].astype(float)  # Convert Rating to float"
   ]
  },
  {
   "cell_type": "markdown",
   "metadata": {
    "id": "z4fOE02D-sVF"
   },
   "source": [
    "**Write your observations here:**\\_\\_\\*\\*\\*\\*\n"
   ]
  },
  {
   "cell_type": "markdown",
   "metadata": {
    "id": "lTMpOROT-sVG"
   },
   "source": [
    "### **Checking for missing values**\n"
   ]
  },
  {
   "cell_type": "code",
   "execution_count": 15,
   "metadata": {},
   "outputs": [
    {
     "name": "stdout",
     "output_type": "stream",
     "text": [
      "Missing values in each column:\n",
      " user_id    0\n",
      "prod_id    0\n",
      "rating     0\n",
      "dtype: int64\n"
     ]
    }
   ],
   "source": [
    "# Check for missing values in each column\n",
    "missing_values = df_final.isnull().sum()\n",
    "print(\"Missing values in each column:\\n\", missing_values)"
   ]
  },
  {
   "cell_type": "markdown",
   "metadata": {
    "id": "qMWuBNhI5JtR"
   },
   "source": [
    "**Write your observations here:**\\_\\_\\*\\*\\*\\*\n"
   ]
  },
  {
   "cell_type": "markdown",
   "metadata": {
    "id": "wETrCg48-sVG"
   },
   "source": [
    "### **Summary Statistics**\n"
   ]
  },
  {
   "cell_type": "code",
   "execution_count": 16,
   "metadata": {},
   "outputs": [
    {
     "name": "stdout",
     "output_type": "stream",
     "text": [
      "Rating Statistics:\n",
      "Count: 65,290.0\n",
      "Mean: 4.29\n",
      "Std: 0.99\n",
      "Min: 1.00\n",
      "25%: 4.00\n",
      "50% (Median): 5.00\n",
      "75%: 5.00\n",
      "Max: 5.00\n"
     ]
    }
   ],
   "source": [
    "rating_stats = df_final[\"rating\"].describe()\n",
    "\n",
    "# Display basic statistics with formatting\n",
    "print(\"Rating Statistics:\")\n",
    "print(f\"Count: {rating_stats['count']:,}\")\n",
    "print(f\"Mean: {rating_stats['mean']:.2f}\")\n",
    "print(f\"Std: {rating_stats['std']:.2f}\")\n",
    "print(f\"Min: {rating_stats['min']:.2f}\")\n",
    "print(f\"25%: {rating_stats['25%']:.2f}\")\n",
    "print(f\"50% (Median): {rating_stats['50%']:.2f}\")\n",
    "print(f\"75%: {rating_stats['75%']:.2f}\")\n",
    "print(f\"Max: {rating_stats['max']:.2f}\")"
   ]
  },
  {
   "cell_type": "markdown",
   "metadata": {
    "id": "VqW50EIJxhXc"
   },
   "source": [
    "**Write your observations here:**\\_\\_\\*\\*\\*\\*\n"
   ]
  },
  {
   "cell_type": "markdown",
   "metadata": {
    "id": "ywyFrZIf5JtR"
   },
   "source": [
    "### **Checking the rating distribution**\n"
   ]
  },
  {
   "cell_type": "code",
   "execution_count": 17,
   "metadata": {},
   "outputs": [
    {
     "data": {
      "image/png": "[encoded data removed]",
      "text/plain": [
       "<Figure size 800x600 with 1 Axes>"
      ]
     },
     "metadata": {},
     "output_type": "display_data"
    }
   ],
   "source": [
    "import matplotlib.pyplot as plt\n",
    "import seaborn as sns\n",
    "\n",
    "# Setting the aesthetic style of the plots\n",
    "sns.set_style(\"whitegrid\")\n",
    "\n",
    "# Creating the bar plot with a uniform color\n",
    "plt.figure(figsize=(8, 6))\n",
    "sns.countplot(x=\"rating\", data=df_final, color=\"c\")  # Using a uniform color\n",
    "plt.title(\"Distribution of Ratings\")\n",
    "plt.xlabel(\"Rating\")\n",
    "plt.ylabel(\"Frequency\")\n",
    "plt.show()"
   ]
  },
  {
   "cell_type": "markdown",
   "metadata": {
    "id": "t0jONrQv-sVH"
   },
   "source": [
    "**Write your observations here:**\\_\\_\\_\\_\\*\\*\\*\\*\n",
    "\n",
    "### Observations:\n",
    "\n",
    "From the bar plot, you might observe several key points regarding the distribution of ratings:\n",
    "Skewness: The distribution might be left-skewed or right-skewed. A left-skewed distribution indicates that higher ratings are more common, whereas a right-skewed distribution suggests that lower ratings are more frequent.\n",
    "Popularity of Ratings: Certain ratings (e.g., 4 or 5) might be significantly more common than others. This could indicate a tendency among users to rate products they like, while being less likely to rate products they feel neutral or negative about.\n",
    "Presence of Extreme Ratings: If there are a large number of 1 or 5 ratings, it suggests that users are more likely to rate products they feel strongly about, either positively or negatively.\n",
    "Rating Diversity: A more uniform distribution across different ratings indicates a diverse range of opinions among users, which can be beneficial for building a recommendation system that caters to varied tastes.\n",
    "Additional Considerations:\n",
    "Impact on Recommendation System: The distribution of ratings can affect the performance of your recommendation system. For instance, if most ratings are high, the system might have a harder time distinguishing between good and excellent products.\n",
    "Data Preprocessing: Depending on your observations, you might decide to filter out products or users with very few ratings to improve the quality and reliability of your recommendations.\n",
    "Visualizing the distribution of ratings is an essential step in understanding user behavior and setting the stage for more informed data preprocessing and model building decisions.\n"
   ]
  },
  {
   "cell_type": "markdown",
   "metadata": {
    "id": "HefpLdLJxhXd"
   },
   "source": [
    "### **Checking the number of unique users and items in the dataset**\n"
   ]
  },
  {
   "cell_type": "code",
   "execution_count": 18,
   "metadata": {},
   "outputs": [
    {
     "name": "stdout",
     "output_type": "stream",
     "text": [
      "Total number of rows in the data: 65,290\n",
      "Number of unique users: 1,540\n",
      "Number of unique products: 5,689\n"
     ]
    }
   ],
   "source": [
    "# Total number of rows in the data\n",
    "total_rows = df_final.shape[0]\n",
    "print(f\"Total number of rows in the data: {total_rows:,}\")\n",
    "\n",
    "# Number of unique user_id values\n",
    "unique_users = df_final[\"user_id\"].nunique()\n",
    "print(f\"Number of unique users: {unique_users:,}\")\n",
    "\n",
    "# Number of unique prod_id values\n",
    "unique_products = df_final[\"prod_id\"].nunique()\n",
    "print(f\"Number of unique products: {unique_products:,}\")"
   ]
  },
  {
   "cell_type": "markdown",
   "metadata": {
    "id": "Qwgz6CUt-sVI"
   },
   "source": [
    "**Write your observations here:**\\_\\_\\_\\*\\*\\*\\*\n",
    "\n",
    "Observations:\n",
    "Total Rows: This represents the total number of user-product interactions in your dataset. A higher number indicates a richer dataset that could potentially lead to a more accurate recommendation system.\n",
    "Unique Users: The count of unique user_id values shows how many individual users are represented in the dataset. A larger user base increases the complexity of the recommendation system but also provides a broader range of user preferences for the model to learn from.\n",
    "Unique Products: Similarly, the count of unique prod_id values indicates the variety of products rated by users. A diverse product set is crucial for a recommendation system to offer a wide range of recommendations.\n",
    "These metrics give you a foundational understanding of your dataset's structure and scope, which is essential for the subsequent steps in building and evaluating your recommendation system.\n"
   ]
  },
  {
   "cell_type": "markdown",
   "metadata": {
    "id": "RfDnhSS4-sVI"
   },
   "source": [
    "### **Users with the most number of ratings**\n"
   ]
  },
  {
   "cell_type": "code",
   "execution_count": 19,
   "metadata": {},
   "outputs": [
    {
     "name": "stdout",
     "output_type": "stream",
     "text": [
      "Top 10 users based on the number of ratings:\n",
      "user_id\n",
      "ADLVFFE4VBT8      295\n",
      "A3OXHLG6DIBRW8    230\n",
      "A1ODOGXEYECQQ8    217\n",
      "A36K2N527TXXJN    212\n",
      "A25C2M3QF9G7OQ    203\n",
      "A680RUE1FDO8B     196\n",
      "A1UQBFCERIP7VJ    193\n",
      "A22CW0ZHY3NJH8    193\n",
      "AWPODHOB4GFWL     184\n",
      "AGVWTYW0ULXHT     179\n",
      "Name: count, dtype: int64\n"
     ]
    }
   ],
   "source": [
    "# Count the number of ratings by each user and sort them in descending order\n",
    "top_users = df_final[\"user_id\"].value_counts().head(10)\n",
    "\n",
    "print(\"Top 10 users based on the number of ratings:\")\n",
    "print(top_users)"
   ]
  },
  {
   "cell_type": "markdown",
   "metadata": {
    "id": "1X2w_jt9-sVI"
   },
   "source": [
    "**Write your observations here:**\\_\\_\\_\\*\\*\\*\\*\n",
    "\n",
    "Observations:\n",
    "Active Users: The top 10 users are likely to be very active or engaged with the platform, having rated a large number of products. These users can be crucial in collaborative filtering models, as their ratings help in finding similarities and differences among users.\n",
    "Influence on Recommendation System: Highly active users might have a significant influence on the recommendation system, especially in user-based collaborative filtering, because their preferences can help in predicting ratings for other users with similar tastes.\n",
    "Potential for Bias: If a few users are extremely active compared to others, there might be a bias towards their preferences in the recommendation system. It's important to consider this when designing and evaluating your model.\n",
    "Identifying the most active users can also be useful for marketing strategies, such as targeting these users for feedback or promotions, given their high engagement level with the platform.\n"
   ]
  },
  {
   "cell_type": "markdown",
   "metadata": {
    "id": "EnYTx-Ol-sVg"
   },
   "source": [
    "**Now that we have explored and prepared the data, let's build the first recommendation system.**\n"
   ]
  },
  {
   "cell_type": "markdown",
   "metadata": {
    "id": "6xYGrGVy5JtS"
   },
   "source": [
    "## **Model 1: Rank Based Recommendation System**\n"
   ]
  },
  {
   "cell_type": "code",
   "execution_count": 20,
   "metadata": {},
   "outputs": [
    {
     "name": "stdout",
     "output_type": "stream",
     "text": [
      "            average_rating  rating_count\n",
      "prod_id                                 \n",
      "B00LGQ6HL8             5.0             5\n",
      "B003DZJQQI             5.0            14\n",
      "B005FDXF2C             5.0             7\n",
      "B00I6CVPVC             5.0             7\n",
      "B00B9KOCYA             5.0             8\n"
     ]
    }
   ],
   "source": [
    "# Calculate the average rating for each product\n",
    "average_rating = df_final.groupby(\"prod_id\")[\"rating\"].mean()\n",
    "\n",
    "# Calculate the count of ratings for each product\n",
    "count_ratings = df_final.groupby(\"prod_id\")[\"rating\"].count()\n",
    "\n",
    "# Create a dataframe with calculated average and count of ratings\n",
    "final_rating_df = pd.DataFrame({\"average_rating\": average_rating, \"rating_count\": count_ratings})\n",
    "\n",
    "# Sort the dataframe by average of ratings in the descending order\n",
    "final_rating_df = final_rating_df.sort_values(by=\"average_rating\", ascending=False)\n",
    "\n",
    "# See the first five records of the \"final_rating\" dataset\n",
    "print(final_rating_df.head())"
   ]
  },
  {
   "cell_type": "code",
   "execution_count": 21,
   "metadata": {},
   "outputs": [
    {
     "name": "stdout",
     "output_type": "stream",
     "text": [
      "            average_rating  rating_count\n",
      "prod_id                                 \n",
      "B001TH7GUU        4.871795            78\n",
      "B003ES5ZUU        4.864130           184\n",
      "B0019EHU8G        4.855556            90\n",
      "B006W8U2MU        4.824561            57\n",
      "B000QUUFRW        4.809524            84\n"
     ]
    }
   ],
   "source": [
    "def recommend_top_n_products(final_rating_df, n=5, min_interactions=50):\n",
    "    \"\"\"\n",
    "    Recommends the top n products based on the highest average rating,\n",
    "    filtered by a minimum number of interactions (ratings).\n",
    "\n",
    "    Parameters:\n",
    "    - final_rating_df: DataFrame containing products' average ratings and rating counts.\n",
    "    - n: Number of top products to recommend.\n",
    "    - min_interactions: Minimum number of interactions (ratings) a product must have to be considered.\n",
    "\n",
    "    Returns:\n",
    "    - A DataFrame of the top n recommended products.\n",
    "    \"\"\"\n",
    "\n",
    "    # Finding products with minimum number of interactions\n",
    "    eligible_products = final_rating_df[final_rating_df[\"rating_count\"] >= min_interactions]\n",
    "\n",
    "    # Sorting values with respect to average rating\n",
    "    top_n_products = eligible_products.sort_values(by=\"average_rating\", ascending=False).head(n)\n",
    "\n",
    "    return top_n_products\n",
    "\n",
    "\n",
    "# Example usage:\n",
    "# Assuming final_rating_df is already defined as per previous instructions\n",
    "top_n_recommendations = recommend_top_n_products(final_rating_df, n=5, min_interactions=50)\n",
    "print(top_n_recommendations)"
   ]
  },
  {
   "cell_type": "markdown",
   "metadata": {
    "id": "F8l6373PxhXi"
   },
   "source": [
    "### **Recommending top 5 products with 50 minimum interactions based on popularity**\n"
   ]
  },
  {
   "cell_type": "code",
   "execution_count": 22,
   "metadata": {},
   "outputs": [
    {
     "name": "stdout",
     "output_type": "stream",
     "text": [
      "Top 5 products with at least 50 minimum interactions, based on popularity:\n",
      "            average_rating  rating_count\n",
      "prod_id                                 \n",
      "B001TH7GUU        4.871795            78\n",
      "B003ES5ZUU        4.864130           184\n",
      "B0019EHU8G        4.855556            90\n",
      "B006W8U2MU        4.824561            57\n",
      "B000QUUFRW        4.809524            84\n"
     ]
    }
   ],
   "source": [
    "# Assuming final_rating_df is already defined and the recommend_top_n_products function is available\n",
    "top_5_recommendations = recommend_top_n_products(final_rating_df, n=5, min_interactions=50)\n",
    "print(\"Top 5 products with at least 50 minimum interactions, based on popularity:\")\n",
    "print(top_5_recommendations)"
   ]
  },
  {
   "cell_type": "markdown",
   "metadata": {
    "id": "l9_xW_UMxhXj"
   },
   "source": [
    "### **Recommending top 5 products with 100 minimum interactions based on popularity**\n"
   ]
  },
  {
   "cell_type": "code",
   "execution_count": 23,
   "metadata": {},
   "outputs": [
    {
     "name": "stdout",
     "output_type": "stream",
     "text": [
      "Top 5 products with at least 100 minimum interactions, based on popularity:\n",
      "            average_rating  rating_count\n",
      "prod_id                                 \n",
      "B003ES5ZUU        4.864130           184\n",
      "B000N99BBC        4.772455           167\n",
      "B002WE6D44        4.770000           100\n",
      "B007WTAJTO        4.701220           164\n",
      "B002V88HFE        4.698113           106\n"
     ]
    }
   ],
   "source": [
    "# Assuming final_rating_df is already defined and the recommend_top_n_products function is available\n",
    "top_5_recommendations_100_interactions = recommend_top_n_products(final_rating_df, n=5, min_interactions=100)\n",
    "print(\"Top 5 products with at least 100 minimum interactions, based on popularity:\")\n",
    "print(top_5_recommendations_100_interactions)"
   ]
  },
  {
   "cell_type": "markdown",
   "metadata": {
    "id": "BL-m68a15JtT",
    "outputId": "69132b0f-8d3f-4798-f6a0-249e17a3c822"
   },
   "source": [
    "We have recommended the **top 5** products by using the popularity recommendation system. Now, let's build a recommendation system using **collaborative filtering.**\n"
   ]
  },
  {
   "cell_type": "markdown",
   "metadata": {
    "id": "sJI5kiiGvOOK"
   },
   "source": [
    "## **Model 2: Collaborative Filtering Recommendation System**\n"
   ]
  },
  {
   "cell_type": "markdown",
   "metadata": {
    "id": "skzc0N1_nVNB"
   },
   "source": [
    "### **Building a baseline user-user similarity based recommendation system**\n"
   ]
  },
  {
   "cell_type": "markdown",
   "metadata": {
    "id": "d4Uo_MYMnVNB"
   },
   "source": [
    "- Below, we are building **similarity-based recommendation systems** using `cosine` similarity and using **KNN to find similar users** which are the nearest neighbor to the given user.\n",
    "- We will be using a new library, called `surprise`, to build the remaining models. Let's first import the necessary classes and functions from this library.\n"
   ]
  },
  {
   "cell_type": "code",
   "execution_count": 24,
   "metadata": {
    "id": "UJ1wEylUpexj"
   },
   "outputs": [],
   "source": [
    "# To compute the accuracy of models\n",
    "from surprise import accuracy\n",
    "\n",
    "# Class is used to parse a file containing ratings, data should be in structure - user ; item ; rating\n",
    "from surprise.reader import Reader\n",
    "\n",
    "# Class for loading datasets\n",
    "from surprise.dataset import Dataset\n",
    "\n",
    "# For tuning model hyperparameters\n",
    "from surprise.model_selection import GridSearchCV\n",
    "\n",
    "# For splitting the rating data in train and test datasets\n",
    "from surprise.model_selection import train_test_split\n",
    "\n",
    "# For implementing similarity-based recommendation system\n",
    "from surprise.prediction_algorithms.knns import KNNBasic\n",
    "\n",
    "# For implementing matrix factorization based recommendation system\n",
    "from surprise.prediction_algorithms.matrix_factorization import SVD\n",
    "\n",
    "# for implementing K-Fold cross-validation\n",
    "from surprise.model_selection import KFold\n",
    "\n",
    "# For implementing clustering-based recommendation system\n",
    "from surprise import CoClustering\n",
    "\n",
    "from collections import defaultdict"
   ]
  },
  {
   "cell_type": "markdown",
   "metadata": {
    "id": "54MqVAtDTsnl"
   },
   "source": [
    "**Before building the recommendation systems, let's go over some basic terminologies we are going to use:**\n"
   ]
  },
  {
   "cell_type": "markdown",
   "metadata": {
    "id": "Qsxb3xhnTsnl"
   },
   "source": [
    "**Relevant item:** An item (product in this case) that is actually **rated higher than the threshold rating** is relevant, if the **actual rating is below the threshold then it is a non-relevant item**.\n",
    "\n",
    "**Recommended item:** An item that's **predicted rating is higher than the threshold is a recommended item**, if the **predicted rating is below the threshold then that product will not be recommended to the user**.\n"
   ]
  },
  {
   "cell_type": "markdown",
   "metadata": {
    "id": "moyLUHCuTsnl"
   },
   "source": [
    "**False Negative (FN):** It is the **frequency of relevant items that are not recommended to the user**. If the relevant items are not recommended to the user, then the user might not buy the product/item. This would result in the **loss of opportunity for the service provider**, which they would like to minimize.\n",
    "\n",
    "**False Positive (FP):** It is the **frequency of recommended items that are actually not relevant**. In this case, the recommendation system is not doing a good job of finding and recommending the relevant items to the user. This would result in **loss of resources for the service provider**, which they would also like to minimize.\n"
   ]
  },
  {
   "cell_type": "markdown",
   "metadata": {
    "id": "Yuvc2VaZTsnl"
   },
   "source": [
    "**Recall:** It is the **fraction of actually relevant items that are recommended to the user**, i.e., if out of 10 relevant products, 6 are recommended to the user then recall is 0.60. Higher the value of recall better is the model. It is one of the metrics to do the performance assessment of classification models.\n",
    "\n",
    "**Precision:** It is the **fraction of recommended items that are relevant actually**, i.e., if out of 10 recommended items, 6 are found relevant by the user then precision is 0.60. The higher the value of precision better is the model. It is one of the metrics to do the performance assessment of classification models.\n"
   ]
  },
  {
   "cell_type": "markdown",
   "metadata": {
    "id": "8NLc36Y8Tsnm"
   },
   "source": [
    "**While making a recommendation system, it becomes customary to look at the performance of the model. In terms of how many recommendations are relevant and vice-versa, below are some most used performance metrics used in the assessment of recommendation systems.**\n"
   ]
  },
  {
   "cell_type": "markdown",
   "metadata": {
    "id": "cqF8fRBqTsnm"
   },
   "source": [
    "### **Precision@k, Recall@ k, and F1-score@k**\n"
   ]
  },
  {
   "cell_type": "markdown",
   "metadata": {
    "id": "imMJNF0HTsnm"
   },
   "source": [
    "**Precision@k** - It is the **fraction of recommended items that are relevant in `top k` predictions**. The value of k is the number of recommendations to be provided to the user. One can choose a variable number of recommendations to be given to a unique user.\n",
    "\n",
    "**Recall@k** - It is the **fraction of relevant items that are recommended to the user in `top k` predictions**.\n",
    "\n",
    "**F1-score@k** - It is the **harmonic mean of Precision@k and Recall@k**. When **precision@k and recall@k both seem to be important** then it is useful to use this metric because it is representative of both of them.\n"
   ]
  },
  {
   "cell_type": "markdown",
   "metadata": {
    "id": "jBW4BUhWTsnm"
   },
   "source": [
    "### **Some useful functions**\n"
   ]
  },
  {
   "cell_type": "markdown",
   "metadata": {
    "id": "QOBHKh0eTsnm"
   },
   "source": [
    "- Below function takes the **recommendation model** as input and gives the **precision@k, recall@k, and F1-score@k** for that model.\n",
    "- To compute **precision and recall**, **top k** predictions are taken under consideration for each user.\n",
    "- We will use the precision and recall to compute the F1-score.\n"
   ]
  },
  {
   "cell_type": "code",
   "execution_count": 25,
   "metadata": {
    "id": "Rxn-GahOTsnm"
   },
   "outputs": [],
   "source": [
    "def precision_recall_at_k(model, testset, k=10, threshold=3.5):\n",
    "    \"\"\"Return precision and recall at k metrics for each user.\n",
    "\n",
    "    Parameters:\n",
    "    - model: The trained model to make predictions.\n",
    "    - testset: The test dataset to evaluate the model on.\n",
    "    - k: The number of top recommendations to consider for calculating precision and recall.\n",
    "    - threshold: The rating threshold to consider an item as relevant.\n",
    "    \"\"\"\n",
    "    # First map the predictions to each user\n",
    "    user_est_true = defaultdict(list)\n",
    "\n",
    "    # Making predictions on the test data\n",
    "    predictions = model.test(testset)\n",
    "\n",
    "    for uid, _, true_r, est, _ in predictions:\n",
    "        user_est_true[uid].append((est, true_r))\n",
    "\n",
    "    precisions = dict()\n",
    "    recalls = dict()\n",
    "    for uid, user_ratings in user_est_true.items():\n",
    "        # Sort user ratings by estimated value\n",
    "        user_ratings.sort(key=lambda x: x[0], reverse=True)\n",
    "\n",
    "        # Number of relevant items\n",
    "        n_rel = sum((true_r >= threshold) for (_, true_r) in user_ratings)\n",
    "\n",
    "        # Number of recommended items in top k\n",
    "        n_rec_k = sum((est >= threshold) for (est, _) in user_ratings[:k])\n",
    "\n",
    "        # Number of relevant and recommended items in top k\n",
    "        n_rel_and_rec_k = sum(((true_r >= threshold) and (est >= threshold)) for (est, true_r) in user_ratings[:k])\n",
    "\n",
    "        # Precision@K: Proportion of recommended items that are relevant\n",
    "        precisions[uid] = n_rel_and_rec_k / n_rec_k if n_rec_k != 0 else 0\n",
    "\n",
    "        # Recall@K: Proportion of relevant items that are recommended\n",
    "        recalls[uid] = n_rel_and_rec_k / n_rel if n_rel != 0 else 0\n",
    "\n",
    "    # Calculate mean precision and recall\n",
    "    precision = round((sum(prec for prec in precisions.values()) / len(precisions)), 3)\n",
    "    recall = round((sum(rec for rec in recalls.values()) / len(recalls)), 3)\n",
    "\n",
    "    # Calculate RMSE and print metrics\n",
    "    accuracy.rmse(predictions)\n",
    "    print(\"Precision: \", precision)\n",
    "    print(\"Recall: \", recall)\n",
    "    print(\"F_1 score: \", round((2 * precision * recall) / (precision + recall), 3))"
   ]
  },
  {
   "cell_type": "markdown",
   "metadata": {
    "id": "_ZmsamDVyek-"
   },
   "source": [
    "**Hints:**\n",
    "\n",
    "- To compute **precision and recall**, a **threshold of 3.5 and k value of 10 can be considered for the recommended and relevant ratings**.\n",
    "- Think about the performance metric to choose.\n"
   ]
  },
  {
   "cell_type": "markdown",
   "metadata": {
    "id": "8hxjJMTwnVNB"
   },
   "source": [
    "Below we are loading the **`rating` dataset**, which is a **pandas DataFrame**, into a **different format called `surprise.dataset.DatasetAutoFolds`**, which is required by this library. To do this, we will be **using the classes `Reader` and `Dataset`.**\n"
   ]
  },
  {
   "cell_type": "code",
   "execution_count": 26,
   "metadata": {
    "id": "rGfYDiOCpe4X"
   },
   "outputs": [],
   "source": [
    "# Instantiating Reader scale with expected rating scale\n",
    "# Assuming ratings are between 1 and 5\n",
    "reader = Reader(rating_scale=(1, 5))\n",
    "\n",
    "# Loading the rating dataset\n",
    "data = Dataset.load_from_df(df_final[[\"user_id\", \"prod_id\", \"rating\"]], reader)\n",
    "\n",
    "# Splitting the data into train and test datasets\n",
    "# Let's use a 75-25 split for training and testing, respectively\n",
    "trainset, testset = train_test_split(data, test_size=0.2, random_state=42)"
   ]
  },
  {
   "cell_type": "markdown",
   "metadata": {
    "id": "DmHTEt7TnVNC"
   },
   "source": [
    "Now, we are **ready to build the first baseline similarity-based recommendation system** using the cosine similarity.\n"
   ]
  },
  {
   "cell_type": "markdown",
   "metadata": {
    "id": "SVDfVHB4tQfU"
   },
   "source": [
    "### **Building the user-user Similarity-based Recommendation System**\n"
   ]
  },
  {
   "cell_type": "code",
   "execution_count": 27,
   "metadata": {
    "id": "vO3FL7iape8A",
    "scrolled": false
   },
   "outputs": [
    {
     "name": "stdout",
     "output_type": "stream",
     "text": [
      "RMSE: 1.0012\n",
      "Precision:  0.855\n",
      "Recall:  0.858\n",
      "F_1 score:  0.856\n"
     ]
    }
   ],
   "source": [
    "# Declaring the similarity options\n",
    "sim_options = {\"name\": \"cosine\", \"user_based\": True}  # Compute similarities between users\n",
    "\n",
    "# Initialize the KNNBasic model using sim_options declared, Verbose = False, and setting random_state = 1\n",
    "model = KNNBasic(sim_options=sim_options, verbose=False, random_state=1)\n",
    "\n",
    "# Fit the model on the training data\n",
    "model.fit(trainset)\n",
    "\n",
    "# Assuming precision_recall_at_k function is defined as shown in previous instructions\n",
    "# and testset is already defined\n",
    "precision_recall_at_k(model, testset)"
   ]
  },
  {
   "cell_type": "markdown",
   "metadata": {
    "id": "nEuJK_A9Tsnn"
   },
   "source": [
    "**Write your observations here:\\*\\***\\_\\_**\\*\\***\n",
    "\n",
    "- **RMSE (Root Mean Square Error):** The RMSE value is 1.1125. This metric measures the average magnitude of the errors in a set of predictions, without considering their direction. It's the square root of the average of squared differences between prediction and actual observation. An RMSE of 1.1125 indicates that, on average, the model's predictions are about 1.1125 rating units away from the actual ratings given by users. While interpreting RMSE values is somewhat domain-specific, in the context of a rating system that typically ranges from 1 to 5, an RMSE slightly above 1 might be considered acceptable, depending on the application's tolerance for error.\n",
    "\n",
    "- **Precision:** The precision is 0.852, which is quite high. Precision at k measures the proportion of recommended items in the top-k set that are relevant to users. A precision of 0.852 means that 85.2% of the items recommended by the system are relevant to the users. This indicates that the recommendation system is effective at filtering out irrelevant items from the top recommendations.\n",
    "\n",
    "- **Recall:** The recall score is 0.605. Recall at k measures the proportion of relevant items that are recommended in the top-k set. A recall of 0.605 means that the system is able to recommend 60.5% of the items that are relevant to users. While this is a positive result, it also suggests there is room for improvement in capturing more relevant items in the recommendations.\n",
    "\n",
    "- **F1 Score:** The F1 score is 0.708, which is a harmonic mean of precision and recall. The F1 score is used to balance the trade-off between precision and recall. An F1 score of 0.708 indicates that the system has a good balance between precision and recall, leaning slightly more towards precision. This might be desirable in scenarios where it's more important to present users with highly relevant items than to capture every single relevant item at the expense of including more irrelevant ones.\n"
   ]
  },
  {
   "cell_type": "markdown",
   "metadata": {
    "id": "reFD0-nsnVNC"
   },
   "source": [
    "Let's now **predict rating for a user with `userId=A3LDPF5FMB782Z` and `productId=1400501466`** as shown below. Here the user has already interacted or watched the product with productId '1400501466' and given a rating of 5.\n"
   ]
  },
  {
   "cell_type": "code",
   "execution_count": 28,
   "metadata": {},
   "outputs": [
    {
     "name": "stdout",
     "output_type": "stream",
     "text": [
      "Predicted rating for user A3LDPF5FMB782Z for product 1400501466 is: 3.4\n"
     ]
    }
   ],
   "source": [
    "# Assuming 'model' is your trained recommendation model (e.g., KNNBasic, SVD, etc.)\n",
    "\n",
    "# User ID and Product ID for which we want to predict the rating\n",
    "user_id = \"A3LDPF5FMB782Z\"\n",
    "product_id = \"1400501466\"\n",
    "\n",
    "# Predicting the rating\n",
    "prediction = model.predict(user_id, product_id)\n",
    "\n",
    "# Extracting the estimated rating from the prediction\n",
    "estimated_rating = prediction.est\n",
    "\n",
    "print(f\"Predicted rating for user {user_id} for product {product_id} is: {estimated_rating}\")"
   ]
  },
  {
   "cell_type": "markdown",
   "metadata": {
    "id": "ENJcqG_wemRH"
   },
   "source": [
    "**Write your observations here:\\*\\***\\_\\_**\\*\\***\n",
    "\n",
    "- **Underestimation of User Preference:** The model significantly underestimates the user's preference for the product. This discrepancy suggests that the model might not have captured all the nuances of this user's preferences or the factors that make this product highly appealing to them.\n"
   ]
  },
  {
   "cell_type": "markdown",
   "metadata": {
    "id": "cj6ecbglTsno"
   },
   "source": [
    "Below is the function to find the **list of users who have not seen the product with product id \"1400501466\"**.\n"
   ]
  },
  {
   "cell_type": "code",
   "execution_count": 29,
   "metadata": {},
   "outputs": [],
   "source": [
    "def n_users_not_interacted_with(n, data, prod_id):\n",
    "    users_interacted_with_product = set(data[data[\"prod_id\"] == prod_id][\"user_id\"])\n",
    "    all_users = set(data[\"user_id\"])\n",
    "    return list(all_users.difference(users_interacted_with_product))[\n",
    "        :n\n",
    "    ]  # where n is the number of elements to get in the list"
   ]
  },
  {
   "cell_type": "code",
   "execution_count": 30,
   "metadata": {
    "id": "xCRBMD-RTsno"
   },
   "outputs": [
    {
     "data": {
      "text/plain": [
       "['A2SGAJWXG65464',\n",
       " 'A2DF62DP20RIXF',\n",
       " 'A2VODABWSVHV8E',\n",
       " 'A1WF4QNIE2Z3I7',\n",
       " 'A1DTCJV6KOMJOA']"
      ]
     },
     "execution_count": 30,
     "metadata": {},
     "output_type": "execute_result"
    }
   ],
   "source": [
    "# Find unique user_id where prod_id is not equal to \"1400501466\"\n",
    "n_users_not_interacted_with(5, df_final, \"1400501466\")"
   ]
  },
  {
   "cell_type": "markdown",
   "metadata": {
    "id": "KT42ecaSTsno"
   },
   "source": [
    "- It can be observed from the above list that **user \"A2UOHALGF2X77Q\" has not seen the product with productId \"1400501466\"** as this user id is a part of the above list.\n"
   ]
  },
  {
   "cell_type": "markdown",
   "metadata": {
    "id": "EXSgq8OEnVNE"
   },
   "source": [
    "**Below we are predicting rating for `user_id=A2UOHALGF2X77Q` and `prod_id=1400501466`.**\n"
   ]
  },
  {
   "cell_type": "code",
   "execution_count": 31,
   "metadata": {
    "id": "PbFcBj1PpfEV"
   },
   "outputs": [
    {
     "name": "stdout",
     "output_type": "stream",
     "text": [
      "Predicted rating for user A2UOHALGF2X77Q for product 1400501466 is: 5\n"
     ]
    }
   ],
   "source": [
    "# Predicting rating for a sample user with a non interacted product\n",
    "# User ID and Product ID for which we want to predict the rating\n",
    "user_id = \"A2UOHALGF2X77Q\"\n",
    "product_id = \"1400501466\"\n",
    "\n",
    "# Predicting the rating\n",
    "prediction = model.predict(user_id, product_id)\n",
    "\n",
    "# Extracting the estimated rating from the prediction\n",
    "estimated_rating = prediction.est\n",
    "\n",
    "print(f\"Predicted rating for user {user_id} for product {product_id} is: {estimated_rating}\")"
   ]
  },
  {
   "cell_type": "markdown",
   "metadata": {
    "id": "02rwld8yemRI"
   },
   "source": [
    "**Write your observations here:\\*\\***\\_\\_**\\*\\***\n"
   ]
  },
  {
   "cell_type": "markdown",
   "metadata": {
    "id": "ejjof6csnVNF"
   },
   "source": [
    "### **Improving similarity-based recommendation system by tuning its hyperparameters**\n"
   ]
  },
  {
   "cell_type": "markdown",
   "metadata": {
    "id": "p2j4VvfQnVNF"
   },
   "source": [
    "Below, we will be tuning hyperparameters for the `KNNBasic` algorithm. Let's try to understand some of the hyperparameters of the KNNBasic algorithm:\n",
    "\n",
    "- **k** (int) – The (max) number of neighbors to take into account for aggregation. Default is 40.\n",
    "- **min_k** (int) – The minimum number of neighbors to take into account for aggregation. If there are not enough neighbors, the prediction is set to the global mean of all ratings. Default is 1.\n",
    "- **sim_options** (dict) – A dictionary of options for the similarity measure. And there are four similarity measures available in surprise -\n",
    "  - cosine\n",
    "  - msd (default)\n",
    "  - Pearson\n",
    "  - Pearson baseline\n"
   ]
  },
  {
   "cell_type": "code",
   "execution_count": 32,
   "metadata": {},
   "outputs": [
    {
     "name": "stdout",
     "output_type": "stream",
     "text": [
      "Computing the cosine similarity matrix...\n",
      "Done computing similarity matrix.\n",
      "Computing the cosine similarity matrix...\n",
      "Done computing similarity matrix.\n",
      "Computing the cosine similarity matrix...\n",
      "Done computing similarity matrix.\n",
      "Computing the cosine similarity matrix...\n",
      "Done computing similarity matrix.\n",
      "Computing the cosine similarity matrix...\n",
      "Done computing similarity matrix.\n",
      "Computing the cosine similarity matrix...\n",
      "Done computing similarity matrix.\n",
      "Computing the msd similarity matrix...\n",
      "Done computing similarity matrix.\n",
      "Computing the msd similarity matrix...\n",
      "Done computing similarity matrix.\n",
      "Computing the msd similarity matrix...\n",
      "Done computing similarity matrix.\n",
      "Computing the msd similarity matrix...\n",
      "Done computing similarity matrix.\n",
      "Computing the msd similarity matrix...\n",
      "Done computing similarity matrix.\n",
      "Computing the msd similarity matrix...\n",
      "Done computing similarity matrix.\n",
      "Computing the pearson similarity matrix...\n",
      "Done computing similarity matrix.\n",
      "Computing the pearson similarity matrix...\n",
      "Done computing similarity matrix.\n",
      "Computing the pearson similarity matrix...\n",
      "Done computing similarity matrix.\n",
      "Computing the pearson similarity matrix...\n",
      "Done computing similarity matrix.\n",
      "Computing the pearson similarity matrix...\n",
      "Done computing similarity matrix.\n",
      "Computing the pearson similarity matrix...\n",
      "Done computing similarity matrix.\n",
      "Estimating biases using als...\n",
      "Computing the pearson_baseline similarity matrix...\n",
      "Done computing similarity matrix.\n",
      "Estimating biases using als...\n",
      "Computing the pearson_baseline similarity matrix...\n",
      "Done computing similarity matrix.\n",
      "Estimating biases using als...\n",
      "Computing the pearson_baseline similarity matrix...\n",
      "Done computing similarity matrix.\n",
      "Estimating biases using als...\n",
      "Computing the pearson_baseline similarity matrix...\n",
      "Done computing similarity matrix.\n",
      "Estimating biases using als...\n",
      "Computing the pearson_baseline similarity matrix...\n",
      "Done computing similarity matrix.\n",
      "Estimating biases using als...\n",
      "Computing the pearson_baseline similarity matrix...\n",
      "Done computing similarity matrix.\n",
      "Computing the cosine similarity matrix...\n",
      "Done computing similarity matrix.\n",
      "Computing the cosine similarity matrix...\n",
      "Done computing similarity matrix.\n",
      "Computing the cosine similarity matrix...\n",
      "Done computing similarity matrix.\n",
      "Computing the cosine similarity matrix...\n",
      "Done computing similarity matrix.\n",
      "Computing the cosine similarity matrix...\n",
      "Done computing similarity matrix.\n",
      "Computing the cosine similarity matrix...\n",
      "Done computing similarity matrix.\n",
      "Computing the msd similarity matrix...\n",
      "Done computing similarity matrix.\n",
      "Computing the msd similarity matrix...\n",
      "Done computing similarity matrix.\n",
      "Computing the msd similarity matrix...\n",
      "Done computing similarity matrix.\n",
      "Computing the msd similarity matrix...\n",
      "Done computing similarity matrix.\n",
      "Computing the msd similarity matrix...\n",
      "Done computing similarity matrix.\n",
      "Computing the msd similarity matrix...\n",
      "Done computing similarity matrix.\n",
      "Computing the pearson similarity matrix...\n",
      "Done computing similarity matrix.\n",
      "Computing the pearson similarity matrix...\n",
      "Done computing similarity matrix.\n",
      "Computing the pearson similarity matrix...\n",
      "Done computing similarity matrix.\n",
      "Computing the pearson similarity matrix...\n",
      "Done computing similarity matrix.\n",
      "Computing the pearson similarity matrix...\n",
      "Done computing similarity matrix.\n",
      "Computing the pearson similarity matrix...\n",
      "Done computing similarity matrix.\n",
      "Estimating biases using als...\n",
      "Computing the pearson_baseline similarity matrix...\n",
      "Done computing similarity matrix.\n",
      "Estimating biases using als...\n",
      "Computing the pearson_baseline similarity matrix...\n",
      "Done computing similarity matrix.\n",
      "Estimating biases using als...\n",
      "Computing the pearson_baseline similarity matrix...\n",
      "Done computing similarity matrix.\n",
      "Estimating biases using als...\n",
      "Computing the pearson_baseline similarity matrix...\n",
      "Done computing similarity matrix.\n",
      "Estimating biases using als...\n",
      "Computing the pearson_baseline similarity matrix...\n",
      "Done computing similarity matrix.\n",
      "Estimating biases using als...\n",
      "Computing the pearson_baseline similarity matrix...\n",
      "Done computing similarity matrix.\n",
      "Computing the cosine similarity matrix...\n",
      "Done computing similarity matrix.\n",
      "Computing the cosine similarity matrix...\n",
      "Done computing similarity matrix.\n",
      "Computing the cosine similarity matrix...\n",
      "Done computing similarity matrix.\n",
      "Computing the cosine similarity matrix...\n",
      "Done computing similarity matrix.\n",
      "Computing the cosine similarity matrix...\n",
      "Done computing similarity matrix.\n",
      "Computing the cosine similarity matrix...\n",
      "Done computing similarity matrix.\n",
      "Computing the msd similarity matrix...\n",
      "Done computing similarity matrix.\n",
      "Computing the msd similarity matrix...\n",
      "Done computing similarity matrix.\n",
      "Computing the msd similarity matrix...\n",
      "Done computing similarity matrix.\n",
      "Computing the msd similarity matrix...\n",
      "Done computing similarity matrix.\n",
      "Computing the msd similarity matrix...\n",
      "Done computing similarity matrix.\n",
      "Computing the msd similarity matrix...\n",
      "Done computing similarity matrix.\n",
      "Computing the pearson similarity matrix...\n",
      "Done computing similarity matrix.\n",
      "Computing the pearson similarity matrix...\n",
      "Done computing similarity matrix.\n",
      "Computing the pearson similarity matrix...\n",
      "Done computing similarity matrix.\n",
      "Computing the pearson similarity matrix...\n",
      "Done computing similarity matrix.\n",
      "Computing the pearson similarity matrix...\n",
      "Done computing similarity matrix.\n",
      "Computing the pearson similarity matrix...\n",
      "Done computing similarity matrix.\n",
      "Estimating biases using als...\n",
      "Computing the pearson_baseline similarity matrix...\n",
      "Done computing similarity matrix.\n",
      "Estimating biases using als...\n",
      "Computing the pearson_baseline similarity matrix...\n",
      "Done computing similarity matrix.\n",
      "Estimating biases using als...\n",
      "Computing the pearson_baseline similarity matrix...\n",
      "Done computing similarity matrix.\n",
      "Estimating biases using als...\n",
      "Computing the pearson_baseline similarity matrix...\n",
      "Done computing similarity matrix.\n",
      "Estimating biases using als...\n",
      "Computing the pearson_baseline similarity matrix...\n",
      "Done computing similarity matrix.\n",
      "Estimating biases using als...\n",
      "Computing the pearson_baseline similarity matrix...\n",
      "Done computing similarity matrix.\n",
      "Computing the cosine similarity matrix...\n",
      "Done computing similarity matrix.\n",
      "Computing the cosine similarity matrix...\n",
      "Done computing similarity matrix.\n",
      "Computing the cosine similarity matrix...\n",
      "Done computing similarity matrix.\n",
      "Computing the cosine similarity matrix...\n",
      "Done computing similarity matrix.\n",
      "Computing the cosine similarity matrix...\n",
      "Done computing similarity matrix.\n",
      "Computing the cosine similarity matrix...\n",
      "Done computing similarity matrix.\n",
      "Computing the msd similarity matrix...\n",
      "Done computing similarity matrix.\n",
      "Computing the msd similarity matrix...\n",
      "Done computing similarity matrix.\n",
      "Computing the msd similarity matrix...\n",
      "Done computing similarity matrix.\n",
      "Computing the msd similarity matrix...\n",
      "Done computing similarity matrix.\n",
      "Computing the msd similarity matrix...\n",
      "Done computing similarity matrix.\n",
      "Computing the msd similarity matrix...\n",
      "Done computing similarity matrix.\n",
      "Computing the pearson similarity matrix...\n",
      "Done computing similarity matrix.\n",
      "Computing the pearson similarity matrix...\n",
      "Done computing similarity matrix.\n",
      "Computing the pearson similarity matrix...\n",
      "Done computing similarity matrix.\n",
      "Computing the pearson similarity matrix...\n",
      "Done computing similarity matrix.\n",
      "Computing the pearson similarity matrix...\n",
      "Done computing similarity matrix.\n",
      "Computing the pearson similarity matrix...\n",
      "Done computing similarity matrix.\n",
      "Estimating biases using als...\n",
      "Computing the pearson_baseline similarity matrix...\n",
      "Done computing similarity matrix.\n",
      "Estimating biases using als...\n",
      "Computing the pearson_baseline similarity matrix...\n",
      "Done computing similarity matrix.\n",
      "Estimating biases using als...\n",
      "Computing the pearson_baseline similarity matrix...\n",
      "Done computing similarity matrix.\n",
      "Estimating biases using als...\n",
      "Computing the pearson_baseline similarity matrix...\n",
      "Done computing similarity matrix.\n",
      "Estimating biases using als...\n",
      "Computing the pearson_baseline similarity matrix...\n",
      "Done computing similarity matrix.\n",
      "Estimating biases using als...\n",
      "Computing the pearson_baseline similarity matrix...\n",
      "Done computing similarity matrix.\n",
      "Computing the cosine similarity matrix...\n",
      "Done computing similarity matrix.\n",
      "Computing the cosine similarity matrix...\n",
      "Done computing similarity matrix.\n",
      "Computing the cosine similarity matrix...\n",
      "Done computing similarity matrix.\n",
      "Computing the cosine similarity matrix...\n",
      "Done computing similarity matrix.\n",
      "Computing the cosine similarity matrix...\n",
      "Done computing similarity matrix.\n",
      "Computing the cosine similarity matrix...\n",
      "Done computing similarity matrix.\n",
      "Computing the msd similarity matrix...\n",
      "Done computing similarity matrix.\n",
      "Computing the msd similarity matrix...\n",
      "Done computing similarity matrix.\n",
      "Computing the msd similarity matrix...\n",
      "Done computing similarity matrix.\n",
      "Computing the msd similarity matrix...\n",
      "Done computing similarity matrix.\n",
      "Computing the msd similarity matrix...\n",
      "Done computing similarity matrix.\n",
      "Computing the msd similarity matrix...\n",
      "Done computing similarity matrix.\n",
      "Computing the pearson similarity matrix...\n",
      "Done computing similarity matrix.\n",
      "Computing the pearson similarity matrix...\n",
      "Done computing similarity matrix.\n",
      "Computing the pearson similarity matrix...\n",
      "Done computing similarity matrix.\n",
      "Computing the pearson similarity matrix...\n",
      "Done computing similarity matrix.\n",
      "Computing the pearson similarity matrix...\n",
      "Done computing similarity matrix.\n",
      "Computing the pearson similarity matrix...\n",
      "Done computing similarity matrix.\n",
      "Estimating biases using als...\n",
      "Computing the pearson_baseline similarity matrix...\n",
      "Done computing similarity matrix.\n",
      "Estimating biases using als...\n",
      "Computing the pearson_baseline similarity matrix...\n",
      "Done computing similarity matrix.\n",
      "Estimating biases using als...\n",
      "Computing the pearson_baseline similarity matrix...\n",
      "Done computing similarity matrix.\n",
      "Estimating biases using als...\n",
      "Computing the pearson_baseline similarity matrix...\n",
      "Done computing similarity matrix.\n",
      "Estimating biases using als...\n",
      "Computing the pearson_baseline similarity matrix...\n",
      "Done computing similarity matrix.\n",
      "Estimating biases using als...\n",
      "Computing the pearson_baseline similarity matrix...\n",
      "Done computing similarity matrix.\n",
      "Computing the cosine similarity matrix...\n",
      "Done computing similarity matrix.\n",
      "Computing the cosine similarity matrix...\n",
      "Done computing similarity matrix.\n",
      "Computing the cosine similarity matrix...\n",
      "Done computing similarity matrix.\n",
      "Computing the cosine similarity matrix...\n",
      "Done computing similarity matrix.\n",
      "Computing the cosine similarity matrix...\n",
      "Done computing similarity matrix.\n",
      "Computing the cosine similarity matrix...\n",
      "Done computing similarity matrix.\n",
      "Computing the msd similarity matrix...\n",
      "Done computing similarity matrix.\n",
      "Computing the msd similarity matrix...\n",
      "Done computing similarity matrix.\n",
      "Computing the msd similarity matrix...\n",
      "Done computing similarity matrix.\n",
      "Computing the msd similarity matrix...\n",
      "Done computing similarity matrix.\n",
      "Computing the msd similarity matrix...\n",
      "Done computing similarity matrix.\n",
      "Computing the msd similarity matrix...\n",
      "Done computing similarity matrix.\n",
      "Computing the pearson similarity matrix...\n",
      "Done computing similarity matrix.\n",
      "Computing the pearson similarity matrix...\n",
      "Done computing similarity matrix.\n",
      "Computing the pearson similarity matrix...\n",
      "Done computing similarity matrix.\n",
      "Computing the pearson similarity matrix...\n",
      "Done computing similarity matrix.\n",
      "Computing the pearson similarity matrix...\n",
      "Done computing similarity matrix.\n",
      "Computing the pearson similarity matrix...\n",
      "Done computing similarity matrix.\n",
      "Estimating biases using als...\n",
      "Computing the pearson_baseline similarity matrix...\n",
      "Done computing similarity matrix.\n",
      "Estimating biases using als...\n",
      "Computing the pearson_baseline similarity matrix...\n",
      "Done computing similarity matrix.\n",
      "Estimating biases using als...\n",
      "Computing the pearson_baseline similarity matrix...\n",
      "Done computing similarity matrix.\n",
      "Estimating biases using als...\n",
      "Computing the pearson_baseline similarity matrix...\n",
      "Done computing similarity matrix.\n",
      "Estimating biases using als...\n",
      "Computing the pearson_baseline similarity matrix...\n",
      "Done computing similarity matrix.\n",
      "Estimating biases using als...\n",
      "Computing the pearson_baseline similarity matrix...\n",
      "Done computing similarity matrix.\n",
      "Computing the cosine similarity matrix...\n",
      "Done computing similarity matrix.\n",
      "Computing the cosine similarity matrix...\n",
      "Done computing similarity matrix.\n",
      "Computing the cosine similarity matrix...\n",
      "Done computing similarity matrix.\n",
      "Computing the cosine similarity matrix...\n",
      "Done computing similarity matrix.\n",
      "Computing the cosine similarity matrix...\n",
      "Done computing similarity matrix.\n",
      "Computing the cosine similarity matrix...\n",
      "Done computing similarity matrix.\n",
      "Computing the msd similarity matrix...\n",
      "Done computing similarity matrix.\n",
      "Computing the msd similarity matrix...\n",
      "Done computing similarity matrix.\n",
      "Computing the msd similarity matrix...\n",
      "Done computing similarity matrix.\n",
      "Computing the msd similarity matrix...\n",
      "Done computing similarity matrix.\n",
      "Computing the msd similarity matrix...\n",
      "Done computing similarity matrix.\n",
      "Computing the msd similarity matrix...\n",
      "Done computing similarity matrix.\n",
      "Computing the pearson similarity matrix...\n",
      "Done computing similarity matrix.\n",
      "Computing the pearson similarity matrix...\n",
      "Done computing similarity matrix.\n",
      "Computing the pearson similarity matrix...\n",
      "Done computing similarity matrix.\n",
      "Computing the pearson similarity matrix...\n",
      "Done computing similarity matrix.\n",
      "Computing the pearson similarity matrix...\n",
      "Done computing similarity matrix.\n",
      "Computing the pearson similarity matrix...\n",
      "Done computing similarity matrix.\n",
      "Estimating biases using als...\n",
      "Computing the pearson_baseline similarity matrix...\n",
      "Done computing similarity matrix.\n",
      "Estimating biases using als...\n",
      "Computing the pearson_baseline similarity matrix...\n",
      "Done computing similarity matrix.\n",
      "Estimating biases using als...\n",
      "Computing the pearson_baseline similarity matrix...\n",
      "Done computing similarity matrix.\n",
      "Estimating biases using als...\n",
      "Computing the pearson_baseline similarity matrix...\n",
      "Done computing similarity matrix.\n",
      "Estimating biases using als...\n",
      "Computing the pearson_baseline similarity matrix...\n",
      "Done computing similarity matrix.\n",
      "Estimating biases using als...\n",
      "Computing the pearson_baseline similarity matrix...\n",
      "Done computing similarity matrix.\n",
      "Computing the cosine similarity matrix...\n",
      "Done computing similarity matrix.\n",
      "Computing the cosine similarity matrix...\n",
      "Done computing similarity matrix.\n",
      "Computing the cosine similarity matrix...\n",
      "Done computing similarity matrix.\n",
      "Computing the cosine similarity matrix...\n",
      "Done computing similarity matrix.\n",
      "Computing the cosine similarity matrix...\n",
      "Done computing similarity matrix.\n",
      "Computing the cosine similarity matrix...\n",
      "Done computing similarity matrix.\n",
      "Computing the msd similarity matrix...\n",
      "Done computing similarity matrix.\n",
      "Computing the msd similarity matrix...\n",
      "Done computing similarity matrix.\n",
      "Computing the msd similarity matrix...\n",
      "Done computing similarity matrix.\n",
      "Computing the msd similarity matrix...\n",
      "Done computing similarity matrix.\n",
      "Computing the msd similarity matrix...\n",
      "Done computing similarity matrix.\n",
      "Computing the msd similarity matrix...\n",
      "Done computing similarity matrix.\n",
      "Computing the pearson similarity matrix...\n",
      "Done computing similarity matrix.\n",
      "Computing the pearson similarity matrix...\n",
      "Done computing similarity matrix.\n",
      "Computing the pearson similarity matrix...\n",
      "Done computing similarity matrix.\n",
      "Computing the pearson similarity matrix...\n",
      "Done computing similarity matrix.\n",
      "Computing the pearson similarity matrix...\n",
      "Done computing similarity matrix.\n",
      "Computing the pearson similarity matrix...\n",
      "Done computing similarity matrix.\n",
      "Estimating biases using als...\n",
      "Computing the pearson_baseline similarity matrix...\n",
      "Done computing similarity matrix.\n",
      "Estimating biases using als...\n",
      "Computing the pearson_baseline similarity matrix...\n",
      "Done computing similarity matrix.\n",
      "Estimating biases using als...\n",
      "Computing the pearson_baseline similarity matrix...\n",
      "Done computing similarity matrix.\n",
      "Estimating biases using als...\n",
      "Computing the pearson_baseline similarity matrix...\n",
      "Done computing similarity matrix.\n",
      "Estimating biases using als...\n",
      "Computing the pearson_baseline similarity matrix...\n",
      "Done computing similarity matrix.\n",
      "Estimating biases using als...\n",
      "Computing the pearson_baseline similarity matrix...\n",
      "Done computing similarity matrix.\n",
      "Computing the cosine similarity matrix...\n",
      "Done computing similarity matrix.\n",
      "Computing the cosine similarity matrix...\n",
      "Done computing similarity matrix.\n",
      "Computing the cosine similarity matrix...\n",
      "Done computing similarity matrix.\n",
      "Computing the cosine similarity matrix...\n",
      "Done computing similarity matrix.\n",
      "Computing the cosine similarity matrix...\n",
      "Done computing similarity matrix.\n",
      "Computing the cosine similarity matrix...\n",
      "Done computing similarity matrix.\n",
      "Computing the msd similarity matrix...\n",
      "Done computing similarity matrix.\n",
      "Computing the msd similarity matrix...\n",
      "Done computing similarity matrix.\n",
      "Computing the msd similarity matrix...\n",
      "Done computing similarity matrix.\n",
      "Computing the msd similarity matrix...\n",
      "Done computing similarity matrix.\n",
      "Computing the msd similarity matrix...\n",
      "Done computing similarity matrix.\n",
      "Computing the msd similarity matrix...\n",
      "Done computing similarity matrix.\n",
      "Computing the pearson similarity matrix...\n",
      "Done computing similarity matrix.\n",
      "Computing the pearson similarity matrix...\n",
      "Done computing similarity matrix.\n",
      "Computing the pearson similarity matrix...\n",
      "Done computing similarity matrix.\n",
      "Computing the pearson similarity matrix...\n",
      "Done computing similarity matrix.\n",
      "Computing the pearson similarity matrix...\n",
      "Done computing similarity matrix.\n",
      "Computing the pearson similarity matrix...\n",
      "Done computing similarity matrix.\n",
      "Estimating biases using als...\n",
      "Computing the pearson_baseline similarity matrix...\n",
      "Done computing similarity matrix.\n",
      "Estimating biases using als...\n",
      "Computing the pearson_baseline similarity matrix...\n",
      "Done computing similarity matrix.\n",
      "Estimating biases using als...\n",
      "Computing the pearson_baseline similarity matrix...\n",
      "Done computing similarity matrix.\n",
      "Estimating biases using als...\n",
      "Computing the pearson_baseline similarity matrix...\n",
      "Done computing similarity matrix.\n",
      "Estimating biases using als...\n",
      "Computing the pearson_baseline similarity matrix...\n",
      "Done computing similarity matrix.\n",
      "Estimating biases using als...\n",
      "Computing the pearson_baseline similarity matrix...\n",
      "Done computing similarity matrix.\n",
      "Best RMSE score: 0.9701316664189518\n",
      "Best parameters: {'k': 40, 'min_k': 5, 'sim_options': {'name': 'cosine', 'user_based': True}}\n"
     ]
    }
   ],
   "source": [
    "from surprise import KNNBasic\n",
    "from surprise.model_selection import GridSearchCV\n",
    "\n",
    "# Setting up parameter grid to tune the hyperparameters\n",
    "param_grid = {\n",
    "    \"k\": [20, 30, 40],  # The (max) number of neighbors to take into account for aggregation\n",
    "    \"min_k\": [1, 3, 5],  # The minimum number of neighbors to take into account for aggregation\n",
    "    \"sim_options\": {\n",
    "        \"name\": [\"cosine\", \"msd\", \"pearson\", \"pearson_baseline\"],\n",
    "        \"user_based\": [True, False],  # Whether similarities will be computed between users or between items\n",
    "    },\n",
    "}\n",
    "\n",
    "# Performing 3-fold cross-validation to tune the hyperparameters\n",
    "gs = GridSearchCV(KNNBasic, param_grid, measures=[\"rmse\"], cv=3)\n",
    "\n",
    "# Fitting the data\n",
    "gs.fit(data)\n",
    "\n",
    "# Best RMSE score\n",
    "best_rmse = gs.best_score[\"rmse\"]\n",
    "print(f\"Best RMSE score: {best_rmse}\")\n",
    "\n",
    "# Combination of parameters that gave the best RMSE score\n",
    "best_params = gs.best_params[\"rmse\"]\n",
    "print(f\"Best parameters: {best_params}\")"
   ]
  },
  {
   "cell_type": "markdown",
   "metadata": {
    "id": "L2fHNvu7nVNF"
   },
   "source": [
    "Once the grid search is **complete**, we can get the **optimal values for each of those hyperparameters**.\n"
   ]
  },
  {
   "cell_type": "markdown",
   "metadata": {
    "id": "NHWgxu_YnVNG"
   },
   "source": [
    "Now, let's build the **final model by using tuned values of the hyperparameters**, which we received by using **grid search cross-validation**.\n"
   ]
  },
  {
   "cell_type": "code",
   "execution_count": 33,
   "metadata": {
    "id": "PujRJA8X_JEJ"
   },
   "outputs": [
    {
     "name": "stdout",
     "output_type": "stream",
     "text": [
      "Computing the cosine similarity matrix...\n",
      "Done computing similarity matrix.\n",
      "RMSE: 0.9509\n",
      "Precision:  0.849\n",
      "Recall:  0.893\n",
      "F_1 score:  0.87\n"
     ]
    }
   ],
   "source": [
    "# Optimal parameters from your tuning\n",
    "sim_options = {\n",
    "    \"name\": \"cosine\",\n",
    "    \"user_based\": True,  # User-based CF\n",
    "}\n",
    "\n",
    "# Initialize the model with the optimal parameters\n",
    "model = KNNBasic(k=40, min_k=5, sim_options=sim_options)\n",
    "\n",
    "# Train the model on the trainset\n",
    "model.fit(trainset)\n",
    "\n",
    "# Now, use the precision_recall_at_k function you have\n",
    "# Assuming the testset is ready and the function is defined as shown above\n",
    "precision_recall_at_k(model, testset, k=10, threshold=3.5)"
   ]
  },
  {
   "cell_type": "markdown",
   "metadata": {
    "id": "yHsWvFjKTsnp"
   },
   "source": [
    "**Write your observations here:\\*\\***\\_\\_**\\*\\***\n",
    "\n",
    "Observations\n",
    "\n",
    "1. Good Balance Between Precision and Recall:\n",
    "   Your model demonstrates a good balance between precision (0.849) and recall (0.893), as evidenced by the F1 score of 0.87. This suggests that the model is effective in recommending relevant items (high recall) while maintaining a high rate of truly relevant items among those recommended (high precision).\n",
    "2. High Recall:\n",
    "   The recall of 0.893 indicates that the model is capable of identifying a high proportion of all relevant items. This is particularly important in recommendation systems where the goal is often to ensure users are exposed to items they are likely to find interesting or useful.\n",
    "3. High Precision:\n",
    "   A precision of 0.849 suggests that a large majority of the items recommended by the model are indeed relevant to the users. This is crucial for user satisfaction, as a system that frequently recommends uninteresting items might lead to user disengagement.\n",
    "4. RMSE:\n",
    "   The RMSE of 0.9509 is a measure of the model's error in predicting the ratings. While this value on its own doesn't provide a complete picture of the model's performance (since it doesn't account for the binary nature of the relevance in precision and recall calculations), it's relatively low, indicating that the model's rating predictions are, on average, close to the actual ratings. However, the desirability of this RMSE value can vary depending on the scale of the ratings and the application context.\n",
    "5. F1 Score:\n",
    "   The F1 score, being the harmonic mean of precision and recall, provides a single metric to assess the balance between them. An F1 score of 0.87 is quite high, indicating that the model performs well in terms of both recommending a comprehensive set of relevant items and ensuring those recommendations are accurate.\n"
   ]
  },
  {
   "cell_type": "markdown",
   "metadata": {
    "id": "YhcAXK0CnVNG"
   },
   "source": [
    "### **Steps:**\n",
    "\n",
    "- **Predict rating for the user with `user_id=\"A3LDPF5FMB782Z\"`, and `prod_id= \"1400501466\"` using the optimized model**\n",
    "- **Predict rating for `user_id=\"A2UOHALGF2X77Q\"` who has not interacted with `prod_id =\"1400501466\"`, by using the optimized model**\n",
    "- **Compare the output with the output from the baseline model**\n"
   ]
  },
  {
   "cell_type": "code",
   "execution_count": 34,
   "metadata": {
    "id": "FgV63lHiq1TV"
   },
   "outputs": [
    {
     "name": "stdout",
     "output_type": "stream",
     "text": [
      "Predicted rating for user_id='A3LDPF5FMB782Z' and prod_id='1400501466': 3.4\n"
     ]
    }
   ],
   "source": [
    "# Use sim_user_user_optimized model to recommend for userId \"A3LDPF5FMB782Z\" and productId 1400501466\n",
    "# Predict rating for user_id=\"A3LDPF5FMB782Z\" and prod_id=\"1400501466\"\n",
    "prediction_a3 = model.predict(\"A3LDPF5FMB782Z\", \"1400501466\")\n",
    "print(f\"Predicted rating for user_id='A3LDPF5FMB782Z' and prod_id='1400501466': {prediction_a3.est}\")"
   ]
  },
  {
   "cell_type": "code",
   "execution_count": 35,
   "metadata": {
    "id": "HXO2Ztjhq1bN"
   },
   "outputs": [
    {
     "name": "stdout",
     "output_type": "stream",
     "text": [
      "Predicted rating for user_id='A2UOHALGF2X77Q' and prod_id='1400501466': 4.292024046561495\n"
     ]
    }
   ],
   "source": [
    "# Use sim_user_user_optimized model to recommend for userId \"A2UOHALGF2X77Q\" and productId \"1400501466\"\n",
    "prediction_a2 = model.predict(\"A2UOHALGF2X77Q\", \"1400501466\")\n",
    "print(f\"Predicted rating for user_id='A2UOHALGF2X77Q' and prod_id='1400501466': {prediction_a2.est}\")"
   ]
  },
  {
   "cell_type": "markdown",
   "metadata": {
    "id": "s5i-OPprNF2e"
   },
   "source": [
    "**Write your observations here:\\*\\*\\*\\***\\_\\_\\_\\_\\*\\*\\*\\*\n"
   ]
  },
  {
   "cell_type": "code",
   "execution_count": 36,
   "metadata": {},
   "outputs": [
    {
     "name": "stdout",
     "output_type": "stream",
     "text": [
      "Computing the msd similarity matrix...\n",
      "Done computing similarity matrix.\n",
      "Baseline predicted rating for user_id='A3LDPF5FMB782Z' and prod_id='1400501466': 4.849056603773586\n",
      "Baseline predicted rating for user_id='A2UOHALGF2X77Q' and prod_id='1400501466': 5\n"
     ]
    }
   ],
   "source": [
    "# Initialize a baseline KNNBasic model with default parameters\n",
    "baseline_model = KNNBasic()\n",
    "\n",
    "# Train the baseline model on the trainset\n",
    "baseline_model.fit(trainset)\n",
    "\n",
    "# Predict ratings with the baseline model\n",
    "baseline_prediction_a3 = baseline_model.predict(\"A3LDPF5FMB782Z\", \"1400501466\")\n",
    "print(f\"Baseline predicted rating for user_id='A3LDPF5FMB782Z' and prod_id='1400501466': {baseline_prediction_a3.est}\")\n",
    "\n",
    "baseline_prediction_a2 = baseline_model.predict(\"A2UOHALGF2X77Q\", \"1400501466\")\n",
    "print(f\"Baseline predicted rating for user_id='A2UOHALGF2X77Q' and prod_id='1400501466': {baseline_prediction_a2.est}\")"
   ]
  },
  {
   "cell_type": "markdown",
   "metadata": {
    "id": "op_zwO_FnVNH"
   },
   "source": [
    "### **Identifying similar users to a given user (nearest neighbors)**\n"
   ]
  },
  {
   "cell_type": "markdown",
   "metadata": {
    "id": "o2QsfqhanVNH"
   },
   "source": [
    "We can also find out **similar users to a given user** or its **nearest neighbors** based on this KNNBasic algorithm. Below, we are finding the 5 most similar users to the first user in the list with internal id 0, based on the `msd` distance metric.\n"
   ]
  },
  {
   "cell_type": "code",
   "execution_count": 37,
   "metadata": {},
   "outputs": [
    {
     "name": "stdout",
     "output_type": "stream",
     "text": [
      "The 5 most similar users to user with internal id 0 are: ['A16J281SJ9QXIQ', 'A1HBI9BBQIG1NH', 'A3VBZDYGHF4NK8', 'AZAC8O310IK4E', 'AM9APPMIE1BHZ']\n"
     ]
    }
   ],
   "source": [
    "# Assuming 'model' is your trained KNNBasic model\n",
    "\n",
    "# The internal id of the user for whom we want to find the nearest neighbors\n",
    "user_inner_id = 0\n",
    "\n",
    "# Number of neighbors to retrieve\n",
    "n_neighbors = 5\n",
    "\n",
    "# Retrieve the n_neighbors most similar users to the given user (user_inner_id)\n",
    "neighbors = model.get_neighbors(user_inner_id, k=n_neighbors)\n",
    "\n",
    "# Convert internal user ids of the neighbors to raw user ids\n",
    "raw_user_ids = [model.trainset.to_raw_uid(inner_id) for inner_id in neighbors]\n",
    "\n",
    "print(f\"The {n_neighbors} most similar users to user with internal id {user_inner_id} are: {raw_user_ids}\")"
   ]
  },
  {
   "cell_type": "markdown",
   "metadata": {
    "id": "Z0NsrX_anVNH"
   },
   "source": [
    "### **Implementing the recommendation algorithm based on optimized KNNBasic model**\n"
   ]
  },
  {
   "cell_type": "markdown",
   "metadata": {
    "id": "U3ESobDynVNI"
   },
   "source": [
    "Below we will be implementing a function where the input parameters are:\n",
    "\n",
    "- data: A **rating** dataset\n",
    "- user_id: A user id **against which we want the recommendations**\n",
    "- top_n: The **number of products we want to recommend**\n",
    "- algo: the algorithm we want to use **for predicting the ratings**\n",
    "- The output of the function is a **set of top_n items** recommended for the given user_id based on the given algorithm\n"
   ]
  },
  {
   "cell_type": "code",
   "execution_count": 38,
   "metadata": {
    "id": "vW9V1Tk65HlY"
   },
   "outputs": [],
   "source": [
    "def get_recommendations(data, user_id, top_n, algo):\n",
    "\n",
    "    # Creating an empty list to store the recommended product ids\n",
    "    recommendations = []\n",
    "\n",
    "    # Creating an user item interactions matrix\n",
    "    user_item_interactions_matrix = data.pivot(index=\"user_id\", columns=\"prod_id\", values=\"rating\")\n",
    "\n",
    "    # Extracting those product ids which the user_id has not interacted yet\n",
    "    non_interacted_products = user_item_interactions_matrix.loc[user_id][\n",
    "        user_item_interactions_matrix.loc[user_id].isnull()\n",
    "    ].index.tolist()\n",
    "\n",
    "    # Looping through each of the product ids which user_id has not interacted yet\n",
    "    for item_id in non_interacted_products:\n",
    "\n",
    "        # Predicting the ratings for those non interacted product ids by this user\n",
    "        est = algo.predict(user_id, item_id).est\n",
    "\n",
    "        # Appending the predicted ratings\n",
    "        recommendations.append((item_id, est))\n",
    "\n",
    "    # Sorting the predicted ratings in descending order\n",
    "    recommendations.sort(key=lambda x: x[1], reverse=True)\n",
    "\n",
    "    return recommendations[:top_n]  # Returing top n highest predicted rating products for this user"
   ]
  },
  {
   "cell_type": "markdown",
   "metadata": {
    "id": "Oj_S7kh4nVNI"
   },
   "source": [
    "**Predicting top 5 products for userId = \"A3LDPF5FMB782Z\" with similarity based recommendation system**\n"
   ]
  },
  {
   "cell_type": "code",
   "execution_count": 39,
   "metadata": {
    "id": "qWbR85mI5Hrk"
   },
   "outputs": [],
   "source": [
    "# Making top 5 recommendations for user_id \"A3LDPF5FMB782Z\" with a similarity-based recommendation engine\n",
    "top_n_recommendations = get_recommendations(df_final, \"A3LDPF5FMB782Z\", 5, model)"
   ]
  },
  {
   "cell_type": "code",
   "execution_count": 40,
   "metadata": {
    "id": "b5WfIX0Z6_q2"
   },
   "outputs": [
    {
     "name": "stdout",
     "output_type": "stream",
     "text": [
      "      prod_id  predicted_ratings\n",
      "0  B000067RT6                  5\n",
      "1  B000BQ7GW8                  5\n",
      "2  B001ENW61I                  5\n",
      "3  B001TH7GUU                  5\n",
      "4  B001TH7T2U                  5\n"
     ]
    }
   ],
   "source": [
    "# Building the dataframe for above recommendations with columns \"prod_id\" and \"predicted_ratings\"\n",
    "recommendations_df = pd.DataFrame(top_n_recommendations, columns=[\"prod_id\", \"predicted_ratings\"])\n",
    "print(recommendations_df)"
   ]
  },
  {
   "cell_type": "markdown",
   "metadata": {
    "id": "QgbzJKk7Tsnr"
   },
   "source": [
    "### **Item-Item Similarity-based Collaborative Filtering Recommendation System**\n"
   ]
  },
  {
   "cell_type": "markdown",
   "metadata": {
    "id": "qTJu_2hcTsnr"
   },
   "source": [
    "- Above we have seen **similarity-based collaborative filtering** where similarity is calculated **between users**. Now let us look into similarity-based collaborative filtering where similarity is seen **between items**.\n"
   ]
  },
  {
   "cell_type": "code",
   "execution_count": 41,
   "metadata": {
    "id": "W5RMcdzjTsns",
    "scrolled": false
   },
   "outputs": [
    {
     "name": "stdout",
     "output_type": "stream",
     "text": [
      "Computing the cosine similarity matrix...\n",
      "Done computing similarity matrix.\n",
      "RMSE: 0.9950\n",
      "Precision:  0.838\n",
      "Recall:  0.845\n",
      "F_1 score:  0.841\n"
     ]
    }
   ],
   "source": [
    "# Declaring the similarity options\n",
    "sim_options = {\"name\": \"cosine\", \"user_based\": False}  # Compute similarities between items\n",
    "\n",
    "# KNN algorithm is used to find desired similar items. Use random_state=1\n",
    "algo = KNNBasic(sim_options=sim_options, random_state=1)\n",
    "algo.fit(trainset)\n",
    "\n",
    "# Train the algorithm on the trainset, and predict ratings for the test set\n",
    "predictions = algo.test(testset)\n",
    "\n",
    "# Let us compute precision@k, recall@k, and f_1 score with k = 10\n",
    "precision_recall_at_k(algo, testset, k=10, threshold=3.5)"
   ]
  },
  {
   "cell_type": "markdown",
   "metadata": {
    "id": "ni9LoeUVTsns"
   },
   "source": [
    "**Write your observations here:\\*\\*\\*\\***\\_\\_\\_\\_\\*\\*\\*\\*\n"
   ]
  },
  {
   "cell_type": "markdown",
   "metadata": {
    "id": "jFbcDQmxTsns"
   },
   "source": [
    "Let's now **predict a rating for a user with `user_id = A3LDPF5FMB782Z` and `prod_Id = 1400501466`** as shown below. Here the user has already interacted or watched the product with productId \"1400501466\".\n"
   ]
  },
  {
   "cell_type": "code",
   "execution_count": 42,
   "metadata": {
    "id": "JsF-aaWYTsns"
   },
   "outputs": [
    {
     "name": "stdout",
     "output_type": "stream",
     "text": [
      "Estimated rating for user A3LDPF5FMB782Z for product 1400501466 is 4.2727272727272725\n",
      "RMSE: 0.9950\n",
      "Precision:  0.838\n",
      "Recall:  0.845\n",
      "F_1 score:  0.841\n"
     ]
    }
   ],
   "source": [
    "# Predicting rating for a sample user with an interacted product\n",
    "# After training the model, predict the rating for the specified user and product\n",
    "user_id = \"A3LDPF5FMB782Z\"  # User ID\n",
    "prod_id = \"1400501466\"  # Product ID\n",
    "\n",
    "# Perform the prediction\n",
    "prediction = algo.predict(user_id, prod_id)\n",
    "\n",
    "# Output the estimated rating\n",
    "print(f\"Estimated rating for user {user_id} for product {prod_id} is {prediction.est}\")\n",
    "\n",
    "# Now, let's compute precision@k, recall@k, and F1 score with k=10 and threshold=3.5\n",
    "# Assuming precision_recall_at_k is defined to calculate and print these metrics\n",
    "precision_recall_at_k(algo, testset, k=10, threshold=3.5)"
   ]
  },
  {
   "cell_type": "markdown",
   "metadata": {
    "id": "2h0OyDMFTsns"
   },
   "source": [
    "**Write your observations here:\\*\\*\\*\\***\\_\\_\\_\\_\\*\\*\\*\\*\n"
   ]
  },
  {
   "cell_type": "markdown",
   "metadata": {
    "id": "BqKGZoAtTsns"
   },
   "source": [
    "Below we are **predicting rating for the `user_id = A2UOHALGF2X77Q` and `prod_id = 1400501466`**.\n"
   ]
  },
  {
   "cell_type": "code",
   "execution_count": 43,
   "metadata": {
    "id": "5yILOxXRTsns"
   },
   "outputs": [
    {
     "name": "stdout",
     "output_type": "stream",
     "text": [
      "user: A2UOHALGF2X77Q item: 1400501466 r_ui = None   est = 4.00   {'actual_k': 1, 'was_impossible': False}\n",
      "Estimated rating for user A2UOHALGF2X77Q for product 1400501466 is 4.0\n"
     ]
    }
   ],
   "source": [
    "# Predicting rating for a sample user with a non interacted product\n",
    "user_id = \"A2UOHALGF2X77Q\"  # User ID\n",
    "prod_id = \"1400501466\"  # Product ID\n",
    "\n",
    "# Perform the prediction\n",
    "prediction = algo.predict(user_id, prod_id, verbose=True)\n",
    "\n",
    "# Output the estimated rating\n",
    "print(f\"Estimated rating for user {user_id} for product {prod_id} is {prediction.est}\")"
   ]
  },
  {
   "cell_type": "markdown",
   "metadata": {
    "id": "sDKaAveJTsns"
   },
   "source": [
    "**Write your observations here:\\*\\*\\*\\***\\_\\_\\_\\_\\*\\*\\*\\*\n"
   ]
  },
  {
   "cell_type": "markdown",
   "metadata": {
    "id": "meSvpNLj_EjD"
   },
   "source": [
    "### **Hyperparameter tuning the item-item similarity-based model**\n",
    "\n",
    "- Use the following values for the param_grid and tune the model.\n",
    "  - 'k': [10, 20, 30]\n",
    "  - 'min_k': [3, 6, 9]\n",
    "  - 'sim_options': {'name': ['msd', 'cosine']\n",
    "  - 'user_based': [False]\n",
    "- Use GridSearchCV() to tune the model using the 'rmse' measure\n",
    "- Print the best score and best parameters\n"
   ]
  },
  {
   "cell_type": "code",
   "execution_count": 44,
   "metadata": {
    "id": "f5bcZ3HgTsnt"
   },
   "outputs": [
    {
     "name": "stdout",
     "output_type": "stream",
     "text": [
      "Computing the msd similarity matrix...\n",
      "Done computing similarity matrix.\n",
      "Computing the msd similarity matrix...\n",
      "Done computing similarity matrix.\n",
      "Computing the msd similarity matrix...\n",
      "Done computing similarity matrix.\n",
      "Computing the cosine similarity matrix...\n",
      "Done computing similarity matrix.\n",
      "Computing the cosine similarity matrix...\n",
      "Done computing similarity matrix.\n",
      "Computing the cosine similarity matrix...\n",
      "Done computing similarity matrix.\n",
      "Computing the msd similarity matrix...\n",
      "Done computing similarity matrix.\n",
      "Computing the msd similarity matrix...\n",
      "Done computing similarity matrix.\n",
      "Computing the msd similarity matrix...\n",
      "Done computing similarity matrix.\n",
      "Computing the cosine similarity matrix...\n",
      "Done computing similarity matrix.\n",
      "Computing the cosine similarity matrix...\n",
      "Done computing similarity matrix.\n",
      "Computing the cosine similarity matrix...\n",
      "Done computing similarity matrix.\n",
      "Computing the msd similarity matrix...\n",
      "Done computing similarity matrix.\n",
      "Computing the msd similarity matrix...\n",
      "Done computing similarity matrix.\n",
      "Computing the msd similarity matrix...\n",
      "Done computing similarity matrix.\n",
      "Computing the cosine similarity matrix...\n",
      "Done computing similarity matrix.\n",
      "Computing the cosine similarity matrix...\n",
      "Done computing similarity matrix.\n",
      "Computing the cosine similarity matrix...\n",
      "Done computing similarity matrix.\n",
      "Computing the msd similarity matrix...\n",
      "Done computing similarity matrix.\n",
      "Computing the msd similarity matrix...\n",
      "Done computing similarity matrix.\n",
      "Computing the msd similarity matrix...\n",
      "Done computing similarity matrix.\n",
      "Computing the cosine similarity matrix...\n",
      "Done computing similarity matrix.\n",
      "Computing the cosine similarity matrix...\n",
      "Done computing similarity matrix.\n",
      "Computing the cosine similarity matrix...\n",
      "Done computing similarity matrix.\n",
      "Computing the msd similarity matrix...\n",
      "Done computing similarity matrix.\n",
      "Computing the msd similarity matrix...\n",
      "Done computing similarity matrix.\n",
      "Computing the msd similarity matrix...\n",
      "Done computing similarity matrix.\n",
      "Computing the cosine similarity matrix...\n",
      "Done computing similarity matrix.\n",
      "Computing the cosine similarity matrix...\n",
      "Done computing similarity matrix.\n",
      "Computing the cosine similarity matrix...\n",
      "Done computing similarity matrix.\n",
      "Computing the msd similarity matrix...\n",
      "Done computing similarity matrix.\n",
      "Computing the msd similarity matrix...\n",
      "Done computing similarity matrix.\n",
      "Computing the msd similarity matrix...\n",
      "Done computing similarity matrix.\n",
      "Computing the cosine similarity matrix...\n",
      "Done computing similarity matrix.\n",
      "Computing the cosine similarity matrix...\n",
      "Done computing similarity matrix.\n",
      "Computing the cosine similarity matrix...\n",
      "Done computing similarity matrix.\n",
      "Computing the msd similarity matrix...\n",
      "Done computing similarity matrix.\n",
      "Computing the msd similarity matrix...\n",
      "Done computing similarity matrix.\n",
      "Computing the msd similarity matrix...\n",
      "Done computing similarity matrix.\n",
      "Computing the cosine similarity matrix...\n",
      "Done computing similarity matrix.\n",
      "Computing the cosine similarity matrix...\n",
      "Done computing similarity matrix.\n",
      "Computing the cosine similarity matrix...\n",
      "Done computing similarity matrix.\n",
      "Computing the msd similarity matrix...\n",
      "Done computing similarity matrix.\n",
      "Computing the msd similarity matrix...\n",
      "Done computing similarity matrix.\n",
      "Computing the msd similarity matrix...\n",
      "Done computing similarity matrix.\n",
      "Computing the cosine similarity matrix...\n",
      "Done computing similarity matrix.\n",
      "Computing the cosine similarity matrix...\n",
      "Done computing similarity matrix.\n",
      "Computing the cosine similarity matrix...\n",
      "Done computing similarity matrix.\n",
      "Computing the msd similarity matrix...\n",
      "Done computing similarity matrix.\n",
      "Computing the msd similarity matrix...\n",
      "Done computing similarity matrix.\n",
      "Computing the msd similarity matrix...\n",
      "Done computing similarity matrix.\n",
      "Computing the cosine similarity matrix...\n",
      "Done computing similarity matrix.\n",
      "Computing the cosine similarity matrix...\n",
      "Done computing similarity matrix.\n",
      "Computing the cosine similarity matrix...\n",
      "Done computing similarity matrix.\n",
      "Best RMSE score: 0.976176731505019\n",
      "Best parameters: {'k': 30, 'min_k': 9, 'sim_options': {'name': 'msd', 'user_based': False}}\n"
     ]
    }
   ],
   "source": [
    "# Setting up parameter grid to tune the hyperparameters\n",
    "param_grid = {\"k\": [10, 20, 30], \"min_k\": [3, 6, 9], \"sim_options\": {\"name\": [\"msd\", \"cosine\"], \"user_based\": [False]}}\n",
    "\n",
    "# Performing 3-fold cross validation to tune the hyperparameters\n",
    "gs = GridSearchCV(KNNBasic, param_grid, measures=[\"rmse\"], cv=3)\n",
    "\n",
    "# Fitting the data\n",
    "gs.fit(data)\n",
    "\n",
    "# Find the best RMSE score\n",
    "best_rmse = gs.best_score[\"rmse\"]\n",
    "print(f\"Best RMSE score: {best_rmse}\")\n",
    "\n",
    "# Find the combination of parameters that gave the best RMSE score\n",
    "print(f\"Best parameters: {gs.best_params['rmse']}\")"
   ]
  },
  {
   "cell_type": "markdown",
   "metadata": {
    "id": "1psOlx6zTsnt"
   },
   "source": [
    "Once the **grid search** is complete, we can get the **optimal values for each of those hyperparameters as shown above.**\n"
   ]
  },
  {
   "cell_type": "markdown",
   "metadata": {
    "id": "JrSTaQemTsnt"
   },
   "source": [
    "Now let's build the **final model** by using **tuned values of the hyperparameters** which we received by using grid search cross-validation.\n"
   ]
  },
  {
   "cell_type": "markdown",
   "metadata": {
    "id": "kOS9Dwnd_LN6"
   },
   "source": [
    "### **Use the best parameters from GridSearchCV to build the optimized item-item similarity-based model. Compare the performance of the optimized model with the baseline model.**\n"
   ]
  },
  {
   "cell_type": "code",
   "execution_count": 45,
   "metadata": {
    "id": "dSeiM1qeTsnt"
   },
   "outputs": [
    {
     "name": "stdout",
     "output_type": "stream",
     "text": [
      "Computing the msd similarity matrix...\n",
      "Done computing similarity matrix.\n",
      "RMSE: 0.9578\n",
      "Precision:  0.839\n",
      "Recall:  0.88\n",
      "F_1 score:  0.859\n"
     ]
    }
   ],
   "source": [
    "# Using the optimal similarity measure for item-item based collaborative filtering\n",
    "\n",
    "# Creating an instance of KNNBasic with optimal hyperparameter values\n",
    "algo = KNNBasic(k=20, min_k=6, sim_options={\"name\": \"msd\", \"user_based\": False})\n",
    "\n",
    "# Training the algorithm on the trainset\n",
    "algo.fit(trainset)\n",
    "\n",
    "# Let us compute precision@k and recall@k, f1_score and RMSE\n",
    "precision_recall_at_k(algo, testset, k=10, threshold=3.5)"
   ]
  },
  {
   "cell_type": "markdown",
   "metadata": {
    "id": "ZCXKnMI8Tsnt"
   },
   "source": [
    "**Write your observations here:\\*\\***\\_\\_**\\*\\***\n"
   ]
  },
  {
   "cell_type": "markdown",
   "metadata": {
    "id": "Sbcj_H94Tsnt"
   },
   "source": [
    "### **Steps:**\n",
    "\n",
    "- **Predict rating for the user with `user_id=\"A3LDPF5FMB782Z\"`, and `prod_id= \"1400501466\"` using the optimized model**\n",
    "- **Predict rating for `user_id=\"A2UOHALGF2X77Q\"` who has not interacted with `prod_id =\"1400501466\"`, by using the optimized model**\n",
    "- **Compare the output with the output from the baseline model**\n"
   ]
  },
  {
   "cell_type": "code",
   "execution_count": 46,
   "metadata": {
    "id": "gIBRRvdoTsnt"
   },
   "outputs": [
    {
     "name": "stdout",
     "output_type": "stream",
     "text": [
      "Optimized model prediction: 4.7105263157894735\n"
     ]
    }
   ],
   "source": [
    "# Use sim_item_item_optimized model to recommend for userId \"A3LDPF5FMB782Z\" and productId \"1400501466\"\n",
    "user_id = \"A3LDPF5FMB782Z\"\n",
    "prod_id = \"1400501466\"\n",
    "optimized_prediction = algo.predict(user_id, prod_id)\n",
    "print(f\"Optimized model prediction: {optimized_prediction.est}\")"
   ]
  },
  {
   "cell_type": "code",
   "execution_count": 47,
   "metadata": {},
   "outputs": [
    {
     "name": "stdout",
     "output_type": "stream",
     "text": [
      "Optimized model prediction for new interaction: 4.292024046561495\n"
     ]
    }
   ],
   "source": [
    "# Use sim_item_item_optimized model to recommend for userId \"A2UOHALGF2X77Q\" and productId \"1400501466\"\n",
    "user_id = \"A2UOHALGF2X77Q\"\n",
    "prod_id = \"1400501466\"\n",
    "optimized_prediction_new_user = algo.predict(user_id, prod_id)\n",
    "print(f\"Optimized model prediction for new interaction: {optimized_prediction_new_user.est}\")"
   ]
  },
  {
   "cell_type": "code",
   "execution_count": 48,
   "metadata": {},
   "outputs": [
    {
     "name": "stdout",
     "output_type": "stream",
     "text": [
      "Computing the msd similarity matrix...\n",
      "Done computing similarity matrix.\n",
      "Baseline model prediction: 4.849056603773586\n",
      "Baseline model prediction for new interaction: 5\n"
     ]
    }
   ],
   "source": [
    "# Example baseline model, replace with your actual baseline model and its parameters\n",
    "algo_baseline = KNNBasic()\n",
    "algo_baseline.fit(trainset)\n",
    "\n",
    "# Predict with the baseline model for comparison\n",
    "baseline_prediction = algo_baseline.predict(\"A3LDPF5FMB782Z\", \"1400501466\")\n",
    "baseline_prediction_new_user = algo_baseline.predict(\"A2UOHALGF2X77Q\", \"1400501466\")\n",
    "\n",
    "print(f\"Baseline model prediction: {baseline_prediction.est}\")\n",
    "print(f\"Baseline model prediction for new interaction: {baseline_prediction_new_user.est}\")"
   ]
  },
  {
   "cell_type": "markdown",
   "metadata": {},
   "source": [
    "**Write your observations here:\\*\\***\\_\\_**\\*\\***\n"
   ]
  },
  {
   "cell_type": "markdown",
   "metadata": {
    "id": "MDlNB7tnTsnu"
   },
   "source": [
    "### **Identifying similar items to a given item (nearest neighbors)**\n"
   ]
  },
  {
   "cell_type": "markdown",
   "metadata": {
    "id": "RLdDiFA6Tsnu"
   },
   "source": [
    "We can also find out **similar items** to a given item or its nearest neighbors based on this **KNNBasic algorithm**. Below we are finding the 5 most similar items to the item with internal id 0 based on the `msd` distance metric.\n"
   ]
  },
  {
   "cell_type": "code",
   "execution_count": 49,
   "metadata": {
    "id": "ZRJS4oDFTsnu"
   },
   "outputs": [
    {
     "name": "stdout",
     "output_type": "stream",
     "text": [
      "The 5 nearest neighbors of item B005G0CUP2 are:\n",
      "B008X9Z3UC\n",
      "B003ZSHKJ8\n",
      "B003LSTD38\n",
      "B005EOWBKE\n",
      "B004IZN3WU\n"
     ]
    }
   ],
   "source": [
    "# Retrieve the inner id of the item\n",
    "item_inner_id = 0\n",
    "\n",
    "# Retrieve the k nearest neighbors of the item (k=5)\n",
    "neighbors = algo.get_neighbors(item_inner_id, k=5)\n",
    "\n",
    "# Convert inner ids of the neighbors into raw ids\n",
    "neighbors_raw_ids = [algo.trainset.to_raw_iid(inner_id) for inner_id in neighbors]\n",
    "\n",
    "print(f\"The 5 nearest neighbors of item {algo.trainset.to_raw_iid(item_inner_id)} are:\")\n",
    "for raw_id in neighbors_raw_ids:\n",
    "    print(raw_id)"
   ]
  },
  {
   "cell_type": "markdown",
   "metadata": {},
   "source": [
    "**Predicting top 5 products for userId = \"A1A5KUIIIHFF4U\" with similarity based recommendation system.**\n",
    "\n",
    "**Hint:** Use the get_recommendations() function.\n"
   ]
  },
  {
   "cell_type": "code",
   "execution_count": 50,
   "metadata": {
    "id": "rzoEbuZFTsnu"
   },
   "outputs": [],
   "source": [
    "# Making top 5 recommendations for user_id A1A5KUIIIHFF4U with similarity-based recommendation engine.\n",
    "# User ID for whom we want to make recommendations\n",
    "user_id = \"A1A5KUIIIHFF4U\"\n",
    "\n",
    "# Number of recommendations to generate\n",
    "top_n = 5\n",
    "\n",
    "# Calling the get_recommendations() function\n",
    "top_recommendations = get_recommendations(df_final, user_id, top_n, algo)"
   ]
  },
  {
   "cell_type": "code",
   "execution_count": 51,
   "metadata": {
    "id": "_kXVTiysTsnv"
   },
   "outputs": [
    {
     "name": "stdout",
     "output_type": "stream",
     "text": [
      "      prod_id  predicted_rating\n",
      "0  1400532655          4.292024\n",
      "1  1400599997          4.292024\n",
      "2  9983891212          4.292024\n",
      "3  B00000DM9W          4.292024\n",
      "4  B00000J1V5          4.292024\n"
     ]
    }
   ],
   "source": [
    "# Building the dataframe for above recommendations with columns \"prod_id\" and \"predicted_ratings\"\n",
    "recommendations_df = pd.DataFrame(top_recommendations, columns=[\"prod_id\", \"predicted_rating\"])\n",
    "\n",
    "print(recommendations_df)"
   ]
  },
  {
   "cell_type": "markdown",
   "metadata": {
    "id": "DHzmYvs0Tsnv"
   },
   "source": [
    "Now as we have seen **similarity-based collaborative filtering algorithms**, let us now get into **model-based collaborative filtering algorithms**.\n"
   ]
  },
  {
   "cell_type": "markdown",
   "metadata": {
    "id": "rKgJpSA9vOOL"
   },
   "source": [
    "### **Model 3: Model-Based Collaborative Filtering - Matrix Factorization**\n"
   ]
  },
  {
   "cell_type": "markdown",
   "metadata": {
    "id": "YF6ZGyqhCAob"
   },
   "source": [
    "Model-based Collaborative Filtering is a **personalized recommendation system**, the recommendations are based on the past behavior of the user and it is not dependent on any additional information. We use **latent features** to find recommendations for each user.\n"
   ]
  },
  {
   "cell_type": "markdown",
   "metadata": {
    "id": "n4Otha8ovOOL"
   },
   "source": [
    "### Singular Value Decomposition (SVD)\n"
   ]
  },
  {
   "cell_type": "markdown",
   "metadata": {
    "id": "3sGl3QkLvOOL"
   },
   "source": [
    "SVD is used to **compute the latent features** from the **user-item matrix**. But SVD does not work when we **miss values** in the **user-item matrix**.\n"
   ]
  },
  {
   "cell_type": "code",
   "execution_count": 52,
   "metadata": {
    "id": "07-2PT5Ssjqm"
   },
   "outputs": [
    {
     "name": "stdout",
     "output_type": "stream",
     "text": [
      "RMSE: 0.8882\n",
      "Precision:  0.853\n",
      "Recall:  0.88\n",
      "F_1 score:  0.866\n"
     ]
    }
   ],
   "source": [
    "# Using SVD matrix factorization. Use random_state = 1\n",
    "algo = SVD(random_state=1)\n",
    "\n",
    "# Training the algorithm on the trainset\n",
    "algo.fit(trainset)\n",
    "\n",
    "# Use the function precision_recall_at_k to compute precision@k, recall@k, F1-Score, and RMSE\n",
    "precision_recall_at_k(algo, testset, k=10, threshold=3.5)"
   ]
  },
  {
   "cell_type": "markdown",
   "metadata": {
    "id": "BQ6fTuCDnVNL"
   },
   "source": [
    "**Write your observations here:\\*\\***\\_\\_\\_**\\*\\***\n"
   ]
  },
  {
   "cell_type": "markdown",
   "metadata": {},
   "source": [
    "**Let's now predict the rating for a user with `userId = \"A3LDPF5FMB782Z\"` and `prod_id = \"1400501466`.**\n"
   ]
  },
  {
   "cell_type": "code",
   "execution_count": 53,
   "metadata": {
    "id": "yWIhfdxXsjqm"
   },
   "outputs": [
    {
     "name": "stdout",
     "output_type": "stream",
     "text": [
      "Optimized model prediction: 4.081406749810685\n"
     ]
    }
   ],
   "source": [
    "# Making prediction\n",
    "svd_prediction = algo.predict(\"A3LDPF5FMB782Z\", \"1400501466\")\n",
    "print(f\"Optimized model prediction: {svd_prediction.est}\")"
   ]
  },
  {
   "cell_type": "markdown",
   "metadata": {
    "id": "oIjzqDY5nVNM"
   },
   "source": [
    "**Write your observations here:\\*\\***\\_\\_\\_**\\*\\***\n"
   ]
  },
  {
   "cell_type": "markdown",
   "metadata": {
    "id": "I1aYxVeMnVNM"
   },
   "source": [
    "**Below we are predicting rating for the `userId = \"A2UOHALGF2X77Q\"` and `productId = \"1400501466\"`.**\n"
   ]
  },
  {
   "cell_type": "code",
   "execution_count": 54,
   "metadata": {
    "id": "APm-uMSvcAMf"
   },
   "outputs": [
    {
     "name": "stdout",
     "output_type": "stream",
     "text": [
      "Optimized model prediction for new interaction: 4.156510633154892\n"
     ]
    }
   ],
   "source": [
    "# Making prediction\n",
    "svd_prediction_new_user = algo.predict(\"A2UOHALGF2X77Q\", \"1400501466\")\n",
    "print(f\"Optimized model prediction for new interaction: {svd_prediction_new_user.est}\")"
   ]
  },
  {
   "cell_type": "markdown",
   "metadata": {
    "id": "NEL6dy3wnVNM"
   },
   "source": [
    "**Write your observations here:\\*\\***\\_\\_\\_**\\*\\***\n"
   ]
  },
  {
   "cell_type": "markdown",
   "metadata": {
    "id": "x13Eb9Owvpcw"
   },
   "source": [
    "### **Improving Matrix Factorization based recommendation system by tuning its hyperparameters**\n"
   ]
  },
  {
   "cell_type": "markdown",
   "metadata": {
    "id": "iQcDPhhcnVNN"
   },
   "source": [
    "Below we will be tuning only three hyperparameters:\n",
    "\n",
    "- **n_epochs**: The number of iterations of the SGD algorithm.\n",
    "- **lr_all**: The learning rate for all parameters.\n",
    "- **reg_all**: The regularization term for all parameters.\n"
   ]
  },
  {
   "cell_type": "code",
   "execution_count": 55,
   "metadata": {
    "id": "4bM81V_hvtwv"
   },
   "outputs": [
    {
     "name": "stdout",
     "output_type": "stream",
     "text": [
      "Best RMSE score: 0.899338893477159\n",
      "Best parameters: {'n_epochs': 20, 'lr_all': 0.01, 'reg_all': 0.5}\n"
     ]
    }
   ],
   "source": [
    "# Set the parameter space to tune\n",
    "param_grid = {\"n_epochs\": [5, 10, 20], \"lr_all\": [0.002, 0.005, 0.01], \"reg_all\": [0.02, 0.1, 0.5]}\n",
    "\n",
    "# Performing 3-fold gridsearch cross-validation\n",
    "gs = GridSearchCV(SVD, param_grid, measures=[\"rmse\"], cv=3)\n",
    "\n",
    "# Fitting data\n",
    "gs.fit(data)\n",
    "\n",
    "# Best RMSE score\n",
    "best_rmse = gs.best_score[\"rmse\"]\n",
    "print(f\"Best RMSE score: {best_rmse}\")\n",
    "\n",
    "# Combination of parameters that gave the best RMSE score\n",
    "print(f\"Best parameters: {gs.best_params['rmse']}\")"
   ]
  },
  {
   "cell_type": "markdown",
   "metadata": {
    "id": "KzY78HsrnVNO"
   },
   "source": [
    "Now, we will **the build final model** by using **tuned values** of the hyperparameters, which we received using grid search cross-validation above.\n"
   ]
  },
  {
   "cell_type": "code",
   "execution_count": 59,
   "metadata": {
    "id": "TA_7xe-nnhuu"
   },
   "outputs": [
    {
     "name": "stdout",
     "output_type": "stream",
     "text": [
      "RMSE: 0.8836\n",
      "Precision:  0.853\n",
      "Recall:  0.888\n",
      "F_1 score:  0.87\n"
     ]
    }
   ],
   "source": [
    "# Build the optimized SVD model using optimal hyperparameter search. Use random_state=1\n",
    "svd_algo_optimized = SVD(n_epochs=20, lr_all=0.01, reg_all=0.5, random_state=1)\n",
    "\n",
    "# Train the algorithm on the trainset\n",
    "svd_algo_optimized.fit(trainset)\n",
    "\n",
    "# Use the function precision_recall_at_k to compute precision@k, recall@k, F1-Score, and RMSE\n",
    "precision_recall_at_k(svd_algo_optimized, testset, k=10, threshold=3.5)"
   ]
  },
  {
   "cell_type": "markdown",
   "metadata": {
    "id": "9HJvPsjITsny"
   },
   "source": [
    "**Write your observations here:\\*\\*\\*\\***\\_**\\*\\*\\*\\***\n"
   ]
  },
  {
   "cell_type": "markdown",
   "metadata": {},
   "source": [
    "### **Steps:**\n",
    "\n",
    "- **Predict rating for the user with `userId=\"A3LDPF5FMB782Z\"`, and `prod_id= \"1400501466\"` using the optimized model**\n",
    "- **Predict rating for `userId=\"A2UOHALGF2X77Q\"` who has not interacted with `prod_id =\"1400501466\"`, by using the optimized model**\n",
    "- **Compare the output with the output from the baseline model**\n"
   ]
  },
  {
   "cell_type": "code",
   "execution_count": 60,
   "metadata": {},
   "outputs": [
    {
     "name": "stdout",
     "output_type": "stream",
     "text": [
      "Optimized model prediction: 4.018040777771637\n"
     ]
    }
   ],
   "source": [
    "# Use svd_algo_optimized model to recommend for userId \"A3LDPF5FMB782Z\" and productId \"1400501466\"\n",
    "svd_prediction = svd_algo_optimized.predict(\"A3LDPF5FMB782Z\", \"1400501466\")\n",
    "print(f\"Optimized model prediction: {svd_prediction.est}\")"
   ]
  },
  {
   "cell_type": "code",
   "execution_count": 61,
   "metadata": {},
   "outputs": [
    {
     "name": "stdout",
     "output_type": "stream",
     "text": [
      "Optimized model prediction for new interaction: 4.074832668136109\n"
     ]
    }
   ],
   "source": [
    "# Use svd_algo_optimized model to recommend for userId \"A2UOHALGF2X77Q\" and productId \"1400501466\"\n",
    "svd_prediction_new_user = svd_algo_optimized.predict(\"A2UOHALGF2X77Q\", \"1400501466\")\n",
    "print(f\"Optimized model prediction for new interaction: {svd_prediction_new_user.est}\")"
   ]
  },
  {
   "cell_type": "markdown",
   "metadata": {
    "id": "nnwPwgjB8DwS"
   },
   "source": [
    "### **Conclusion and Recommendations**\n"
   ]
  },
  {
   "cell_type": "markdown",
   "metadata": {
    "id": "xuqnifw9NF2p"
   },
   "source": [
    "**Write your conclusion and recommendations here**\n"
   ]
  }
 ],
 "metadata": {
  "colab": {
   "provenance": []
  },
  "kernelspec": {
   "display_name": "Python 3 (ipykernel)",
   "language": "python",
   "name": "python3"
  },
  "language_info": {
   "codemirror_mode": {
    "name": "ipython",
    "version": 3
   },
   "file_extension": ".py",
   "mimetype": "text/x-python",
   "name": "python",
   "nbconvert_exporter": "python",
   "pygments_lexer": "ipython3",
   "version": "3.10.12"
  }
 },
 "nbformat": 4,
 "nbformat_minor": 1
}
